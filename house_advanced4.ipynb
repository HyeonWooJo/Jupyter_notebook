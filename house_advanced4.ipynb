{
 "cells": [
  {
   "cell_type": "code",
   "execution_count": 1,
   "metadata": {},
   "outputs": [],
   "source": [
    "import tensorflow as tf\n",
    "import numpy as np\n",
    "import pandas as pd\n",
    "import seaborn as sns\n",
    "import matplotlib.pyplot as plt"
   ]
  },
  {
   "cell_type": "code",
   "execution_count": null,
   "metadata": {},
   "outputs": [],
   "source": []
  },
  {
   "cell_type": "markdown",
   "metadata": {},
   "source": [
    "# Data 불러오기"
   ]
  },
  {
   "cell_type": "code",
   "execution_count": 712,
   "metadata": {},
   "outputs": [],
   "source": [
    "train = pd.read_csv('data/train.csv')\n",
    "test = pd.read_csv('data/test.csv')"
   ]
  },
  {
   "cell_type": "code",
   "execution_count": 713,
   "metadata": {},
   "outputs": [
    {
     "data": {
      "text/plain": [
       "((1460, 81), (1459, 80))"
      ]
     },
     "execution_count": 713,
     "metadata": {},
     "output_type": "execute_result"
    }
   ],
   "source": [
    "train.shape, test.shape"
   ]
  },
  {
   "cell_type": "code",
   "execution_count": 714,
   "metadata": {},
   "outputs": [
    {
     "data": {
      "text/html": [
       "<div>\n",
       "<style scoped>\n",
       "    .dataframe tbody tr th:only-of-type {\n",
       "        vertical-align: middle;\n",
       "    }\n",
       "\n",
       "    .dataframe tbody tr th {\n",
       "        vertical-align: top;\n",
       "    }\n",
       "\n",
       "    .dataframe thead th {\n",
       "        text-align: right;\n",
       "    }\n",
       "</style>\n",
       "<table border=\"1\" class=\"dataframe\">\n",
       "  <thead>\n",
       "    <tr style=\"text-align: right;\">\n",
       "      <th></th>\n",
       "      <th>Id</th>\n",
       "      <th>MSSubClass</th>\n",
       "      <th>MSZoning</th>\n",
       "      <th>LotFrontage</th>\n",
       "      <th>LotArea</th>\n",
       "      <th>Street</th>\n",
       "      <th>Alley</th>\n",
       "      <th>LotShape</th>\n",
       "      <th>LandContour</th>\n",
       "      <th>Utilities</th>\n",
       "      <th>...</th>\n",
       "      <th>PoolArea</th>\n",
       "      <th>PoolQC</th>\n",
       "      <th>Fence</th>\n",
       "      <th>MiscFeature</th>\n",
       "      <th>MiscVal</th>\n",
       "      <th>MoSold</th>\n",
       "      <th>YrSold</th>\n",
       "      <th>SaleType</th>\n",
       "      <th>SaleCondition</th>\n",
       "      <th>SalePrice</th>\n",
       "    </tr>\n",
       "  </thead>\n",
       "  <tbody>\n",
       "    <tr>\n",
       "      <th>0</th>\n",
       "      <td>1</td>\n",
       "      <td>60</td>\n",
       "      <td>RL</td>\n",
       "      <td>65.0</td>\n",
       "      <td>8450</td>\n",
       "      <td>Pave</td>\n",
       "      <td>NaN</td>\n",
       "      <td>Reg</td>\n",
       "      <td>Lvl</td>\n",
       "      <td>AllPub</td>\n",
       "      <td>...</td>\n",
       "      <td>0</td>\n",
       "      <td>NaN</td>\n",
       "      <td>NaN</td>\n",
       "      <td>NaN</td>\n",
       "      <td>0</td>\n",
       "      <td>2</td>\n",
       "      <td>2008</td>\n",
       "      <td>WD</td>\n",
       "      <td>Normal</td>\n",
       "      <td>208500</td>\n",
       "    </tr>\n",
       "    <tr>\n",
       "      <th>1</th>\n",
       "      <td>2</td>\n",
       "      <td>20</td>\n",
       "      <td>RL</td>\n",
       "      <td>80.0</td>\n",
       "      <td>9600</td>\n",
       "      <td>Pave</td>\n",
       "      <td>NaN</td>\n",
       "      <td>Reg</td>\n",
       "      <td>Lvl</td>\n",
       "      <td>AllPub</td>\n",
       "      <td>...</td>\n",
       "      <td>0</td>\n",
       "      <td>NaN</td>\n",
       "      <td>NaN</td>\n",
       "      <td>NaN</td>\n",
       "      <td>0</td>\n",
       "      <td>5</td>\n",
       "      <td>2007</td>\n",
       "      <td>WD</td>\n",
       "      <td>Normal</td>\n",
       "      <td>181500</td>\n",
       "    </tr>\n",
       "    <tr>\n",
       "      <th>2</th>\n",
       "      <td>3</td>\n",
       "      <td>60</td>\n",
       "      <td>RL</td>\n",
       "      <td>68.0</td>\n",
       "      <td>11250</td>\n",
       "      <td>Pave</td>\n",
       "      <td>NaN</td>\n",
       "      <td>IR1</td>\n",
       "      <td>Lvl</td>\n",
       "      <td>AllPub</td>\n",
       "      <td>...</td>\n",
       "      <td>0</td>\n",
       "      <td>NaN</td>\n",
       "      <td>NaN</td>\n",
       "      <td>NaN</td>\n",
       "      <td>0</td>\n",
       "      <td>9</td>\n",
       "      <td>2008</td>\n",
       "      <td>WD</td>\n",
       "      <td>Normal</td>\n",
       "      <td>223500</td>\n",
       "    </tr>\n",
       "    <tr>\n",
       "      <th>3</th>\n",
       "      <td>4</td>\n",
       "      <td>70</td>\n",
       "      <td>RL</td>\n",
       "      <td>60.0</td>\n",
       "      <td>9550</td>\n",
       "      <td>Pave</td>\n",
       "      <td>NaN</td>\n",
       "      <td>IR1</td>\n",
       "      <td>Lvl</td>\n",
       "      <td>AllPub</td>\n",
       "      <td>...</td>\n",
       "      <td>0</td>\n",
       "      <td>NaN</td>\n",
       "      <td>NaN</td>\n",
       "      <td>NaN</td>\n",
       "      <td>0</td>\n",
       "      <td>2</td>\n",
       "      <td>2006</td>\n",
       "      <td>WD</td>\n",
       "      <td>Abnorml</td>\n",
       "      <td>140000</td>\n",
       "    </tr>\n",
       "    <tr>\n",
       "      <th>4</th>\n",
       "      <td>5</td>\n",
       "      <td>60</td>\n",
       "      <td>RL</td>\n",
       "      <td>84.0</td>\n",
       "      <td>14260</td>\n",
       "      <td>Pave</td>\n",
       "      <td>NaN</td>\n",
       "      <td>IR1</td>\n",
       "      <td>Lvl</td>\n",
       "      <td>AllPub</td>\n",
       "      <td>...</td>\n",
       "      <td>0</td>\n",
       "      <td>NaN</td>\n",
       "      <td>NaN</td>\n",
       "      <td>NaN</td>\n",
       "      <td>0</td>\n",
       "      <td>12</td>\n",
       "      <td>2008</td>\n",
       "      <td>WD</td>\n",
       "      <td>Normal</td>\n",
       "      <td>250000</td>\n",
       "    </tr>\n",
       "  </tbody>\n",
       "</table>\n",
       "<p>5 rows × 81 columns</p>\n",
       "</div>"
      ],
      "text/plain": [
       "   Id  MSSubClass MSZoning  LotFrontage  LotArea Street Alley LotShape  \\\n",
       "0   1          60       RL         65.0     8450   Pave   NaN      Reg   \n",
       "1   2          20       RL         80.0     9600   Pave   NaN      Reg   \n",
       "2   3          60       RL         68.0    11250   Pave   NaN      IR1   \n",
       "3   4          70       RL         60.0     9550   Pave   NaN      IR1   \n",
       "4   5          60       RL         84.0    14260   Pave   NaN      IR1   \n",
       "\n",
       "  LandContour Utilities  ... PoolArea PoolQC Fence MiscFeature MiscVal MoSold  \\\n",
       "0         Lvl    AllPub  ...        0    NaN   NaN         NaN       0      2   \n",
       "1         Lvl    AllPub  ...        0    NaN   NaN         NaN       0      5   \n",
       "2         Lvl    AllPub  ...        0    NaN   NaN         NaN       0      9   \n",
       "3         Lvl    AllPub  ...        0    NaN   NaN         NaN       0      2   \n",
       "4         Lvl    AllPub  ...        0    NaN   NaN         NaN       0     12   \n",
       "\n",
       "  YrSold  SaleType  SaleCondition  SalePrice  \n",
       "0   2008        WD         Normal     208500  \n",
       "1   2007        WD         Normal     181500  \n",
       "2   2008        WD         Normal     223500  \n",
       "3   2006        WD        Abnorml     140000  \n",
       "4   2008        WD         Normal     250000  \n",
       "\n",
       "[5 rows x 81 columns]"
      ]
     },
     "execution_count": 714,
     "metadata": {},
     "output_type": "execute_result"
    }
   ],
   "source": [
    "train.head()"
   ]
  },
  {
   "cell_type": "code",
   "execution_count": 715,
   "metadata": {},
   "outputs": [
    {
     "name": "stdout",
     "output_type": "stream",
     "text": [
      "<class 'pandas.core.frame.DataFrame'>\n",
      "RangeIndex: 1460 entries, 0 to 1459\n",
      "Data columns (total 81 columns):\n",
      " #   Column         Non-Null Count  Dtype  \n",
      "---  ------         --------------  -----  \n",
      " 0   Id             1460 non-null   int64  \n",
      " 1   MSSubClass     1460 non-null   int64  \n",
      " 2   MSZoning       1460 non-null   object \n",
      " 3   LotFrontage    1201 non-null   float64\n",
      " 4   LotArea        1460 non-null   int64  \n",
      " 5   Street         1460 non-null   object \n",
      " 6   Alley          91 non-null     object \n",
      " 7   LotShape       1460 non-null   object \n",
      " 8   LandContour    1460 non-null   object \n",
      " 9   Utilities      1460 non-null   object \n",
      " 10  LotConfig      1460 non-null   object \n",
      " 11  LandSlope      1460 non-null   object \n",
      " 12  Neighborhood   1460 non-null   object \n",
      " 13  Condition1     1460 non-null   object \n",
      " 14  Condition2     1460 non-null   object \n",
      " 15  BldgType       1460 non-null   object \n",
      " 16  HouseStyle     1460 non-null   object \n",
      " 17  OverallQual    1460 non-null   int64  \n",
      " 18  OverallCond    1460 non-null   int64  \n",
      " 19  YearBuilt      1460 non-null   int64  \n",
      " 20  YearRemodAdd   1460 non-null   int64  \n",
      " 21  RoofStyle      1460 non-null   object \n",
      " 22  RoofMatl       1460 non-null   object \n",
      " 23  Exterior1st    1460 non-null   object \n",
      " 24  Exterior2nd    1460 non-null   object \n",
      " 25  MasVnrType     1452 non-null   object \n",
      " 26  MasVnrArea     1452 non-null   float64\n",
      " 27  ExterQual      1460 non-null   object \n",
      " 28  ExterCond      1460 non-null   object \n",
      " 29  Foundation     1460 non-null   object \n",
      " 30  BsmtQual       1423 non-null   object \n",
      " 31  BsmtCond       1423 non-null   object \n",
      " 32  BsmtExposure   1422 non-null   object \n",
      " 33  BsmtFinType1   1423 non-null   object \n",
      " 34  BsmtFinSF1     1460 non-null   int64  \n",
      " 35  BsmtFinType2   1422 non-null   object \n",
      " 36  BsmtFinSF2     1460 non-null   int64  \n",
      " 37  BsmtUnfSF      1460 non-null   int64  \n",
      " 38  TotalBsmtSF    1460 non-null   int64  \n",
      " 39  Heating        1460 non-null   object \n",
      " 40  HeatingQC      1460 non-null   object \n",
      " 41  CentralAir     1460 non-null   object \n",
      " 42  Electrical     1459 non-null   object \n",
      " 43  1stFlrSF       1460 non-null   int64  \n",
      " 44  2ndFlrSF       1460 non-null   int64  \n",
      " 45  LowQualFinSF   1460 non-null   int64  \n",
      " 46  GrLivArea      1460 non-null   int64  \n",
      " 47  BsmtFullBath   1460 non-null   int64  \n",
      " 48  BsmtHalfBath   1460 non-null   int64  \n",
      " 49  FullBath       1460 non-null   int64  \n",
      " 50  HalfBath       1460 non-null   int64  \n",
      " 51  BedroomAbvGr   1460 non-null   int64  \n",
      " 52  KitchenAbvGr   1460 non-null   int64  \n",
      " 53  KitchenQual    1460 non-null   object \n",
      " 54  TotRmsAbvGrd   1460 non-null   int64  \n",
      " 55  Functional     1460 non-null   object \n",
      " 56  Fireplaces     1460 non-null   int64  \n",
      " 57  FireplaceQu    770 non-null    object \n",
      " 58  GarageType     1379 non-null   object \n",
      " 59  GarageYrBlt    1379 non-null   float64\n",
      " 60  GarageFinish   1379 non-null   object \n",
      " 61  GarageCars     1460 non-null   int64  \n",
      " 62  GarageArea     1460 non-null   int64  \n",
      " 63  GarageQual     1379 non-null   object \n",
      " 64  GarageCond     1379 non-null   object \n",
      " 65  PavedDrive     1460 non-null   object \n",
      " 66  WoodDeckSF     1460 non-null   int64  \n",
      " 67  OpenPorchSF    1460 non-null   int64  \n",
      " 68  EnclosedPorch  1460 non-null   int64  \n",
      " 69  3SsnPorch      1460 non-null   int64  \n",
      " 70  ScreenPorch    1460 non-null   int64  \n",
      " 71  PoolArea       1460 non-null   int64  \n",
      " 72  PoolQC         7 non-null      object \n",
      " 73  Fence          281 non-null    object \n",
      " 74  MiscFeature    54 non-null     object \n",
      " 75  MiscVal        1460 non-null   int64  \n",
      " 76  MoSold         1460 non-null   int64  \n",
      " 77  YrSold         1460 non-null   int64  \n",
      " 78  SaleType       1460 non-null   object \n",
      " 79  SaleCondition  1460 non-null   object \n",
      " 80  SalePrice      1460 non-null   int64  \n",
      "dtypes: float64(3), int64(35), object(43)\n",
      "memory usage: 924.0+ KB\n"
     ]
    }
   ],
   "source": [
    "train.info()"
   ]
  },
  {
   "cell_type": "code",
   "execution_count": 716,
   "metadata": {},
   "outputs": [
    {
     "data": {
      "text/plain": [
       "Index(['Id', 'MSSubClass', 'MSZoning', 'LotFrontage', 'LotArea', 'Street',\n",
       "       'Alley', 'LotShape', 'LandContour', 'Utilities', 'LotConfig',\n",
       "       'LandSlope', 'Neighborhood', 'Condition1', 'Condition2', 'BldgType',\n",
       "       'HouseStyle', 'OverallQual', 'OverallCond', 'YearBuilt', 'YearRemodAdd',\n",
       "       'RoofStyle', 'RoofMatl', 'Exterior1st', 'Exterior2nd', 'MasVnrType',\n",
       "       'MasVnrArea', 'ExterQual', 'ExterCond', 'Foundation', 'BsmtQual',\n",
       "       'BsmtCond', 'BsmtExposure', 'BsmtFinType1', 'BsmtFinSF1',\n",
       "       'BsmtFinType2', 'BsmtFinSF2', 'BsmtUnfSF', 'TotalBsmtSF', 'Heating',\n",
       "       'HeatingQC', 'CentralAir', 'Electrical', '1stFlrSF', '2ndFlrSF',\n",
       "       'LowQualFinSF', 'GrLivArea', 'BsmtFullBath', 'BsmtHalfBath', 'FullBath',\n",
       "       'HalfBath', 'BedroomAbvGr', 'KitchenAbvGr', 'KitchenQual',\n",
       "       'TotRmsAbvGrd', 'Functional', 'Fireplaces', 'FireplaceQu', 'GarageType',\n",
       "       'GarageYrBlt', 'GarageFinish', 'GarageCars', 'GarageArea', 'GarageQual',\n",
       "       'GarageCond', 'PavedDrive', 'WoodDeckSF', 'OpenPorchSF',\n",
       "       'EnclosedPorch', '3SsnPorch', 'ScreenPorch', 'PoolArea', 'PoolQC',\n",
       "       'Fence', 'MiscFeature', 'MiscVal', 'MoSold', 'YrSold', 'SaleType',\n",
       "       'SaleCondition', 'SalePrice'],\n",
       "      dtype='object')"
      ]
     },
     "execution_count": 716,
     "metadata": {},
     "output_type": "execute_result"
    }
   ],
   "source": [
    "train.columns"
   ]
  },
  {
   "cell_type": "code",
   "execution_count": 717,
   "metadata": {},
   "outputs": [
    {
     "data": {
      "text/html": [
       "<div>\n",
       "<style scoped>\n",
       "    .dataframe tbody tr th:only-of-type {\n",
       "        vertical-align: middle;\n",
       "    }\n",
       "\n",
       "    .dataframe tbody tr th {\n",
       "        vertical-align: top;\n",
       "    }\n",
       "\n",
       "    .dataframe thead th {\n",
       "        text-align: right;\n",
       "    }\n",
       "</style>\n",
       "<table border=\"1\" class=\"dataframe\">\n",
       "  <thead>\n",
       "    <tr style=\"text-align: right;\">\n",
       "      <th></th>\n",
       "      <th>Id</th>\n",
       "      <th>MSSubClass</th>\n",
       "      <th>LotFrontage</th>\n",
       "      <th>LotArea</th>\n",
       "      <th>OverallQual</th>\n",
       "      <th>OverallCond</th>\n",
       "      <th>YearBuilt</th>\n",
       "      <th>YearRemodAdd</th>\n",
       "      <th>MasVnrArea</th>\n",
       "      <th>BsmtFinSF1</th>\n",
       "      <th>...</th>\n",
       "      <th>WoodDeckSF</th>\n",
       "      <th>OpenPorchSF</th>\n",
       "      <th>EnclosedPorch</th>\n",
       "      <th>3SsnPorch</th>\n",
       "      <th>ScreenPorch</th>\n",
       "      <th>PoolArea</th>\n",
       "      <th>MiscVal</th>\n",
       "      <th>MoSold</th>\n",
       "      <th>YrSold</th>\n",
       "      <th>SalePrice</th>\n",
       "    </tr>\n",
       "  </thead>\n",
       "  <tbody>\n",
       "    <tr>\n",
       "      <th>count</th>\n",
       "      <td>1460.000000</td>\n",
       "      <td>1460.000000</td>\n",
       "      <td>1201.000000</td>\n",
       "      <td>1460.000000</td>\n",
       "      <td>1460.000000</td>\n",
       "      <td>1460.000000</td>\n",
       "      <td>1460.000000</td>\n",
       "      <td>1460.000000</td>\n",
       "      <td>1452.000000</td>\n",
       "      <td>1460.000000</td>\n",
       "      <td>...</td>\n",
       "      <td>1460.000000</td>\n",
       "      <td>1460.000000</td>\n",
       "      <td>1460.000000</td>\n",
       "      <td>1460.000000</td>\n",
       "      <td>1460.000000</td>\n",
       "      <td>1460.000000</td>\n",
       "      <td>1460.000000</td>\n",
       "      <td>1460.000000</td>\n",
       "      <td>1460.000000</td>\n",
       "      <td>1460.000000</td>\n",
       "    </tr>\n",
       "    <tr>\n",
       "      <th>mean</th>\n",
       "      <td>730.500000</td>\n",
       "      <td>56.897260</td>\n",
       "      <td>70.049958</td>\n",
       "      <td>10516.828082</td>\n",
       "      <td>6.099315</td>\n",
       "      <td>5.575342</td>\n",
       "      <td>1971.267808</td>\n",
       "      <td>1984.865753</td>\n",
       "      <td>103.685262</td>\n",
       "      <td>443.639726</td>\n",
       "      <td>...</td>\n",
       "      <td>94.244521</td>\n",
       "      <td>46.660274</td>\n",
       "      <td>21.954110</td>\n",
       "      <td>3.409589</td>\n",
       "      <td>15.060959</td>\n",
       "      <td>2.758904</td>\n",
       "      <td>43.489041</td>\n",
       "      <td>6.321918</td>\n",
       "      <td>2007.815753</td>\n",
       "      <td>180921.195890</td>\n",
       "    </tr>\n",
       "    <tr>\n",
       "      <th>std</th>\n",
       "      <td>421.610009</td>\n",
       "      <td>42.300571</td>\n",
       "      <td>24.284752</td>\n",
       "      <td>9981.264932</td>\n",
       "      <td>1.382997</td>\n",
       "      <td>1.112799</td>\n",
       "      <td>30.202904</td>\n",
       "      <td>20.645407</td>\n",
       "      <td>181.066207</td>\n",
       "      <td>456.098091</td>\n",
       "      <td>...</td>\n",
       "      <td>125.338794</td>\n",
       "      <td>66.256028</td>\n",
       "      <td>61.119149</td>\n",
       "      <td>29.317331</td>\n",
       "      <td>55.757415</td>\n",
       "      <td>40.177307</td>\n",
       "      <td>496.123024</td>\n",
       "      <td>2.703626</td>\n",
       "      <td>1.328095</td>\n",
       "      <td>79442.502883</td>\n",
       "    </tr>\n",
       "    <tr>\n",
       "      <th>min</th>\n",
       "      <td>1.000000</td>\n",
       "      <td>20.000000</td>\n",
       "      <td>21.000000</td>\n",
       "      <td>1300.000000</td>\n",
       "      <td>1.000000</td>\n",
       "      <td>1.000000</td>\n",
       "      <td>1872.000000</td>\n",
       "      <td>1950.000000</td>\n",
       "      <td>0.000000</td>\n",
       "      <td>0.000000</td>\n",
       "      <td>...</td>\n",
       "      <td>0.000000</td>\n",
       "      <td>0.000000</td>\n",
       "      <td>0.000000</td>\n",
       "      <td>0.000000</td>\n",
       "      <td>0.000000</td>\n",
       "      <td>0.000000</td>\n",
       "      <td>0.000000</td>\n",
       "      <td>1.000000</td>\n",
       "      <td>2006.000000</td>\n",
       "      <td>34900.000000</td>\n",
       "    </tr>\n",
       "    <tr>\n",
       "      <th>25%</th>\n",
       "      <td>365.750000</td>\n",
       "      <td>20.000000</td>\n",
       "      <td>59.000000</td>\n",
       "      <td>7553.500000</td>\n",
       "      <td>5.000000</td>\n",
       "      <td>5.000000</td>\n",
       "      <td>1954.000000</td>\n",
       "      <td>1967.000000</td>\n",
       "      <td>0.000000</td>\n",
       "      <td>0.000000</td>\n",
       "      <td>...</td>\n",
       "      <td>0.000000</td>\n",
       "      <td>0.000000</td>\n",
       "      <td>0.000000</td>\n",
       "      <td>0.000000</td>\n",
       "      <td>0.000000</td>\n",
       "      <td>0.000000</td>\n",
       "      <td>0.000000</td>\n",
       "      <td>5.000000</td>\n",
       "      <td>2007.000000</td>\n",
       "      <td>129975.000000</td>\n",
       "    </tr>\n",
       "    <tr>\n",
       "      <th>50%</th>\n",
       "      <td>730.500000</td>\n",
       "      <td>50.000000</td>\n",
       "      <td>69.000000</td>\n",
       "      <td>9478.500000</td>\n",
       "      <td>6.000000</td>\n",
       "      <td>5.000000</td>\n",
       "      <td>1973.000000</td>\n",
       "      <td>1994.000000</td>\n",
       "      <td>0.000000</td>\n",
       "      <td>383.500000</td>\n",
       "      <td>...</td>\n",
       "      <td>0.000000</td>\n",
       "      <td>25.000000</td>\n",
       "      <td>0.000000</td>\n",
       "      <td>0.000000</td>\n",
       "      <td>0.000000</td>\n",
       "      <td>0.000000</td>\n",
       "      <td>0.000000</td>\n",
       "      <td>6.000000</td>\n",
       "      <td>2008.000000</td>\n",
       "      <td>163000.000000</td>\n",
       "    </tr>\n",
       "    <tr>\n",
       "      <th>75%</th>\n",
       "      <td>1095.250000</td>\n",
       "      <td>70.000000</td>\n",
       "      <td>80.000000</td>\n",
       "      <td>11601.500000</td>\n",
       "      <td>7.000000</td>\n",
       "      <td>6.000000</td>\n",
       "      <td>2000.000000</td>\n",
       "      <td>2004.000000</td>\n",
       "      <td>166.000000</td>\n",
       "      <td>712.250000</td>\n",
       "      <td>...</td>\n",
       "      <td>168.000000</td>\n",
       "      <td>68.000000</td>\n",
       "      <td>0.000000</td>\n",
       "      <td>0.000000</td>\n",
       "      <td>0.000000</td>\n",
       "      <td>0.000000</td>\n",
       "      <td>0.000000</td>\n",
       "      <td>8.000000</td>\n",
       "      <td>2009.000000</td>\n",
       "      <td>214000.000000</td>\n",
       "    </tr>\n",
       "    <tr>\n",
       "      <th>max</th>\n",
       "      <td>1460.000000</td>\n",
       "      <td>190.000000</td>\n",
       "      <td>313.000000</td>\n",
       "      <td>215245.000000</td>\n",
       "      <td>10.000000</td>\n",
       "      <td>9.000000</td>\n",
       "      <td>2010.000000</td>\n",
       "      <td>2010.000000</td>\n",
       "      <td>1600.000000</td>\n",
       "      <td>5644.000000</td>\n",
       "      <td>...</td>\n",
       "      <td>857.000000</td>\n",
       "      <td>547.000000</td>\n",
       "      <td>552.000000</td>\n",
       "      <td>508.000000</td>\n",
       "      <td>480.000000</td>\n",
       "      <td>738.000000</td>\n",
       "      <td>15500.000000</td>\n",
       "      <td>12.000000</td>\n",
       "      <td>2010.000000</td>\n",
       "      <td>755000.000000</td>\n",
       "    </tr>\n",
       "  </tbody>\n",
       "</table>\n",
       "<p>8 rows × 38 columns</p>\n",
       "</div>"
      ],
      "text/plain": [
       "                Id   MSSubClass  LotFrontage        LotArea  OverallQual  \\\n",
       "count  1460.000000  1460.000000  1201.000000    1460.000000  1460.000000   \n",
       "mean    730.500000    56.897260    70.049958   10516.828082     6.099315   \n",
       "std     421.610009    42.300571    24.284752    9981.264932     1.382997   \n",
       "min       1.000000    20.000000    21.000000    1300.000000     1.000000   \n",
       "25%     365.750000    20.000000    59.000000    7553.500000     5.000000   \n",
       "50%     730.500000    50.000000    69.000000    9478.500000     6.000000   \n",
       "75%    1095.250000    70.000000    80.000000   11601.500000     7.000000   \n",
       "max    1460.000000   190.000000   313.000000  215245.000000    10.000000   \n",
       "\n",
       "       OverallCond    YearBuilt  YearRemodAdd   MasVnrArea   BsmtFinSF1  ...  \\\n",
       "count  1460.000000  1460.000000   1460.000000  1452.000000  1460.000000  ...   \n",
       "mean      5.575342  1971.267808   1984.865753   103.685262   443.639726  ...   \n",
       "std       1.112799    30.202904     20.645407   181.066207   456.098091  ...   \n",
       "min       1.000000  1872.000000   1950.000000     0.000000     0.000000  ...   \n",
       "25%       5.000000  1954.000000   1967.000000     0.000000     0.000000  ...   \n",
       "50%       5.000000  1973.000000   1994.000000     0.000000   383.500000  ...   \n",
       "75%       6.000000  2000.000000   2004.000000   166.000000   712.250000  ...   \n",
       "max       9.000000  2010.000000   2010.000000  1600.000000  5644.000000  ...   \n",
       "\n",
       "        WoodDeckSF  OpenPorchSF  EnclosedPorch    3SsnPorch  ScreenPorch  \\\n",
       "count  1460.000000  1460.000000    1460.000000  1460.000000  1460.000000   \n",
       "mean     94.244521    46.660274      21.954110     3.409589    15.060959   \n",
       "std     125.338794    66.256028      61.119149    29.317331    55.757415   \n",
       "min       0.000000     0.000000       0.000000     0.000000     0.000000   \n",
       "25%       0.000000     0.000000       0.000000     0.000000     0.000000   \n",
       "50%       0.000000    25.000000       0.000000     0.000000     0.000000   \n",
       "75%     168.000000    68.000000       0.000000     0.000000     0.000000   \n",
       "max     857.000000   547.000000     552.000000   508.000000   480.000000   \n",
       "\n",
       "          PoolArea       MiscVal       MoSold       YrSold      SalePrice  \n",
       "count  1460.000000   1460.000000  1460.000000  1460.000000    1460.000000  \n",
       "mean      2.758904     43.489041     6.321918  2007.815753  180921.195890  \n",
       "std      40.177307    496.123024     2.703626     1.328095   79442.502883  \n",
       "min       0.000000      0.000000     1.000000  2006.000000   34900.000000  \n",
       "25%       0.000000      0.000000     5.000000  2007.000000  129975.000000  \n",
       "50%       0.000000      0.000000     6.000000  2008.000000  163000.000000  \n",
       "75%       0.000000      0.000000     8.000000  2009.000000  214000.000000  \n",
       "max     738.000000  15500.000000    12.000000  2010.000000  755000.000000  \n",
       "\n",
       "[8 rows x 38 columns]"
      ]
     },
     "execution_count": 717,
     "metadata": {},
     "output_type": "execute_result"
    }
   ],
   "source": [
    "train.describe()"
   ]
  },
  {
   "cell_type": "code",
   "execution_count": 718,
   "metadata": {},
   "outputs": [],
   "source": [
    "train_Id = train['Id']\n",
    "test_Id = test['Id']"
   ]
  },
  {
   "cell_type": "code",
   "execution_count": 719,
   "metadata": {},
   "outputs": [],
   "source": [
    "train.drop('Id', axis=1, inplace=True)\n",
    "test.drop('Id', axis=1, inplace=True)"
   ]
  },
  {
   "cell_type": "code",
   "execution_count": null,
   "metadata": {},
   "outputs": [],
   "source": []
  },
  {
   "cell_type": "code",
   "execution_count": null,
   "metadata": {},
   "outputs": [],
   "source": []
  },
  {
   "cell_type": "code",
   "execution_count": null,
   "metadata": {},
   "outputs": [],
   "source": []
  },
  {
   "cell_type": "markdown",
   "metadata": {},
   "source": [
    "# 데이터 시각화"
   ]
  },
  {
   "cell_type": "markdown",
   "metadata": {},
   "source": [
    "## SalePrice dist"
   ]
  },
  {
   "cell_type": "code",
   "execution_count": 720,
   "metadata": {},
   "outputs": [
    {
     "data": {
      "text/plain": [
       "<matplotlib.axes._subplots.AxesSubplot at 0x7fadade3d550>"
      ]
     },
     "execution_count": 720,
     "metadata": {},
     "output_type": "execute_result"
    },
    {
     "data": {
      "image/png": "[encoded data removed]",
      "text/plain": [
       "<Figure size 432x288 with 1 Axes>"
      ]
     },
     "metadata": {
      "needs_background": "light"
     },
     "output_type": "display_data"
    }
   ],
   "source": [
    "sns.distplot(train['SalePrice'])"
   ]
  },
  {
   "cell_type": "markdown",
   "metadata": {},
   "source": [
    "## Corr"
   ]
  },
  {
   "cell_type": "code",
   "execution_count": 721,
   "metadata": {},
   "outputs": [],
   "source": [
    "train_corr = train.corr()"
   ]
  },
  {
   "cell_type": "code",
   "execution_count": 722,
   "metadata": {},
   "outputs": [],
   "source": [
    "train_corr_desc = train_corr['SalePrice'].sort_values(ascending=False)"
   ]
  },
  {
   "cell_type": "code",
   "execution_count": 723,
   "metadata": {},
   "outputs": [],
   "source": [
    "train_corr_desc = train_corr_desc[train_corr_desc > 0.3]"
   ]
  },
  {
   "cell_type": "code",
   "execution_count": 724,
   "metadata": {},
   "outputs": [
    {
     "data": {
      "text/plain": [
       "Text(0.5, 1.0, 'Correlation with SalePrice and others')"
      ]
     },
     "execution_count": 724,
     "metadata": {},
     "output_type": "execute_result"
    },
    {
     "data": {
      "image/png": "[encoded data removed]",
      "text/plain": [
       "<Figure size 1080x576 with 1 Axes>"
      ]
     },
     "metadata": {
      "needs_background": "light"
     },
     "output_type": "display_data"
    }
   ],
   "source": [
    "f, ax = plt.subplots(figsize=(15,8))\n",
    "sns.barplot(x=train_corr_desc.index, y=train_corr_desc)\n",
    "plt.xticks(rotation='90')\n",
    "plt.ylabel('Percentage')\n",
    "plt.title('Correlation with SalePrice and others')"
   ]
  },
  {
   "cell_type": "code",
   "execution_count": 725,
   "metadata": {},
   "outputs": [],
   "source": [
    "corr_index_03 = train_corr_desc.index"
   ]
  },
  {
   "cell_type": "code",
   "execution_count": null,
   "metadata": {},
   "outputs": [],
   "source": []
  },
  {
   "cell_type": "code",
   "execution_count": 726,
   "metadata": {},
   "outputs": [],
   "source": [
    "corr_index_03 = corr_index_03.delete(0)"
   ]
  },
  {
   "cell_type": "code",
   "execution_count": 727,
   "metadata": {},
   "outputs": [
    {
     "data": {
      "text/plain": [
       "Index(['OverallQual', 'GrLivArea', 'GarageCars', 'GarageArea', 'TotalBsmtSF',\n",
       "       '1stFlrSF', 'FullBath', 'TotRmsAbvGrd', 'YearBuilt', 'YearRemodAdd',\n",
       "       'GarageYrBlt', 'MasVnrArea', 'Fireplaces', 'BsmtFinSF1', 'LotFrontage',\n",
       "       'WoodDeckSF', '2ndFlrSF', 'OpenPorchSF'],\n",
       "      dtype='object')"
      ]
     },
     "execution_count": 727,
     "metadata": {},
     "output_type": "execute_result"
    }
   ],
   "source": [
    "corr_index_03 # "
   ]
  },
  {
   "cell_type": "code",
   "execution_count": 728,
   "metadata": {},
   "outputs": [
    {
     "data": {
      "text/plain": [
       "(1460, 80)"
      ]
     },
     "execution_count": 728,
     "metadata": {},
     "output_type": "execute_result"
    }
   ],
   "source": [
    "train.shape"
   ]
  },
  {
   "cell_type": "markdown",
   "metadata": {},
   "source": [
    "## Outliers"
   ]
  },
  {
   "cell_type": "code",
   "execution_count": 729,
   "metadata": {},
   "outputs": [
    {
     "data": {
      "image/png": "[encoded data removed]",
      "text/plain": [
       "<Figure size 864x576 with 1 Axes>"
      ]
     },
     "metadata": {
      "needs_background": "light"
     },
     "output_type": "display_data"
    }
   ],
   "source": [
    "f, ax = plt.subplots(figsize=(12,8))\n",
    "ax.scatter(x=train['GrLivArea'], y=train['SalePrice'])\n",
    "plt.ylabel('SalePrice')\n",
    "plt.xlabel('GrLivArea')\n",
    "plt.show()"
   ]
  },
  {
   "cell_type": "code",
   "execution_count": 730,
   "metadata": {},
   "outputs": [],
   "source": [
    "train = train.drop(train[(train['GrLivArea'] > 4000) & (train['SalePrice'] < 300000)].index)"
   ]
  },
  {
   "cell_type": "code",
   "execution_count": 731,
   "metadata": {},
   "outputs": [
    {
     "data": {
      "text/plain": [
       "(1458, 80)"
      ]
     },
     "execution_count": 731,
     "metadata": {},
     "output_type": "execute_result"
    }
   ],
   "source": [
    "train.shape"
   ]
  },
  {
   "cell_type": "code",
   "execution_count": 732,
   "metadata": {},
   "outputs": [
    {
     "data": {
      "image/png": "[encoded data removed]",
      "text/plain": [
       "<Figure size 864x576 with 1 Axes>"
      ]
     },
     "metadata": {
      "needs_background": "light"
     },
     "output_type": "display_data"
    }
   ],
   "source": [
    "f, ax = plt.subplots(figsize=(12,8))\n",
    "ax.scatter(x=train['GrLivArea'], y=train['SalePrice'])\n",
    "plt.ylabel('SalePrice')\n",
    "plt.xlabel('GrLivArea')\n",
    "plt.show()"
   ]
  },
  {
   "cell_type": "code",
   "execution_count": 733,
   "metadata": {},
   "outputs": [
    {
     "data": {
      "text/plain": [
       "Index(['OverallQual', 'GrLivArea', 'GarageCars', 'GarageArea', 'TotalBsmtSF',\n",
       "       '1stFlrSF', 'FullBath', 'TotRmsAbvGrd', 'YearBuilt', 'YearRemodAdd',\n",
       "       'GarageYrBlt', 'MasVnrArea', 'Fireplaces', 'BsmtFinSF1', 'LotFrontage',\n",
       "       'WoodDeckSF', '2ndFlrSF', 'OpenPorchSF'],\n",
       "      dtype='object')"
      ]
     },
     "execution_count": 733,
     "metadata": {},
     "output_type": "execute_result"
    }
   ],
   "source": [
    "corr_index_03"
   ]
  },
  {
   "cell_type": "code",
   "execution_count": 734,
   "metadata": {},
   "outputs": [
    {
     "data": {
      "image/png": "[encoded data removed]",
      "text/plain": [
       "<Figure size 864x576 with 1 Axes>"
      ]
     },
     "metadata": {
      "needs_background": "light"
     },
     "output_type": "display_data"
    }
   ],
   "source": [
    "f, ax = plt.subplots(figsize=(12,8))\n",
    "ax.scatter(x=train['GarageArea'], y=train['SalePrice'])\n",
    "plt.ylabel('SalePrice')\n",
    "plt.xlabel('GarageArea')\n",
    "plt.show()"
   ]
  },
  {
   "cell_type": "code",
   "execution_count": 735,
   "metadata": {},
   "outputs": [
    {
     "data": {
      "image/png": "[encoded data removed]",
      "text/plain": [
       "<Figure size 864x576 with 1 Axes>"
      ]
     },
     "metadata": {
      "needs_background": "light"
     },
     "output_type": "display_data"
    }
   ],
   "source": [
    "f, ax = plt.subplots(figsize=(12,8))\n",
    "ax.scatter(x=train['LotFrontage'], y=train['SalePrice'])\n",
    "plt.ylabel('SalePrice')\n",
    "plt.xlabel('LotFrontage')\n",
    "plt.show()"
   ]
  },
  {
   "cell_type": "code",
   "execution_count": 736,
   "metadata": {},
   "outputs": [],
   "source": [
    "train = train.drop(train[train['LotFrontage']>250].index)"
   ]
  },
  {
   "cell_type": "code",
   "execution_count": null,
   "metadata": {},
   "outputs": [],
   "source": []
  },
  {
   "cell_type": "code",
   "execution_count": 737,
   "metadata": {
    "scrolled": true
   },
   "outputs": [
    {
     "data": {
      "image/png": "[encoded data removed]",
      "text/plain": [
       "<Figure size 864x576 with 1 Axes>"
      ]
     },
     "metadata": {
      "needs_background": "light"
     },
     "output_type": "display_data"
    }
   ],
   "source": [
    "f, ax = plt.subplots(figsize=(12,8))\n",
    "ax.scatter(x=train['2ndFlrSF'], y=train['SalePrice'])\n",
    "plt.ylabel('SalePrice')\n",
    "plt.xlabel('2ndFlrSF')\n",
    "plt.show()"
   ]
  },
  {
   "cell_type": "code",
   "execution_count": 738,
   "metadata": {},
   "outputs": [
    {
     "data": {
      "text/plain": [
       "((1457, 80), (1459, 79))"
      ]
     },
     "execution_count": 738,
     "metadata": {},
     "output_type": "execute_result"
    }
   ],
   "source": [
    "train.shape, test.shape"
   ]
  },
  {
   "cell_type": "markdown",
   "metadata": {},
   "source": [
    "# Missing Values"
   ]
  },
  {
   "cell_type": "markdown",
   "metadata": {},
   "source": [
    "## train test concat"
   ]
  },
  {
   "cell_type": "code",
   "execution_count": 739,
   "metadata": {},
   "outputs": [
    {
     "name": "stdout",
     "output_type": "stream",
     "text": [
      "1457\n"
     ]
    },
    {
     "data": {
      "text/plain": [
       "1459"
      ]
     },
     "execution_count": 739,
     "metadata": {},
     "output_type": "execute_result"
    }
   ],
   "source": [
    "n_train = train.shape[0]\n",
    "n_test = test.shape[0]\n",
    "\n",
    "print(n_train)\n",
    "ntest"
   ]
  },
  {
   "cell_type": "code",
   "execution_count": 740,
   "metadata": {},
   "outputs": [
    {
     "data": {
      "text/plain": [
       "(2916, 79)"
      ]
     },
     "execution_count": 740,
     "metadata": {},
     "output_type": "execute_result"
    }
   ],
   "source": [
    "y_train = train.SalePrice.values\n",
    "\n",
    "all_data = pd.concat((train, test)).reset_index(drop=True)\n",
    "all_data.drop(['SalePrice'], axis=1, inplace=True)\n",
    "\n",
    "all_data.shape"
   ]
  },
  {
   "cell_type": "code",
   "execution_count": 741,
   "metadata": {},
   "outputs": [
    {
     "data": {
      "text/html": [
       "<div>\n",
       "<style scoped>\n",
       "    .dataframe tbody tr th:only-of-type {\n",
       "        vertical-align: middle;\n",
       "    }\n",
       "\n",
       "    .dataframe tbody tr th {\n",
       "        vertical-align: top;\n",
       "    }\n",
       "\n",
       "    .dataframe thead th {\n",
       "        text-align: right;\n",
       "    }\n",
       "</style>\n",
       "<table border=\"1\" class=\"dataframe\">\n",
       "  <thead>\n",
       "    <tr style=\"text-align: right;\">\n",
       "      <th></th>\n",
       "      <th>MSSubClass</th>\n",
       "      <th>MSZoning</th>\n",
       "      <th>LotFrontage</th>\n",
       "      <th>LotArea</th>\n",
       "      <th>Street</th>\n",
       "      <th>Alley</th>\n",
       "      <th>LotShape</th>\n",
       "      <th>LandContour</th>\n",
       "      <th>Utilities</th>\n",
       "      <th>LotConfig</th>\n",
       "      <th>...</th>\n",
       "      <th>ScreenPorch</th>\n",
       "      <th>PoolArea</th>\n",
       "      <th>PoolQC</th>\n",
       "      <th>Fence</th>\n",
       "      <th>MiscFeature</th>\n",
       "      <th>MiscVal</th>\n",
       "      <th>MoSold</th>\n",
       "      <th>YrSold</th>\n",
       "      <th>SaleType</th>\n",
       "      <th>SaleCondition</th>\n",
       "    </tr>\n",
       "  </thead>\n",
       "  <tbody>\n",
       "    <tr>\n",
       "      <th>0</th>\n",
       "      <td>60</td>\n",
       "      <td>RL</td>\n",
       "      <td>65.0</td>\n",
       "      <td>8450</td>\n",
       "      <td>Pave</td>\n",
       "      <td>NaN</td>\n",
       "      <td>Reg</td>\n",
       "      <td>Lvl</td>\n",
       "      <td>AllPub</td>\n",
       "      <td>Inside</td>\n",
       "      <td>...</td>\n",
       "      <td>0</td>\n",
       "      <td>0</td>\n",
       "      <td>NaN</td>\n",
       "      <td>NaN</td>\n",
       "      <td>NaN</td>\n",
       "      <td>0</td>\n",
       "      <td>2</td>\n",
       "      <td>2008</td>\n",
       "      <td>WD</td>\n",
       "      <td>Normal</td>\n",
       "    </tr>\n",
       "    <tr>\n",
       "      <th>1</th>\n",
       "      <td>20</td>\n",
       "      <td>RL</td>\n",
       "      <td>80.0</td>\n",
       "      <td>9600</td>\n",
       "      <td>Pave</td>\n",
       "      <td>NaN</td>\n",
       "      <td>Reg</td>\n",
       "      <td>Lvl</td>\n",
       "      <td>AllPub</td>\n",
       "      <td>FR2</td>\n",
       "      <td>...</td>\n",
       "      <td>0</td>\n",
       "      <td>0</td>\n",
       "      <td>NaN</td>\n",
       "      <td>NaN</td>\n",
       "      <td>NaN</td>\n",
       "      <td>0</td>\n",
       "      <td>5</td>\n",
       "      <td>2007</td>\n",
       "      <td>WD</td>\n",
       "      <td>Normal</td>\n",
       "    </tr>\n",
       "    <tr>\n",
       "      <th>2</th>\n",
       "      <td>60</td>\n",
       "      <td>RL</td>\n",
       "      <td>68.0</td>\n",
       "      <td>11250</td>\n",
       "      <td>Pave</td>\n",
       "      <td>NaN</td>\n",
       "      <td>IR1</td>\n",
       "      <td>Lvl</td>\n",
       "      <td>AllPub</td>\n",
       "      <td>Inside</td>\n",
       "      <td>...</td>\n",
       "      <td>0</td>\n",
       "      <td>0</td>\n",
       "      <td>NaN</td>\n",
       "      <td>NaN</td>\n",
       "      <td>NaN</td>\n",
       "      <td>0</td>\n",
       "      <td>9</td>\n",
       "      <td>2008</td>\n",
       "      <td>WD</td>\n",
       "      <td>Normal</td>\n",
       "    </tr>\n",
       "    <tr>\n",
       "      <th>3</th>\n",
       "      <td>70</td>\n",
       "      <td>RL</td>\n",
       "      <td>60.0</td>\n",
       "      <td>9550</td>\n",
       "      <td>Pave</td>\n",
       "      <td>NaN</td>\n",
       "      <td>IR1</td>\n",
       "      <td>Lvl</td>\n",
       "      <td>AllPub</td>\n",
       "      <td>Corner</td>\n",
       "      <td>...</td>\n",
       "      <td>0</td>\n",
       "      <td>0</td>\n",
       "      <td>NaN</td>\n",
       "      <td>NaN</td>\n",
       "      <td>NaN</td>\n",
       "      <td>0</td>\n",
       "      <td>2</td>\n",
       "      <td>2006</td>\n",
       "      <td>WD</td>\n",
       "      <td>Abnorml</td>\n",
       "    </tr>\n",
       "    <tr>\n",
       "      <th>4</th>\n",
       "      <td>60</td>\n",
       "      <td>RL</td>\n",
       "      <td>84.0</td>\n",
       "      <td>14260</td>\n",
       "      <td>Pave</td>\n",
       "      <td>NaN</td>\n",
       "      <td>IR1</td>\n",
       "      <td>Lvl</td>\n",
       "      <td>AllPub</td>\n",
       "      <td>FR2</td>\n",
       "      <td>...</td>\n",
       "      <td>0</td>\n",
       "      <td>0</td>\n",
       "      <td>NaN</td>\n",
       "      <td>NaN</td>\n",
       "      <td>NaN</td>\n",
       "      <td>0</td>\n",
       "      <td>12</td>\n",
       "      <td>2008</td>\n",
       "      <td>WD</td>\n",
       "      <td>Normal</td>\n",
       "    </tr>\n",
       "  </tbody>\n",
       "</table>\n",
       "<p>5 rows × 79 columns</p>\n",
       "</div>"
      ],
      "text/plain": [
       "   MSSubClass MSZoning  LotFrontage  LotArea Street Alley LotShape  \\\n",
       "0          60       RL         65.0     8450   Pave   NaN      Reg   \n",
       "1          20       RL         80.0     9600   Pave   NaN      Reg   \n",
       "2          60       RL         68.0    11250   Pave   NaN      IR1   \n",
       "3          70       RL         60.0     9550   Pave   NaN      IR1   \n",
       "4          60       RL         84.0    14260   Pave   NaN      IR1   \n",
       "\n",
       "  LandContour Utilities LotConfig  ... ScreenPorch PoolArea PoolQC Fence  \\\n",
       "0         Lvl    AllPub    Inside  ...           0        0    NaN   NaN   \n",
       "1         Lvl    AllPub       FR2  ...           0        0    NaN   NaN   \n",
       "2         Lvl    AllPub    Inside  ...           0        0    NaN   NaN   \n",
       "3         Lvl    AllPub    Corner  ...           0        0    NaN   NaN   \n",
       "4         Lvl    AllPub       FR2  ...           0        0    NaN   NaN   \n",
       "\n",
       "  MiscFeature MiscVal  MoSold  YrSold  SaleType  SaleCondition  \n",
       "0         NaN       0       2    2008        WD         Normal  \n",
       "1         NaN       0       5    2007        WD         Normal  \n",
       "2         NaN       0       9    2008        WD         Normal  \n",
       "3         NaN       0       2    2006        WD        Abnorml  \n",
       "4         NaN       0      12    2008        WD         Normal  \n",
       "\n",
       "[5 rows x 79 columns]"
      ]
     },
     "execution_count": 741,
     "metadata": {},
     "output_type": "execute_result"
    }
   ],
   "source": [
    "all_data.head()"
   ]
  },
  {
   "cell_type": "code",
   "execution_count": null,
   "metadata": {},
   "outputs": [],
   "source": []
  },
  {
   "cell_type": "markdown",
   "metadata": {},
   "source": [
    "## MissingValues"
   ]
  },
  {
   "cell_type": "code",
   "execution_count": 742,
   "metadata": {},
   "outputs": [],
   "source": [
    "all_data_miss = all_data.isnull().sum().sort_values(ascending=False) / len(all_data)"
   ]
  },
  {
   "cell_type": "code",
   "execution_count": 743,
   "metadata": {},
   "outputs": [],
   "source": [
    "all_data_miss = all_data_miss[:50]"
   ]
  },
  {
   "cell_type": "code",
   "execution_count": 744,
   "metadata": {},
   "outputs": [
    {
     "data": {
      "text/plain": [
       "PoolQC          0.996914\n",
       "MiscFeature     0.963992\n",
       "Alley           0.932099\n",
       "Fence           0.804184\n",
       "FireplaceQu     0.486968\n",
       "LotFrontage     0.166667\n",
       "GarageCond      0.054527\n",
       "GarageQual      0.054527\n",
       "GarageYrBlt     0.054527\n",
       "GarageFinish    0.054527\n",
       "GarageType      0.053841\n",
       "BsmtCond        0.028121\n",
       "BsmtExposure    0.028121\n",
       "BsmtQual        0.027778\n",
       "BsmtFinType2    0.027435\n",
       "BsmtFinType1    0.027092\n",
       "MasVnrType      0.008230\n",
       "MasVnrArea      0.007888\n",
       "MSZoning        0.001372\n",
       "BsmtHalfBath    0.000686\n",
       "Utilities       0.000686\n",
       "Functional      0.000686\n",
       "BsmtFullBath    0.000686\n",
       "BsmtFinSF2      0.000343\n",
       "BsmtFinSF1      0.000343\n",
       "Exterior2nd     0.000343\n",
       "BsmtUnfSF       0.000343\n",
       "TotalBsmtSF     0.000343\n",
       "Exterior1st     0.000343\n",
       "SaleType        0.000343\n",
       "Electrical      0.000343\n",
       "KitchenQual     0.000343\n",
       "GarageArea      0.000343\n",
       "GarageCars      0.000343\n",
       "OverallQual     0.000000\n",
       "OverallCond     0.000000\n",
       "LotArea         0.000000\n",
       "Street          0.000000\n",
       "LotShape        0.000000\n",
       "LandContour     0.000000\n",
       "LotConfig       0.000000\n",
       "LandSlope       0.000000\n",
       "Neighborhood    0.000000\n",
       "Condition1      0.000000\n",
       "Condition2      0.000000\n",
       "BldgType        0.000000\n",
       "RoofMatl        0.000000\n",
       "HouseStyle      0.000000\n",
       "RoofStyle       0.000000\n",
       "YearRemodAdd    0.000000\n",
       "dtype: float64"
      ]
     },
     "execution_count": 744,
     "metadata": {},
     "output_type": "execute_result"
    }
   ],
   "source": [
    "all_data_miss"
   ]
  },
  {
   "cell_type": "code",
   "execution_count": 745,
   "metadata": {},
   "outputs": [
    {
     "data": {
      "image/png": "[encoded data removed]",
      "text/plain": [
       "<Figure size 936x576 with 1 Axes>"
      ]
     },
     "metadata": {
      "needs_background": "light"
     },
     "output_type": "display_data"
    }
   ],
   "source": [
    "f, ax = plt.subplots(figsize=(13,8))\n",
    "sns.barplot(x=all_data_miss.index, y=all_data_miss)\n",
    "plt.xticks(rotation='90')\n",
    "plt.xlabel('Features')\n",
    "plt.ylabel('Percentage')\n",
    "plt.title('Percentage of Missing Valuess')\n",
    "plt.show()"
   ]
  },
  {
   "cell_type": "code",
   "execution_count": 746,
   "metadata": {},
   "outputs": [],
   "source": [
    "for i in all_data_miss[:5].index:\n",
    "    del all_data[i]"
   ]
  },
  {
   "cell_type": "markdown",
   "metadata": {},
   "source": [
    "- PoolQC ~ FireplaceQu 열 지워주기"
   ]
  },
  {
   "cell_type": "code",
   "execution_count": 747,
   "metadata": {},
   "outputs": [
    {
     "data": {
      "text/plain": [
       "(2916, 74)"
      ]
     },
     "execution_count": 747,
     "metadata": {},
     "output_type": "execute_result"
    }
   ],
   "source": [
    "all_data.shape"
   ]
  },
  {
   "cell_type": "code",
   "execution_count": null,
   "metadata": {},
   "outputs": [],
   "source": []
  },
  {
   "cell_type": "markdown",
   "metadata": {},
   "source": [
    "- 나머지 결측치 중 dtpye이 object는 None으로 채우고 float은 0으로 채우기"
   ]
  },
  {
   "cell_type": "code",
   "execution_count": 748,
   "metadata": {},
   "outputs": [],
   "source": [
    "all_data_miss = all_data_miss[5:]"
   ]
  },
  {
   "cell_type": "code",
   "execution_count": 749,
   "metadata": {},
   "outputs": [
    {
     "data": {
      "text/plain": [
       "LotFrontage     0.166667\n",
       "GarageCond      0.054527\n",
       "GarageQual      0.054527\n",
       "GarageYrBlt     0.054527\n",
       "GarageFinish    0.054527\n",
       "GarageType      0.053841\n",
       "BsmtCond        0.028121\n",
       "BsmtExposure    0.028121\n",
       "BsmtQual        0.027778\n",
       "BsmtFinType2    0.027435\n",
       "BsmtFinType1    0.027092\n",
       "MasVnrType      0.008230\n",
       "MasVnrArea      0.007888\n",
       "MSZoning        0.001372\n",
       "BsmtHalfBath    0.000686\n",
       "Utilities       0.000686\n",
       "Functional      0.000686\n",
       "BsmtFullBath    0.000686\n",
       "BsmtFinSF2      0.000343\n",
       "BsmtFinSF1      0.000343\n",
       "Exterior2nd     0.000343\n",
       "BsmtUnfSF       0.000343\n",
       "TotalBsmtSF     0.000343\n",
       "Exterior1st     0.000343\n",
       "SaleType        0.000343\n",
       "Electrical      0.000343\n",
       "KitchenQual     0.000343\n",
       "GarageArea      0.000343\n",
       "GarageCars      0.000343\n",
       "OverallQual     0.000000\n",
       "OverallCond     0.000000\n",
       "LotArea         0.000000\n",
       "Street          0.000000\n",
       "LotShape        0.000000\n",
       "LandContour     0.000000\n",
       "LotConfig       0.000000\n",
       "LandSlope       0.000000\n",
       "Neighborhood    0.000000\n",
       "Condition1      0.000000\n",
       "Condition2      0.000000\n",
       "BldgType        0.000000\n",
       "RoofMatl        0.000000\n",
       "HouseStyle      0.000000\n",
       "RoofStyle       0.000000\n",
       "YearRemodAdd    0.000000\n",
       "dtype: float64"
      ]
     },
     "execution_count": 749,
     "metadata": {},
     "output_type": "execute_result"
    }
   ],
   "source": [
    "all_data_miss"
   ]
  },
  {
   "cell_type": "code",
   "execution_count": 750,
   "metadata": {},
   "outputs": [],
   "source": [
    "miss_index = all_data_miss.index"
   ]
  },
  {
   "cell_type": "code",
   "execution_count": null,
   "metadata": {},
   "outputs": [],
   "source": []
  },
  {
   "cell_type": "code",
   "execution_count": 751,
   "metadata": {},
   "outputs": [
    {
     "name": "stdout",
     "output_type": "stream",
     "text": [
      "<class 'pandas.core.frame.DataFrame'>\n",
      "RangeIndex: 2916 entries, 0 to 2915\n",
      "Data columns (total 45 columns):\n",
      " #   Column        Non-Null Count  Dtype  \n",
      "---  ------        --------------  -----  \n",
      " 0   LotFrontage   2430 non-null   float64\n",
      " 1   GarageCond    2757 non-null   object \n",
      " 2   GarageQual    2757 non-null   object \n",
      " 3   GarageYrBlt   2757 non-null   float64\n",
      " 4   GarageFinish  2757 non-null   object \n",
      " 5   GarageType    2759 non-null   object \n",
      " 6   BsmtCond      2834 non-null   object \n",
      " 7   BsmtExposure  2834 non-null   object \n",
      " 8   BsmtQual      2835 non-null   object \n",
      " 9   BsmtFinType2  2836 non-null   object \n",
      " 10  BsmtFinType1  2837 non-null   object \n",
      " 11  MasVnrType    2892 non-null   object \n",
      " 12  MasVnrArea    2893 non-null   float64\n",
      " 13  MSZoning      2912 non-null   object \n",
      " 14  BsmtHalfBath  2914 non-null   float64\n",
      " 15  Utilities     2914 non-null   object \n",
      " 16  Functional    2914 non-null   object \n",
      " 17  BsmtFullBath  2914 non-null   float64\n",
      " 18  BsmtFinSF2    2915 non-null   float64\n",
      " 19  BsmtFinSF1    2915 non-null   float64\n",
      " 20  Exterior2nd   2915 non-null   object \n",
      " 21  BsmtUnfSF     2915 non-null   float64\n",
      " 22  TotalBsmtSF   2915 non-null   float64\n",
      " 23  Exterior1st   2915 non-null   object \n",
      " 24  SaleType      2915 non-null   object \n",
      " 25  Electrical    2915 non-null   object \n",
      " 26  KitchenQual   2915 non-null   object \n",
      " 27  GarageArea    2915 non-null   float64\n",
      " 28  GarageCars    2915 non-null   float64\n",
      " 29  OverallQual   2916 non-null   int64  \n",
      " 30  OverallCond   2916 non-null   int64  \n",
      " 31  LotArea       2916 non-null   int64  \n",
      " 32  Street        2916 non-null   object \n",
      " 33  LotShape      2916 non-null   object \n",
      " 34  LandContour   2916 non-null   object \n",
      " 35  LotConfig     2916 non-null   object \n",
      " 36  LandSlope     2916 non-null   object \n",
      " 37  Neighborhood  2916 non-null   object \n",
      " 38  Condition1    2916 non-null   object \n",
      " 39  Condition2    2916 non-null   object \n",
      " 40  BldgType      2916 non-null   object \n",
      " 41  RoofMatl      2916 non-null   object \n",
      " 42  HouseStyle    2916 non-null   object \n",
      " 43  RoofStyle     2916 non-null   object \n",
      " 44  YearRemodAdd  2916 non-null   int64  \n",
      "dtypes: float64(11), int64(4), object(30)\n",
      "memory usage: 1.0+ MB\n"
     ]
    }
   ],
   "source": [
    "all_data[miss_index].info()"
   ]
  },
  {
   "cell_type": "code",
   "execution_count": 752,
   "metadata": {},
   "outputs": [],
   "source": [
    "all_data[['LotFrontage', 'GarageYrBlt', 'MasVnrArea', 'BsmtHalfBath', 'BsmtFullBath', 'BsmtUnfSF',\n",
    "        'BsmtFinSF2', 'BsmtFinSF1', 'TotalBsmtSF', 'GarageCars', 'GarageArea']] = \\\n",
    "all_data[['LotFrontage', 'GarageYrBlt', 'MasVnrArea', 'BsmtHalfBath', 'BsmtFullBath', 'BsmtUnfSF',\n",
    "        'BsmtFinSF2', 'BsmtFinSF1', 'TotalBsmtSF', 'GarageCars', 'GarageArea']].fillna(0)"
   ]
  },
  {
   "cell_type": "code",
   "execution_count": 753,
   "metadata": {},
   "outputs": [],
   "source": [
    "all_data[['GarageCond', 'GarageQual', 'GarageFinish', 'GarageType', 'BsmtCond', 'BsmtExposure', 'BsmtQual', 'BsmtFinType2', 'BsmtFinType1', \n",
    "         'MasVnrType', 'MSZoning', 'Utilities', 'Functional', 'SaleType', 'Exterior2nd',\n",
    "         'Exterior1st', 'Electrical', 'KitchenQual']] = \\\n",
    "all_data[['GarageCond', 'GarageQual', 'GarageFinish', 'GarageType', 'BsmtCond', 'BsmtExposure', 'BsmtQual', 'BsmtFinType2', 'BsmtFinType1', \n",
    "         'MasVnrType', 'MSZoning', 'Utilities', 'Functional', 'SaleType', 'Exterior2nd',\n",
    "         'Exterior1st', 'Electrical', 'KitchenQual']].fillna('None')"
   ]
  },
  {
   "cell_type": "code",
   "execution_count": 754,
   "metadata": {},
   "outputs": [
    {
     "data": {
      "text/plain": [
       "SaleCondition    0\n",
       "YearRemodAdd     0\n",
       "RoofMatl         0\n",
       "Exterior1st      0\n",
       "Exterior2nd      0\n",
       "MasVnrType       0\n",
       "MasVnrArea       0\n",
       "ExterQual        0\n",
       "ExterCond        0\n",
       "Foundation       0\n",
       "dtype: int64"
      ]
     },
     "execution_count": 754,
     "metadata": {},
     "output_type": "execute_result"
    }
   ],
   "source": [
    "all_data.isnull().sum().sort_values(ascending=False).head(10)"
   ]
  },
  {
   "cell_type": "code",
   "execution_count": 755,
   "metadata": {},
   "outputs": [
    {
     "data": {
      "text/plain": [
       "(2916, 74)"
      ]
     },
     "execution_count": 755,
     "metadata": {},
     "output_type": "execute_result"
    }
   ],
   "source": [
    "all_data.shape"
   ]
  },
  {
   "cell_type": "markdown",
   "metadata": {},
   "source": [
    "# Feature engineering"
   ]
  },
  {
   "cell_type": "markdown",
   "metadata": {},
   "source": [
    "## numerical but categorical"
   ]
  },
  {
   "cell_type": "code",
   "execution_count": 756,
   "metadata": {},
   "outputs": [],
   "source": [
    "all_data['MSSubClass'] = all_data['MSSubClass'].astype(str)\n",
    "all_data['OverallCond'] = all_data['OverallCond'].astype(str)\n",
    "all_data['YrSold'] = all_data['YrSold'].astype(str)\n",
    "all_data['MoSold'] = all_data['MoSold'].astype(str)"
   ]
  },
  {
   "cell_type": "code",
   "execution_count": 757,
   "metadata": {},
   "outputs": [
    {
     "name": "stdout",
     "output_type": "stream",
     "text": [
      "Shape of all data: (2916, 74)\n"
     ]
    }
   ],
   "source": [
    "from sklearn.preprocessing import LabelEncoder\n",
    "cols = ('BsmtQual', 'BsmtCond', 'GarageQual', 'GarageCond', \n",
    "        'ExterQual', 'ExterCond','HeatingQC', 'KitchenQual', 'BsmtFinType1', \n",
    "        'BsmtFinType2', 'Functional', 'BsmtExposure', 'GarageFinish', 'LandSlope',\n",
    "        'LotShape', 'PavedDrive', 'Street', 'CentralAir', 'MSSubClass', 'OverallCond', \n",
    "        'YrSold', 'MoSold')\n",
    "\n",
    "for i in cols:\n",
    "    lbl = LabelEncoder()\n",
    "    lbl.fit(list(all_data[i].values))\n",
    "    all_data[i] = lbl.transform(list(all_data[i].values))\n",
    "    \n",
    "print(\"Shape of all data: {}\".format(all_data.shape))"
   ]
  },
  {
   "cell_type": "code",
   "execution_count": 758,
   "metadata": {},
   "outputs": [
    {
     "name": "stdout",
     "output_type": "stream",
     "text": [
      "1457\n",
      "1459\n"
     ]
    }
   ],
   "source": [
    "print(n_train)\n",
    "print(n_test)\n"
   ]
  },
  {
   "cell_type": "code",
   "execution_count": 759,
   "metadata": {},
   "outputs": [
    {
     "data": {
      "text/plain": [
       "(2916, 218)"
      ]
     },
     "execution_count": 759,
     "metadata": {},
     "output_type": "execute_result"
    }
   ],
   "source": [
    "all_data = pd.get_dummies(all_data)\n",
    "all_data.shape"
   ]
  },
  {
   "cell_type": "code",
   "execution_count": 760,
   "metadata": {},
   "outputs": [],
   "source": [
    "train = all_data[:n_train]\n",
    "test = all_data[n_train:]"
   ]
  },
  {
   "cell_type": "code",
   "execution_count": null,
   "metadata": {},
   "outputs": [],
   "source": []
  },
  {
   "cell_type": "code",
   "execution_count": 761,
   "metadata": {},
   "outputs": [
    {
     "data": {
      "text/plain": [
       "((1457, 218), (1459, 218))"
      ]
     },
     "execution_count": 761,
     "metadata": {},
     "output_type": "execute_result"
    }
   ],
   "source": [
    "train.shape, test.shape"
   ]
  },
  {
   "cell_type": "code",
   "execution_count": null,
   "metadata": {},
   "outputs": [],
   "source": []
  },
  {
   "cell_type": "markdown",
   "metadata": {},
   "source": [
    "# dataset"
   ]
  },
  {
   "cell_type": "code",
   "execution_count": 762,
   "metadata": {},
   "outputs": [],
   "source": [
    "X_train = train\n",
    "y_train = y_train\n",
    "X_test = test\n"
   ]
  },
  {
   "cell_type": "code",
   "execution_count": 763,
   "metadata": {},
   "outputs": [
    {
     "data": {
      "text/plain": [
       "1457"
      ]
     },
     "execution_count": 763,
     "metadata": {},
     "output_type": "execute_result"
    }
   ],
   "source": [
    "len(X_train)"
   ]
  },
  {
   "cell_type": "code",
   "execution_count": 764,
   "metadata": {},
   "outputs": [
    {
     "data": {
      "text/plain": [
       "1457"
      ]
     },
     "execution_count": 764,
     "metadata": {},
     "output_type": "execute_result"
    }
   ],
   "source": [
    "len(y_train)"
   ]
  },
  {
   "cell_type": "markdown",
   "metadata": {},
   "source": [
    "# Model"
   ]
  },
  {
   "cell_type": "markdown",
   "metadata": {},
   "source": [
    "## RandomForest"
   ]
  },
  {
   "cell_type": "code",
   "execution_count": 765,
   "metadata": {},
   "outputs": [],
   "source": [
    "from sklearn.ensemble import RandomForestRegressor"
   ]
  },
  {
   "cell_type": "code",
   "execution_count": 766,
   "metadata": {},
   "outputs": [
    {
     "data": {
      "text/plain": [
       "RandomForestRegressor(bootstrap=True, ccp_alpha=0.0, criterion='mse',\n",
       "                      max_depth=None, max_features='auto', max_leaf_nodes=None,\n",
       "                      max_samples=None, min_impurity_decrease=0.0,\n",
       "                      min_impurity_split=None, min_samples_leaf=1,\n",
       "                      min_samples_split=2, min_weight_fraction_leaf=0.0,\n",
       "                      n_estimators=100, n_jobs=None, oob_score=False,\n",
       "                      random_state=42, verbose=0, warm_start=False)"
      ]
     },
     "execution_count": 766,
     "metadata": {},
     "output_type": "execute_result"
    }
   ],
   "source": [
    "model = RandomForestRegressor(random_state=42)\n",
    "model"
   ]
  },
  {
   "cell_type": "code",
   "execution_count": 767,
   "metadata": {},
   "outputs": [
    {
     "data": {
      "text/plain": [
       "RandomForestRegressor(bootstrap=True, ccp_alpha=0.0, criterion='mse',\n",
       "                      max_depth=None, max_features='auto', max_leaf_nodes=None,\n",
       "                      max_samples=None, min_impurity_decrease=0.0,\n",
       "                      min_impurity_split=None, min_samples_leaf=1,\n",
       "                      min_samples_split=2, min_weight_fraction_leaf=0.0,\n",
       "                      n_estimators=100, n_jobs=None, oob_score=False,\n",
       "                      random_state=42, verbose=0, warm_start=False)"
      ]
     },
     "execution_count": 767,
     "metadata": {},
     "output_type": "execute_result"
    }
   ],
   "source": [
    "model.fit(X_train, y_train)"
   ]
  },
  {
   "cell_type": "code",
   "execution_count": 771,
   "metadata": {},
   "outputs": [],
   "source": [
    "y_predict = model.predict(X_test)"
   ]
  },
  {
   "cell_type": "code",
   "execution_count": 772,
   "metadata": {},
   "outputs": [
    {
     "data": {
      "text/plain": [
       "1459"
      ]
     },
     "execution_count": 772,
     "metadata": {},
     "output_type": "execute_result"
    }
   ],
   "source": [
    "len(y_predict)"
   ]
  },
  {
   "cell_type": "code",
   "execution_count": null,
   "metadata": {},
   "outputs": [],
   "source": []
  },
  {
   "cell_type": "code",
   "execution_count": null,
   "metadata": {},
   "outputs": [],
   "source": []
  },
  {
   "cell_type": "code",
   "execution_count": null,
   "metadata": {},
   "outputs": [],
   "source": []
  },
  {
   "cell_type": "code",
   "execution_count": null,
   "metadata": {},
   "outputs": [],
   "source": []
  },
  {
   "cell_type": "code",
   "execution_count": null,
   "metadata": {},
   "outputs": [],
   "source": []
  },
  {
   "cell_type": "code",
   "execution_count": null,
   "metadata": {},
   "outputs": [],
   "source": []
  },
  {
   "cell_type": "code",
   "execution_count": null,
   "metadata": {},
   "outputs": [],
   "source": []
  },
  {
   "cell_type": "code",
   "execution_count": null,
   "metadata": {},
   "outputs": [],
   "source": []
  },
  {
   "cell_type": "code",
   "execution_count": null,
   "metadata": {},
   "outputs": [],
   "source": []
  },
  {
   "cell_type": "code",
   "execution_count": null,
   "metadata": {},
   "outputs": [],
   "source": []
  },
  {
   "cell_type": "markdown",
   "metadata": {},
   "source": [
    "## cross val predict"
   ]
  },
  {
   "cell_type": "code",
   "execution_count": 775,
   "metadata": {},
   "outputs": [
    {
     "name": "stderr",
     "output_type": "stream",
     "text": [
      "[Parallel(n_jobs=-1)]: Using backend LokyBackend with 12 concurrent workers.\n",
      "[Parallel(n_jobs=-1)]: Done   2 out of   5 | elapsed:    2.6s remaining:    3.9s\n",
      "[Parallel(n_jobs=-1)]: Done   5 out of   5 | elapsed:    2.7s finished\n"
     ]
    }
   ],
   "source": [
    "from sklearn.model_selection import cross_val_predict\n",
    "y_predict1 = cross_val_predict(model, X_train, y_train,\n",
    "                              cv=5, verbose=5, n_jobs=-1)"
   ]
  },
  {
   "cell_type": "code",
   "execution_count": 776,
   "metadata": {},
   "outputs": [
    {
     "data": {
      "text/plain": [
       "1457"
      ]
     },
     "execution_count": 776,
     "metadata": {},
     "output_type": "execute_result"
    }
   ],
   "source": [
    "len(y_predict1)"
   ]
  },
  {
   "cell_type": "code",
   "execution_count": 777,
   "metadata": {},
   "outputs": [
    {
     "data": {
      "text/plain": [
       "<matplotlib.axes._subplots.AxesSubplot at 0x7fadaea9ea10>"
      ]
     },
     "execution_count": 777,
     "metadata": {},
     "output_type": "execute_result"
    },
    {
     "data": {
      "image/png": "[encoded data removed]",
      "text/plain": [
       "<Figure size 720x576 with 1 Axes>"
      ]
     },
     "metadata": {
      "needs_background": "light"
     },
     "output_type": "display_data"
    }
   ],
   "source": [
    "f, ax = plt.subplots(figsize=(10,8))\n",
    "sns.distplot(y_train, hist=False, label='Train')\n",
    "sns.distplot(y_predict1, hist=False, label='Test')"
   ]
  },
  {
   "cell_type": "code",
   "execution_count": null,
   "metadata": {},
   "outputs": [],
   "source": []
  },
  {
   "cell_type": "markdown",
   "metadata": {},
   "source": [
    "## RandomizedSearchCV"
   ]
  },
  {
   "cell_type": "code",
   "execution_count": 778,
   "metadata": {},
   "outputs": [],
   "source": [
    "from sklearn.model_selection import RandomizedSearchCV\n",
    "from sklearn.ensemble import RandomForestRegressor, GradientBoostingRegressor\n",
    "from sklearn.tree import DecisionTreeRegressor"
   ]
  },
  {
   "cell_type": "code",
   "execution_count": 779,
   "metadata": {},
   "outputs": [],
   "source": [
    "estimators = [DecisionTreeRegressor(random_state=42),\n",
    "             RandomForestRegressor(random_state=42),\n",
    "             GradientBoostingRegressor(random_state=42)]"
   ]
  },
  {
   "cell_type": "code",
   "execution_count": 782,
   "metadata": {},
   "outputs": [],
   "source": [
    "RandomizedSearchCV?"
   ]
  },
  {
   "cell_type": "code",
   "execution_count": 781,
   "metadata": {},
   "outputs": [],
   "source": [
    "param_distributions = {'max_depth': np.random.randint(3,20,100),\n",
    "                      'max_features': np.random.uniform(0.3, 1.0, 100)}"
   ]
  },
  {
   "cell_type": "code",
   "execution_count": 784,
   "metadata": {},
   "outputs": [
    {
     "name": "stdout",
     "output_type": "stream",
     "text": [
      "Fitting 5 folds for each of 100 candidates, totalling 500 fits\n"
     ]
    },
    {
     "name": "stderr",
     "output_type": "stream",
     "text": [
      "[Parallel(n_jobs=-1)]: Using backend LokyBackend with 12 concurrent workers.\n",
      "[Parallel(n_jobs=-1)]: Done  17 tasks      | elapsed:    0.1s\n",
      "[Parallel(n_jobs=-1)]: Done 500 out of 500 | elapsed:    1.5s finished\n",
      "[Parallel(n_jobs=-1)]: Using backend LokyBackend with 12 concurrent workers.\n"
     ]
    },
    {
     "name": "stdout",
     "output_type": "stream",
     "text": [
      "Fitting 5 folds for each of 100 candidates, totalling 500 fits\n"
     ]
    },
    {
     "name": "stderr",
     "output_type": "stream",
     "text": [
      "[Parallel(n_jobs=-1)]: Done  17 tasks      | elapsed:    1.7s\n",
      "[Parallel(n_jobs=-1)]: Done 138 tasks      | elapsed:   16.3s\n",
      "[Parallel(n_jobs=-1)]: Done 341 tasks      | elapsed:   44.3s\n",
      "[Parallel(n_jobs=-1)]: Done 500 out of 500 | elapsed:  1.1min finished\n"
     ]
    },
    {
     "name": "stdout",
     "output_type": "stream",
     "text": [
      "Fitting 5 folds for each of 100 candidates, totalling 500 fits\n"
     ]
    },
    {
     "name": "stderr",
     "output_type": "stream",
     "text": [
      "[Parallel(n_jobs=-1)]: Using backend LokyBackend with 12 concurrent workers.\n",
      "[Parallel(n_jobs=-1)]: Done  17 tasks      | elapsed:    2.6s\n",
      "[Parallel(n_jobs=-1)]: Done 138 tasks      | elapsed:   24.0s\n",
      "[Parallel(n_jobs=-1)]: Done 341 tasks      | elapsed:   58.8s\n",
      "[Parallel(n_jobs=-1)]: Done 500 out of 500 | elapsed:  1.5min finished\n"
     ]
    }
   ],
   "source": [
    "results = []\n",
    "\n",
    "for estimator in estimators:\n",
    "    result = []\n",
    "    \n",
    "    regressor = RandomizedSearchCV(estimator,\n",
    "                                  param_distributions=param_distributions,\n",
    "                                  n_iter=100,\n",
    "                                  n_jobs=-1,\n",
    "                                  cv=5,\n",
    "                                  verbose=2,\n",
    "                                  random_state=42)\n",
    "    \n",
    "    regressor.fit(X_train, y_train)\n",
    "    \n",
    "    result.append(estimator.__class__.__name__)\n",
    "    result.append(regressor.best_params_)\n",
    "    result.append(regressor.best_estimator_)\n",
    "    result.append(regressor.best_score_)\n",
    "    result.append(regressor.cv_results_)\n",
    "    \n",
    "    results.append(result)"
   ]
  },
  {
   "cell_type": "code",
   "execution_count": 785,
   "metadata": {},
   "outputs": [
    {
     "data": {
      "text/plain": [
       "[['DecisionTreeRegressor',\n",
       "  {'max_features': 0.8808162353997429, 'max_depth': 5},\n",
       "  DecisionTreeRegressor(ccp_alpha=0.0, criterion='mse', max_depth=5,\n",
       "                        max_features=0.8808162353997429, max_leaf_nodes=None,\n",
       "                        min_impurity_decrease=0.0, min_impurity_split=None,\n",
       "                        min_samples_leaf=1, min_samples_split=2,\n",
       "                        min_weight_fraction_leaf=0.0, presort='deprecated',\n",
       "                        random_state=42, splitter='best'),\n",
       "  0.790004829540581,\n",
       "  {'mean_fit_time': array([0.013273  , 0.02615471, 0.01627941, 0.01364059, 0.04079385,\n",
       "          0.04550261, 0.03165908, 0.04775467, 0.0125236 , 0.04890294,\n",
       "          0.02824907, 0.03414211, 0.02661638, 0.01419849, 0.0229743 ,\n",
       "          0.01127806, 0.01829939, 0.04699097, 0.01072154, 0.04112887,\n",
       "          0.01223855, 0.03412375, 0.01356516, 0.02580791, 0.023525  ,\n",
       "          0.01830192, 0.02080922, 0.02626624, 0.01010647, 0.0247108 ,\n",
       "          0.02799587, 0.03343339, 0.04249964, 0.02271152, 0.04676843,\n",
       "          0.01075792, 0.03144464, 0.02570314, 0.02290411, 0.01740746,\n",
       "          0.01476536, 0.04796004, 0.02344146, 0.01704707, 0.02047906,\n",
       "          0.04485803, 0.02177343, 0.04494872, 0.03475003, 0.02545557,\n",
       "          0.03180137, 0.02630925, 0.01956959, 0.011654  , 0.04286776,\n",
       "          0.02056909, 0.01467443, 0.02031684, 0.01826334, 0.03132367,\n",
       "          0.03737445, 0.0439908 , 0.01445403, 0.02405834, 0.02480268,\n",
       "          0.01527076, 0.01675577, 0.01632619, 0.02954888, 0.02044997,\n",
       "          0.02591128, 0.0311708 , 0.04115252, 0.01612024, 0.03009062,\n",
       "          0.01998038, 0.03630648, 0.01224685, 0.04192133, 0.04168539,\n",
       "          0.01230469, 0.01898723, 0.04793897, 0.01830792, 0.01473589,\n",
       "          0.01907678, 0.02725477, 0.02737045, 0.02205291, 0.02771897,\n",
       "          0.02147579, 0.02830596, 0.04736166, 0.02947264, 0.04725838,\n",
       "          0.02716241, 0.0144702 , 0.03304229, 0.02368979, 0.02860541]),\n",
       "   'std_fit_time': array([0.00033614, 0.00361062, 0.00174584, 0.00038793, 0.00115478,\n",
       "          0.0026501 , 0.0016731 , 0.00238454, 0.00181308, 0.00232342,\n",
       "          0.00140666, 0.00171698, 0.00190968, 0.00206878, 0.00333851,\n",
       "          0.00215004, 0.0023587 , 0.00489918, 0.00206561, 0.00146285,\n",
       "          0.00051584, 0.00142801, 0.00152177, 0.00116862, 0.00149177,\n",
       "          0.00136482, 0.00071985, 0.00207081, 0.00177911, 0.00183094,\n",
       "          0.00268711, 0.00266931, 0.0029038 , 0.00461358, 0.00145918,\n",
       "          0.00135646, 0.00148417, 0.00073723, 0.00132873, 0.00061038,\n",
       "          0.00056916, 0.00480947, 0.001354  , 0.00077238, 0.00072086,\n",
       "          0.00244608, 0.00126192, 0.00246036, 0.00188386, 0.005221  ,\n",
       "          0.01130412, 0.00264035, 0.00108667, 0.00025817, 0.00124443,\n",
       "          0.00065011, 0.00047531, 0.00190008, 0.00114467, 0.00151595,\n",
       "          0.0014629 , 0.00224163, 0.00093209, 0.00196387, 0.00218728,\n",
       "          0.00111943, 0.00156226, 0.00087263, 0.00052249, 0.00148363,\n",
       "          0.00035222, 0.00293551, 0.00088306, 0.00051763, 0.0009362 ,\n",
       "          0.00168628, 0.00229921, 0.000374  , 0.00325541, 0.00094671,\n",
       "          0.00058699, 0.00194503, 0.00256434, 0.00135934, 0.00167223,\n",
       "          0.00140102, 0.00081092, 0.00213055, 0.00128913, 0.00189717,\n",
       "          0.00060763, 0.00326368, 0.0027129 , 0.00151554, 0.00167938,\n",
       "          0.00133417, 0.00156437, 0.00258939, 0.00200914, 0.00182434]),\n",
       "   'mean_score_time': array([0.00162907, 0.00211458, 0.00199304, 0.00181918, 0.00206618,\n",
       "          0.00262237, 0.00230513, 0.00268164, 0.0021462 , 0.00252538,\n",
       "          0.00251102, 0.00242004, 0.00222335, 0.00213189, 0.00208492,\n",
       "          0.00180912, 0.00218992, 0.00232038, 0.00236454, 0.00252414,\n",
       "          0.00199428, 0.00291739, 0.00234327, 0.00219159, 0.00327158,\n",
       "          0.00227523, 0.00246396, 0.00220695, 0.00296736, 0.00215769,\n",
       "          0.00221419, 0.00241094, 0.00229135, 0.00481753, 0.00220857,\n",
       "          0.00287409, 0.00244536, 0.0023665 , 0.00223818, 0.00228901,\n",
       "          0.00215549, 0.00227823, 0.00230923, 0.002247  , 0.00215316,\n",
       "          0.00290327, 0.00230746, 0.00244479, 0.00222712, 0.0027246 ,\n",
       "          0.00214777, 0.00219579, 0.00246358, 0.00223694, 0.00214162,\n",
       "          0.00220966, 0.00214782, 0.00222273, 0.00211458, 0.00217056,\n",
       "          0.00217214, 0.002109  , 0.00208235, 0.00325465, 0.00225677,\n",
       "          0.00210366, 0.00241823, 0.0021224 , 0.00223384, 0.0021286 ,\n",
       "          0.00208426, 0.00211539, 0.00222807, 0.00236883, 0.00221062,\n",
       "          0.00204186, 0.00208149, 0.00232105, 0.00215182, 0.00231657,\n",
       "          0.00233612, 0.00210762, 0.00227203, 0.00216703, 0.00254078,\n",
       "          0.00218377, 0.00222397, 0.00215378, 0.00209155, 0.00208526,\n",
       "          0.00211387, 0.00307441, 0.00226402, 0.00226178, 0.00197144,\n",
       "          0.00210414, 0.00157146, 0.00214052, 0.00191231, 0.0013    ]),\n",
       "   'std_score_time': array([1.04284559e-04, 3.12554169e-04, 3.45051789e-04, 1.50964069e-04,\n",
       "          2.50043258e-04, 4.47753265e-04, 8.23348247e-05, 6.91181121e-04,\n",
       "          1.17312543e-04, 9.41822477e-04, 3.42991424e-04, 7.63294712e-04,\n",
       "          2.92380845e-04, 2.93784299e-04, 2.90989672e-04, 3.60546505e-04,\n",
       "          3.63685435e-04, 2.08662796e-04, 4.53477267e-04, 5.16676418e-04,\n",
       "          3.27399761e-04, 8.27711372e-04, 1.15880515e-04, 8.96765016e-05,\n",
       "          1.54339789e-03, 7.65146104e-05, 2.79069924e-04, 5.90861516e-04,\n",
       "          7.55135364e-04, 3.13011689e-04, 3.55226145e-04, 2.84734133e-04,\n",
       "          1.21579600e-04, 2.77980374e-03, 2.07285265e-04, 1.20624875e-03,\n",
       "          3.62044138e-04, 3.72522217e-04, 1.32148913e-04, 2.08389153e-04,\n",
       "          6.03513485e-05, 1.20263644e-04, 2.84610059e-04, 1.47852786e-04,\n",
       "          8.57729188e-05, 7.99661166e-04, 3.91559135e-04, 4.64413209e-04,\n",
       "          9.11641567e-05, 7.50938069e-04, 2.73149023e-04, 9.05741356e-05,\n",
       "          7.63008085e-04, 2.20760186e-04, 1.94858126e-04, 2.16498406e-04,\n",
       "          2.02572671e-04, 1.36248773e-04, 1.93309949e-04, 1.58223810e-04,\n",
       "          1.19066878e-04, 1.05045765e-04, 1.70244355e-04, 1.83560337e-03,\n",
       "          2.64346522e-04, 1.14137884e-04, 5.07223845e-04, 3.34611723e-04,\n",
       "          1.72254320e-04, 1.53611668e-04, 9.72359711e-05, 1.08955423e-04,\n",
       "          1.87957474e-04, 4.16944312e-04, 2.73068949e-04, 7.67049151e-05,\n",
       "          9.27551357e-05, 2.60531291e-04, 1.51489191e-04, 2.46894226e-04,\n",
       "          7.40937275e-04, 1.39650454e-04, 3.65819840e-04, 1.27484303e-04,\n",
       "          8.94650555e-04, 2.65220480e-04, 2.21974176e-04, 9.74222309e-05,\n",
       "          8.80216854e-05, 9.00707905e-05, 7.29556800e-05, 1.12467811e-03,\n",
       "          1.00024479e-04, 1.21297064e-04, 3.26682226e-04, 3.23359960e-04,\n",
       "          7.18839568e-05, 1.00084360e-04, 3.76140847e-04, 3.11804106e-05]),\n",
       "   'param_max_features': masked_array(data=[0.4700803590170096, 0.5523389837828703,\n",
       "                      0.36773768682224367, 0.31741114704340484,\n",
       "                      0.9057912604674399, 0.9425369433494757,\n",
       "                      0.5552149037732697, 0.8808162353997429,\n",
       "                      0.6659011751963306, 0.9775175250977091,\n",
       "                      0.88368331547873, 0.5475914366565494,\n",
       "                      0.39762849522565985, 0.32804755286692777,\n",
       "                      0.8440939891261154, 0.6749892158621422,\n",
       "                      0.530634708123896, 0.9198335402131153,\n",
       "                      0.3418497542434352, 0.88368331547873,\n",
       "                      0.4991983989101015, 0.5552149037732697,\n",
       "                      0.715473932600777, 0.9177460443179577,\n",
       "                      0.39762849522565985, 0.5165593441921577,\n",
       "                      0.5165593441921577, 0.5165846534102196,\n",
       "                      0.32178356115428947, 0.8262072787566046,\n",
       "                      0.9057912604674399, 0.9222124809107015,\n",
       "                      0.9177460443179577, 0.3161336347151153,\n",
       "                      0.9057912604674399, 0.5165846534102196,\n",
       "                      0.552856000866597, 0.7456090067885269,\n",
       "                      0.36773768682224367, 0.7604034536338999,\n",
       "                      0.34112274086135097, 0.9619193211418162,\n",
       "                      0.32804755286692777, 0.4315401217354158,\n",
       "                      0.3054767452787487, 0.8083510069811992,\n",
       "                      0.3418497542434352, 0.8170412594948107,\n",
       "                      0.7568056968474108, 0.3161336347151153,\n",
       "                      0.4700803590170096, 0.36900679698505917,\n",
       "                      0.8808162353997429, 0.5107679456792726,\n",
       "                      0.88368331547873, 0.6175285952176067,\n",
       "                      0.3418497542434352, 0.5041218732216987,\n",
       "                      0.5677832676290036, 0.6175285952176067,\n",
       "                      0.8262072787566046, 0.9619193211418162,\n",
       "                      0.5041218732216987, 0.36900679698505917,\n",
       "                      0.8350039983320219, 0.8965064109067322,\n",
       "                      0.4389093970540954, 0.520572781710474,\n",
       "                      0.5165846534102196, 0.6628812959823183,\n",
       "                      0.5475914366565494, 0.897400507413769,\n",
       "                      0.9619193211418162, 0.5888658288589199,\n",
       "                      0.6628812959823183, 0.520572781710474,\n",
       "                      0.6659011751963306, 0.8479915273689058,\n",
       "                      0.9737445078279918, 0.9621347480469189,\n",
       "                      0.5913439383147501, 0.5395432503925497,\n",
       "                      0.9198335402131153, 0.5397547288828992,\n",
       "                      0.3342605567281668, 0.6774560069144753,\n",
       "                      0.9815804987502048, 0.4428799597191061,\n",
       "                      0.8479915273689058, 0.5888658288589199,\n",
       "                      0.8959530713187789, 0.4389093970540954,\n",
       "                      0.9737445078279918, 0.9177460443179577,\n",
       "                      0.9468735857446047, 0.7055697166920595,\n",
       "                      0.31741114704340484, 0.9619193211418162,\n",
       "                      0.8350039983320219, 0.9198335402131153],\n",
       "                mask=[False, False, False, False, False, False, False, False,\n",
       "                      False, False, False, False, False, False, False, False,\n",
       "                      False, False, False, False, False, False, False, False,\n",
       "                      False, False, False, False, False, False, False, False,\n",
       "                      False, False, False, False, False, False, False, False,\n",
       "                      False, False, False, False, False, False, False, False,\n",
       "                      False, False, False, False, False, False, False, False,\n",
       "                      False, False, False, False, False, False, False, False,\n",
       "                      False, False, False, False, False, False, False, False,\n",
       "                      False, False, False, False, False, False, False, False,\n",
       "                      False, False, False, False, False, False, False, False,\n",
       "                      False, False, False, False, False, False, False, False,\n",
       "                      False, False, False, False],\n",
       "          fill_value='?',\n",
       "               dtype=object),\n",
       "   'param_max_depth': masked_array(data=[8, 16, 8, 9, 19, 17, 19, 18, 3, 13, 7, 19, 16, 7, 8, 4,\n",
       "                      9, 15, 5, 12, 4, 17, 3, 6, 12, 6, 8, 13, 3, 7, 8, 9,\n",
       "                      13, 14, 17, 3, 14, 8, 13, 5, 8, 13, 16, 8, 14, 18, 14,\n",
       "                      17, 11, 18, 13, 19, 5, 4, 14, 8, 8, 9, 7, 13, 12, 13,\n",
       "                      6, 16, 7, 4, 7, 7, 18, 7, 12, 9, 12, 6, 12, 8, 16, 3,\n",
       "                      12, 12, 4, 8, 17, 8, 8, 6, 7, 16, 6, 11, 6, 14, 13, 8,\n",
       "                      16, 10, 10, 12, 8, 14],\n",
       "                mask=[False, False, False, False, False, False, False, False,\n",
       "                      False, False, False, False, False, False, False, False,\n",
       "                      False, False, False, False, False, False, False, False,\n",
       "                      False, False, False, False, False, False, False, False,\n",
       "                      False, False, False, False, False, False, False, False,\n",
       "                      False, False, False, False, False, False, False, False,\n",
       "                      False, False, False, False, False, False, False, False,\n",
       "                      False, False, False, False, False, False, False, False,\n",
       "                      False, False, False, False, False, False, False, False,\n",
       "                      False, False, False, False, False, False, False, False,\n",
       "                      False, False, False, False, False, False, False, False,\n",
       "                      False, False, False, False, False, False, False, False,\n",
       "                      False, False, False, False],\n",
       "          fill_value='?',\n",
       "               dtype=object),\n",
       "   'params': [{'max_features': 0.4700803590170096, 'max_depth': 8},\n",
       "    {'max_features': 0.5523389837828703, 'max_depth': 16},\n",
       "    {'max_features': 0.36773768682224367, 'max_depth': 8},\n",
       "    {'max_features': 0.31741114704340484, 'max_depth': 9},\n",
       "    {'max_features': 0.9057912604674399, 'max_depth': 19},\n",
       "    {'max_features': 0.9425369433494757, 'max_depth': 17},\n",
       "    {'max_features': 0.5552149037732697, 'max_depth': 19},\n",
       "    {'max_features': 0.8808162353997429, 'max_depth': 18},\n",
       "    {'max_features': 0.6659011751963306, 'max_depth': 3},\n",
       "    {'max_features': 0.9775175250977091, 'max_depth': 13},\n",
       "    {'max_features': 0.88368331547873, 'max_depth': 7},\n",
       "    {'max_features': 0.5475914366565494, 'max_depth': 19},\n",
       "    {'max_features': 0.39762849522565985, 'max_depth': 16},\n",
       "    {'max_features': 0.32804755286692777, 'max_depth': 7},\n",
       "    {'max_features': 0.8440939891261154, 'max_depth': 8},\n",
       "    {'max_features': 0.6749892158621422, 'max_depth': 4},\n",
       "    {'max_features': 0.530634708123896, 'max_depth': 9},\n",
       "    {'max_features': 0.9198335402131153, 'max_depth': 15},\n",
       "    {'max_features': 0.3418497542434352, 'max_depth': 5},\n",
       "    {'max_features': 0.88368331547873, 'max_depth': 12},\n",
       "    {'max_features': 0.4991983989101015, 'max_depth': 4},\n",
       "    {'max_features': 0.5552149037732697, 'max_depth': 17},\n",
       "    {'max_features': 0.715473932600777, 'max_depth': 3},\n",
       "    {'max_features': 0.9177460443179577, 'max_depth': 6},\n",
       "    {'max_features': 0.39762849522565985, 'max_depth': 12},\n",
       "    {'max_features': 0.5165593441921577, 'max_depth': 6},\n",
       "    {'max_features': 0.5165593441921577, 'max_depth': 8},\n",
       "    {'max_features': 0.5165846534102196, 'max_depth': 13},\n",
       "    {'max_features': 0.32178356115428947, 'max_depth': 3},\n",
       "    {'max_features': 0.8262072787566046, 'max_depth': 7},\n",
       "    {'max_features': 0.9057912604674399, 'max_depth': 8},\n",
       "    {'max_features': 0.9222124809107015, 'max_depth': 9},\n",
       "    {'max_features': 0.9177460443179577, 'max_depth': 13},\n",
       "    {'max_features': 0.3161336347151153, 'max_depth': 14},\n",
       "    {'max_features': 0.9057912604674399, 'max_depth': 17},\n",
       "    {'max_features': 0.5165846534102196, 'max_depth': 3},\n",
       "    {'max_features': 0.552856000866597, 'max_depth': 14},\n",
       "    {'max_features': 0.7456090067885269, 'max_depth': 8},\n",
       "    {'max_features': 0.36773768682224367, 'max_depth': 13},\n",
       "    {'max_features': 0.7604034536338999, 'max_depth': 5},\n",
       "    {'max_features': 0.34112274086135097, 'max_depth': 8},\n",
       "    {'max_features': 0.9619193211418162, 'max_depth': 13},\n",
       "    {'max_features': 0.32804755286692777, 'max_depth': 16},\n",
       "    {'max_features': 0.4315401217354158, 'max_depth': 8},\n",
       "    {'max_features': 0.3054767452787487, 'max_depth': 14},\n",
       "    {'max_features': 0.8083510069811992, 'max_depth': 18},\n",
       "    {'max_features': 0.3418497542434352, 'max_depth': 14},\n",
       "    {'max_features': 0.8170412594948107, 'max_depth': 17},\n",
       "    {'max_features': 0.7568056968474108, 'max_depth': 11},\n",
       "    {'max_features': 0.3161336347151153, 'max_depth': 18},\n",
       "    {'max_features': 0.4700803590170096, 'max_depth': 13},\n",
       "    {'max_features': 0.36900679698505917, 'max_depth': 19},\n",
       "    {'max_features': 0.8808162353997429, 'max_depth': 5},\n",
       "    {'max_features': 0.5107679456792726, 'max_depth': 4},\n",
       "    {'max_features': 0.88368331547873, 'max_depth': 14},\n",
       "    {'max_features': 0.6175285952176067, 'max_depth': 8},\n",
       "    {'max_features': 0.3418497542434352, 'max_depth': 8},\n",
       "    {'max_features': 0.5041218732216987, 'max_depth': 9},\n",
       "    {'max_features': 0.5677832676290036, 'max_depth': 7},\n",
       "    {'max_features': 0.6175285952176067, 'max_depth': 13},\n",
       "    {'max_features': 0.8262072787566046, 'max_depth': 12},\n",
       "    {'max_features': 0.9619193211418162, 'max_depth': 13},\n",
       "    {'max_features': 0.5041218732216987, 'max_depth': 6},\n",
       "    {'max_features': 0.36900679698505917, 'max_depth': 16},\n",
       "    {'max_features': 0.8350039983320219, 'max_depth': 7},\n",
       "    {'max_features': 0.8965064109067322, 'max_depth': 4},\n",
       "    {'max_features': 0.4389093970540954, 'max_depth': 7},\n",
       "    {'max_features': 0.520572781710474, 'max_depth': 7},\n",
       "    {'max_features': 0.5165846534102196, 'max_depth': 18},\n",
       "    {'max_features': 0.6628812959823183, 'max_depth': 7},\n",
       "    {'max_features': 0.5475914366565494, 'max_depth': 12},\n",
       "    {'max_features': 0.897400507413769, 'max_depth': 9},\n",
       "    {'max_features': 0.9619193211418162, 'max_depth': 12},\n",
       "    {'max_features': 0.5888658288589199, 'max_depth': 6},\n",
       "    {'max_features': 0.6628812959823183, 'max_depth': 12},\n",
       "    {'max_features': 0.520572781710474, 'max_depth': 8},\n",
       "    {'max_features': 0.6659011751963306, 'max_depth': 16},\n",
       "    {'max_features': 0.8479915273689058, 'max_depth': 3},\n",
       "    {'max_features': 0.9737445078279918, 'max_depth': 12},\n",
       "    {'max_features': 0.9621347480469189, 'max_depth': 12},\n",
       "    {'max_features': 0.5913439383147501, 'max_depth': 4},\n",
       "    {'max_features': 0.5395432503925497, 'max_depth': 8},\n",
       "    {'max_features': 0.9198335402131153, 'max_depth': 17},\n",
       "    {'max_features': 0.5397547288828992, 'max_depth': 8},\n",
       "    {'max_features': 0.3342605567281668, 'max_depth': 8},\n",
       "    {'max_features': 0.6774560069144753, 'max_depth': 6},\n",
       "    {'max_features': 0.9815804987502048, 'max_depth': 7},\n",
       "    {'max_features': 0.4428799597191061, 'max_depth': 16},\n",
       "    {'max_features': 0.8479915273689058, 'max_depth': 6},\n",
       "    {'max_features': 0.5888658288589199, 'max_depth': 11},\n",
       "    {'max_features': 0.8959530713187789, 'max_depth': 6},\n",
       "    {'max_features': 0.4389093970540954, 'max_depth': 14},\n",
       "    {'max_features': 0.9737445078279918, 'max_depth': 13},\n",
       "    {'max_features': 0.9177460443179577, 'max_depth': 8},\n",
       "    {'max_features': 0.9468735857446047, 'max_depth': 16},\n",
       "    {'max_features': 0.7055697166920595, 'max_depth': 10},\n",
       "    {'max_features': 0.31741114704340484, 'max_depth': 10},\n",
       "    {'max_features': 0.9619193211418162, 'max_depth': 12},\n",
       "    {'max_features': 0.8350039983320219, 'max_depth': 8},\n",
       "    {'max_features': 0.9198335402131153, 'max_depth': 14}],\n",
       "   'split0_test_score': array([0.71588604, 0.76024699, 0.71448102, 0.72369764, 0.75953928,\n",
       "          0.73083478, 0.76477933, 0.72915178, 0.6946838 , 0.6892535 ,\n",
       "          0.76693119, 0.71711029, 0.78648363, 0.75335093, 0.69558028,\n",
       "          0.73347611, 0.70467463, 0.73809298, 0.72208944, 0.69619553,\n",
       "          0.67516311, 0.66718099, 0.66779619, 0.73137657, 0.72117444,\n",
       "          0.77376029, 0.75619937, 0.7633182 , 0.68738367, 0.69951006,\n",
       "          0.72860107, 0.68026586, 0.71177344, 0.70401191, 0.71517408,\n",
       "          0.64193727, 0.76001962, 0.74529186, 0.70144686, 0.73861335,\n",
       "          0.75921903, 0.70871395, 0.63275368, 0.70170805, 0.76749875,\n",
       "          0.66852551, 0.74693386, 0.7532673 , 0.74574157, 0.70482575,\n",
       "          0.74128302, 0.71848133, 0.77252583, 0.60010669, 0.73246551,\n",
       "          0.75693753, 0.75921903, 0.76749109, 0.79437923, 0.74126039,\n",
       "          0.69827383, 0.70871395, 0.75962242, 0.77635047, 0.77903882,\n",
       "          0.72103275, 0.76242648, 0.76403196, 0.68881939, 0.72651662,\n",
       "          0.71726366, 0.74351333, 0.71576552, 0.75088602, 0.70518179,\n",
       "          0.76358417, 0.75438798, 0.64762564, 0.71811881, 0.71576552,\n",
       "          0.72933951, 0.79060548, 0.73804438, 0.79060548, 0.768479  ,\n",
       "          0.75055541, 0.733971  , 0.76679802, 0.74673809, 0.74744321,\n",
       "          0.74662285, 0.74794912, 0.75211944, 0.73905363, 0.70452916,\n",
       "          0.68945387, 0.78103556, 0.71576552, 0.74859116, 0.72896071]),\n",
       "   'split1_test_score': array([0.75346016, 0.76364085, 0.76255223, 0.75078559, 0.79409656,\n",
       "          0.76037034, 0.73538025, 0.76293703, 0.68138366, 0.72403343,\n",
       "          0.78298392, 0.7721561 , 0.74159384, 0.82152564, 0.80688464,\n",
       "          0.80070031, 0.76604097, 0.78973281, 0.74272217, 0.78095312,\n",
       "          0.7649496 , 0.80022039, 0.73752948, 0.78369824, 0.72880621,\n",
       "          0.80115108, 0.76177444, 0.75253602, 0.71800957, 0.69527919,\n",
       "          0.80455064, 0.78016408, 0.78618323, 0.71661677, 0.76169043,\n",
       "          0.72352223, 0.73267406, 0.72809422, 0.76137072, 0.79499735,\n",
       "          0.73202937, 0.80327489, 0.75541657, 0.80839805, 0.77976864,\n",
       "          0.79433124, 0.79085147, 0.72950569, 0.74764556, 0.74515137,\n",
       "          0.81516179, 0.69074152, 0.82202543, 0.7565046 , 0.77338566,\n",
       "          0.81411877, 0.73202937, 0.78039976, 0.80649475, 0.79191786,\n",
       "          0.7842783 , 0.80327489, 0.77931447, 0.74306089, 0.79968161,\n",
       "          0.79015235, 0.77216498, 0.74355992, 0.8176632 , 0.70522731,\n",
       "          0.8005047 , 0.78099676, 0.79729144, 0.78086742, 0.76842376,\n",
       "          0.78797135, 0.78750773, 0.73752948, 0.79426446, 0.79729144,\n",
       "          0.77582015, 0.73512968, 0.74483695, 0.73512968, 0.78589324,\n",
       "          0.80960834, 0.80575112, 0.74793919, 0.80833064, 0.77327437,\n",
       "          0.79043964, 0.75471443, 0.78305053, 0.81474784, 0.74544757,\n",
       "          0.77496541, 0.72168783, 0.79729144, 0.77437371, 0.77526988]),\n",
       "   'split2_test_score': array([0.78093764, 0.81819721, 0.7942675 , 0.79121636, 0.76192049,\n",
       "          0.76185411, 0.75964026, 0.78750686, 0.72257598, 0.77929389,\n",
       "          0.77726517, 0.83369659, 0.80460763, 0.76855883, 0.77287053,\n",
       "          0.80280842, 0.80212487, 0.78007565, 0.78573474, 0.79596395,\n",
       "          0.74201763, 0.82006984, 0.72208036, 0.82567854, 0.77105835,\n",
       "          0.82281608, 0.81846226, 0.72207627, 0.70425213, 0.77733747,\n",
       "          0.7761087 , 0.79873533, 0.79123002, 0.64616441, 0.78537946,\n",
       "          0.72262571, 0.78510407, 0.79487694, 0.81786713, 0.81647167,\n",
       "          0.72044499, 0.7686682 , 0.74321272, 0.80728983, 0.75842406,\n",
       "          0.78402533, 0.76861632, 0.8310475 , 0.77633619, 0.7747989 ,\n",
       "          0.80017625, 0.72528752, 0.81043667, 0.73971371, 0.74844152,\n",
       "          0.79388996, 0.72044499, 0.82888707, 0.82722831, 0.79965913,\n",
       "          0.83582158, 0.7686682 , 0.78020755, 0.71970408, 0.78165275,\n",
       "          0.77173465, 0.73613512, 0.81102741, 0.77387411, 0.80399593,\n",
       "          0.80712619, 0.82295921, 0.79180182, 0.75174187, 0.77011685,\n",
       "          0.78178368, 0.81287661, 0.73263071, 0.79051663, 0.79180182,\n",
       "          0.78352355, 0.80268947, 0.78174221, 0.80268947, 0.79080365,\n",
       "          0.80157162, 0.80332261, 0.77774434, 0.8183446 , 0.82712001,\n",
       "          0.8322048 , 0.72939598, 0.78658981, 0.80088871, 0.8404395 ,\n",
       "          0.84286635, 0.80890885, 0.79180182, 0.7746092 , 0.79717757]),\n",
       "   'split3_test_score': array([0.66510917, 0.78107708, 0.72774897, 0.79827731, 0.70048687,\n",
       "          0.72904146, 0.75299485, 0.6735948 , 0.6812143 , 0.73197297,\n",
       "          0.77452068, 0.68066588, 0.69000972, 0.73532931, 0.66852133,\n",
       "          0.74407389, 0.75334029, 0.69956645, 0.77386866, 0.69886814,\n",
       "          0.71467255, 0.69556439, 0.68252237, 0.73574718, 0.74381878,\n",
       "          0.75336621, 0.72943275, 0.77926532, 0.62684228, 0.74501954,\n",
       "          0.75818537, 0.73598645, 0.78723065, 0.69484902, 0.67748106,\n",
       "          0.67720466, 0.72905722, 0.75994289, 0.80309937, 0.72052421,\n",
       "          0.76488911, 0.75231401, 0.7866461 , 0.77315673, 0.75027981,\n",
       "          0.72026756, 0.75806097, 0.75044366, 0.73998478, 0.74214561,\n",
       "          0.70673847, 0.72374321, 0.76474522, 0.73469021, 0.7171603 ,\n",
       "          0.7462059 , 0.76488911, 0.79381875, 0.77758366, 0.75147101,\n",
       "          0.71216351, 0.75231401, 0.7654628 , 0.67702015, 0.74437347,\n",
       "          0.75048749, 0.77167884, 0.76141421, 0.75011136, 0.78820284,\n",
       "          0.73118468, 0.71042513, 0.67959068, 0.75022018, 0.74053047,\n",
       "          0.75079196, 0.78784814, 0.67490659, 0.71416364, 0.67959068,\n",
       "          0.69389878, 0.78192624, 0.6825027 , 0.78192624, 0.77455959,\n",
       "          0.76997689, 0.67417587, 0.68333148, 0.76460879, 0.79152989,\n",
       "          0.70109527, 0.74485918, 0.71881827, 0.69929423, 0.67643328,\n",
       "          0.7941692 , 0.7631554 , 0.67959068, 0.75392465, 0.76592138]),\n",
       "   'split4_test_score': array([0.74111926, 0.65970173, 0.54114659, 0.70406553, 0.78884923,\n",
       "          0.80813012, 0.74896678, 0.7665715 , 0.67111931, 0.78734157,\n",
       "          0.81365371, 0.71286359, 0.73698919, 0.78799197, 0.78739305,\n",
       "          0.69222352, 0.78383547, 0.78264874, 0.68273488, 0.75203679,\n",
       "          0.7473469 , 0.80034045, 0.70263745, 0.81172091, 0.76532407,\n",
       "          0.78117146, 0.75964755, 0.73414182, 0.65728798, 0.7803669 ,\n",
       "          0.82878232, 0.79772683, 0.78247633, 0.78180554, 0.79389071,\n",
       "          0.66282872, 0.77337554, 0.76655432, 0.76485921, 0.79730923,\n",
       "          0.75653357, 0.78448246, 0.75960349, 0.78448535, 0.71230116,\n",
       "          0.78984428, 0.75750242, 0.78945307, 0.74853668, 0.5807821 ,\n",
       "          0.72718521, 0.70144198, 0.780291  , 0.65427817, 0.74518427,\n",
       "          0.75799654, 0.75653357, 0.71791642, 0.6670865 , 0.69603552,\n",
       "          0.82561308, 0.78448246, 0.72729937, 0.67625565, 0.79622245,\n",
       "          0.77007612, 0.78581427, 0.7826857 , 0.77402159, 0.81764505,\n",
       "          0.72445543, 0.79456236, 0.76077886, 0.77607634, 0.65999655,\n",
       "          0.7720445 , 0.77000711, 0.69608936, 0.75975441, 0.76077886,\n",
       "          0.75648664, 0.74356803, 0.78033329, 0.74356803, 0.77786018,\n",
       "          0.76964409, 0.79334143, 0.69410028, 0.79657973, 0.74138426,\n",
       "          0.8197459 , 0.73167703, 0.78921123, 0.75507489, 0.7851746 ,\n",
       "          0.81163848, 0.80374514, 0.76077886, 0.81272359, 0.78103516]),\n",
       "   'mean_test_score': array([0.73130246, 0.75657277, 0.70803926, 0.75360849, 0.76097849,\n",
       "          0.75804616, 0.75235229, 0.7439524 , 0.69019541, 0.74237907,\n",
       "          0.78307094, 0.74329849, 0.7519368 , 0.77335134, 0.74624997,\n",
       "          0.75465645, 0.76200325, 0.75802333, 0.74142998, 0.74480351,\n",
       "          0.72882996, 0.75667521, 0.70251317, 0.77764429, 0.74603637,\n",
       "          0.78645302, 0.76510327, 0.75026752, 0.67875513, 0.73950263,\n",
       "          0.77924562, 0.75857571, 0.77177873, 0.70868953, 0.74672315,\n",
       "          0.68562372, 0.7560461 , 0.75895205, 0.76972866, 0.77358316,\n",
       "          0.74662322, 0.7634907 , 0.73552651, 0.7750076 , 0.75365448,\n",
       "          0.75139878, 0.76439301, 0.77074344, 0.75164896, 0.70954074,\n",
       "          0.75810895, 0.71193911, 0.79000483, 0.69705868, 0.74332745,\n",
       "          0.77382974, 0.74662322, 0.77770262, 0.77455449, 0.75606878,\n",
       "          0.77123006, 0.7634907 , 0.76238132, 0.71847825, 0.78019382,\n",
       "          0.76069667, 0.76564394, 0.77254384, 0.76089793, 0.76831755,\n",
       "          0.75610693, 0.77049136, 0.74904567, 0.76195837, 0.72884988,\n",
       "          0.77123513, 0.78252551, 0.69775635, 0.75536359, 0.74904567,\n",
       "          0.74781373, 0.77078378, 0.74549191, 0.77078378, 0.77951913,\n",
       "          0.78027127, 0.76211241, 0.73398266, 0.78692037, 0.77615035,\n",
       "          0.77802169, 0.74171915, 0.76595785, 0.76181186, 0.75040482,\n",
       "          0.78261866, 0.77570655, 0.74904567, 0.77284446, 0.76967294]),\n",
       "   'std_test_score': array([0.03916683, 0.05262222, 0.08796602, 0.03678801, 0.03327395,\n",
       "          0.02867067, 0.01007443, 0.0398454 , 0.01783733, 0.0364733 ,\n",
       "          0.01614075, 0.053925  , 0.04033131, 0.0296775 , 0.05419803,\n",
       "          0.04218321, 0.03305847, 0.03438788, 0.03697572, 0.0411079 ,\n",
       "          0.03131129, 0.06255472, 0.02535324, 0.03847395, 0.01958584,\n",
       "          0.02375728, 0.02911938, 0.02035251, 0.03292793, 0.03657026,\n",
       "          0.03496419, 0.04528658, 0.03013197, 0.04366148, 0.04412011,\n",
       "          0.03257128, 0.0220686 , 0.02230776, 0.04046452, 0.03714582,\n",
       "          0.01725568, 0.03217344, 0.05331015, 0.03904649, 0.02288164,\n",
       "          0.04944264, 0.01490157, 0.03579016, 0.01269743, 0.0681041 ,\n",
       "          0.04219716, 0.01356352, 0.0222742 , 0.05999877, 0.01863222,\n",
       "          0.02578655, 0.01725568, 0.03623677, 0.05611822, 0.03749586,\n",
       "          0.05676496, 0.03217344, 0.01924763, 0.03861742, 0.0196125 ,\n",
       "          0.02347297, 0.01653426, 0.02289205, 0.04212974, 0.04433795,\n",
       "          0.03925777, 0.03944216, 0.04522162, 0.01357666, 0.04172877,\n",
       "          0.01317944, 0.01961007, 0.03416461, 0.03421375, 0.04522162,\n",
       "          0.03281124, 0.02663433, 0.03619818, 0.02663433, 0.00796496,\n",
       "          0.02198323, 0.0511911 , 0.03832196, 0.02702446, 0.03122655,\n",
       "          0.04844479, 0.00969798, 0.02710055, 0.04195473, 0.05816549,\n",
       "          0.05165966, 0.03159907, 0.04522162, 0.02254763, 0.02275298]),\n",
       "   'rank_test_score': array([ 87,  53,  94,  60,  44,  50,  61,  78,  98,  81,   4,  80,  62,\n",
       "           20,  74,  58,  41,  51,  83,  77,  89,  52,  95,  13,  75,   3,\n",
       "           35,  66, 100,  84,  10,  48,  23,  93,  71,  99,  56,  47,  30,\n",
       "           19,  72,  37,  85,  16,  59,  64,  36,  28,  63,  92,  49,  91,\n",
       "            1,  97,  79,  18,  72,  12,  17,  55,  25,  37,  39,  90,   8,\n",
       "           46,  34,  22,  45,  32,  54,  29,  67,  42,  88,  24,   6,  96,\n",
       "           57,  67,  70,  26,  76,  26,   9,   7,  40,  86,   2,  14,  11,\n",
       "           82,  33,  43,  65,   5,  15,  67,  21,  31], dtype=int32)}],\n",
       " ['RandomForestRegressor',\n",
       "  {'max_features': 0.4700803590170096, 'max_depth': 13},\n",
       "  RandomForestRegressor(bootstrap=True, ccp_alpha=0.0, criterion='mse',\n",
       "                        max_depth=13, max_features=0.4700803590170096,\n",
       "                        max_leaf_nodes=None, max_samples=None,\n",
       "                        min_impurity_decrease=0.0, min_impurity_split=None,\n",
       "                        min_samples_leaf=1, min_samples_split=2,\n",
       "                        min_weight_fraction_leaf=0.0, n_estimators=100,\n",
       "                        n_jobs=None, oob_score=False, random_state=42, verbose=0,\n",
       "                        warm_start=False),\n",
       "  0.8990993702615345,\n",
       "  {'mean_fit_time': array([0.90904741, 1.56410165, 0.74258008, 0.74179511, 2.53631263,\n",
       "          2.58227711, 1.7483192 , 2.45370617, 0.59939094, 2.35153732,\n",
       "          1.26453309, 1.77123656, 1.44754171, 0.82512197, 1.62691054,\n",
       "          0.72381463, 1.14965062, 2.40991893, 0.52553043, 2.08305202,\n",
       "          0.54403744, 1.64596639, 0.5756887 , 1.1954258 , 1.16317258,\n",
       "          0.80110574, 1.03203096, 1.48164334, 0.37296257, 1.26238627,\n",
       "          1.71894474, 1.96608348, 2.50636792, 1.07950301, 2.68099766,\n",
       "          0.51987143, 1.67095704, 1.42865386, 1.23156576, 0.9959702 ,\n",
       "          0.92642808, 2.6461926 , 1.22356234, 0.91045098, 1.02927794,\n",
       "          2.65248094, 1.26392059, 2.83999062, 2.17901139, 1.35454283,\n",
       "          1.7458529 , 1.67581072, 1.46500125, 0.86219039, 3.14039021,\n",
       "          1.69211788, 0.97726092, 1.24416614, 1.18641911, 2.03210936,\n",
       "          2.35833106, 3.0446279 , 1.02815895, 1.74766622, 1.67057471,\n",
       "          1.10402675, 0.93941836, 0.9860878 , 1.78641572, 1.2316638 ,\n",
       "          1.87749381, 2.21310558, 2.75507822, 0.91731772, 1.78138003,\n",
       "          1.06535125, 1.97531939, 0.66287374, 2.39577217, 2.44721875,\n",
       "          0.68288317, 1.16369462, 2.80659442, 1.13995285, 0.80919557,\n",
       "          1.06834922, 1.62731891, 1.56103139, 1.24238358, 1.60680556,\n",
       "          1.29298682, 1.42588477, 2.60381002, 1.67951722, 2.6886981 ,\n",
       "          1.63257442, 0.91445398, 2.45823827, 1.57093043, 1.95999589]),\n",
       "   'std_fit_time': array([0.00784369, 0.02150416, 0.01929961, 0.03528187, 0.00904425,\n",
       "          0.00754808, 0.04840905, 0.03297217, 0.00504966, 0.01343781,\n",
       "          0.02135617, 0.15129493, 0.09834232, 0.0756777 , 0.08778578,\n",
       "          0.01100966, 0.03409862, 0.01300354, 0.01277042, 0.01934682,\n",
       "          0.00886729, 0.00877592, 0.00251249, 0.01712765, 0.01193997,\n",
       "          0.00966564, 0.00544725, 0.01543816, 0.00916899, 0.00431415,\n",
       "          0.04029647, 0.03780225, 0.02087074, 0.03183864, 0.03328032,\n",
       "          0.01627716, 0.01524773, 0.01932703, 0.00539575, 0.05152562,\n",
       "          0.02288351, 0.01558133, 0.05210139, 0.03860424, 0.02642146,\n",
       "          0.02963314, 0.08196131, 0.04912694, 0.04515422, 0.02751461,\n",
       "          0.06952228, 0.04031515, 0.04510002, 0.01007146, 0.05274374,\n",
       "          0.02914231, 0.08487348, 0.04185095, 0.05753775, 0.0168161 ,\n",
       "          0.02103503, 0.10288153, 0.17688599, 0.05776622, 0.03658536,\n",
       "          0.01008405, 0.06866604, 0.01916241, 0.01984587, 0.0488147 ,\n",
       "          0.09873645, 0.0274034 , 0.15114696, 0.01560698, 0.00452622,\n",
       "          0.01549431, 0.02426195, 0.00563764, 0.01209949, 0.04743819,\n",
       "          0.04300269, 0.00978004, 0.02218971, 0.0172287 , 0.01294964,\n",
       "          0.0116079 , 0.01058398, 0.01756347, 0.01002367, 0.00752625,\n",
       "          0.0104144 , 0.00898081, 0.02700255, 0.01211839, 0.01922424,\n",
       "          0.01940781, 0.00757978, 0.01986163, 0.03529906, 0.19074562]),\n",
       "   'mean_score_time': array([0.01321158, 0.01805   , 0.01307964, 0.01493773, 0.01547136,\n",
       "          0.01574063, 0.01511149, 0.01529689, 0.01244793, 0.0156147 ,\n",
       "          0.01229978, 0.0196074 , 0.0250134 , 0.01670389, 0.01364255,\n",
       "          0.01308613, 0.01497579, 0.01599216, 0.01367497, 0.0161901 ,\n",
       "          0.01184287, 0.01720285, 0.01200495, 0.01529446, 0.01597424,\n",
       "          0.01440082, 0.01416817, 0.01647439, 0.01204934, 0.01535497,\n",
       "          0.01823659, 0.01476116, 0.01875248, 0.02078519, 0.01716952,\n",
       "          0.01270018, 0.01708384, 0.01709428, 0.01906905, 0.01469374,\n",
       "          0.0159668 , 0.0168601 , 0.01761994, 0.01433406, 0.0180459 ,\n",
       "          0.02576427, 0.02088017, 0.01882319, 0.01826801, 0.01953688,\n",
       "          0.0246932 , 0.02575884, 0.01759682, 0.01945529, 0.01673188,\n",
       "          0.02121172, 0.01818128, 0.01760941, 0.01795163, 0.01979837,\n",
       "          0.01883907, 0.02622371, 0.01861711, 0.02417178, 0.01433001,\n",
       "          0.01545916, 0.01454082, 0.01463985, 0.02087159, 0.01973805,\n",
       "          0.01917725, 0.01405077, 0.01707916, 0.01392736, 0.01667156,\n",
       "          0.01892319, 0.01833358, 0.01435423, 0.01691818, 0.01690073,\n",
       "          0.01422043, 0.01578174, 0.01779704, 0.0163022 , 0.01620541,\n",
       "          0.01426439, 0.01573806, 0.01926169, 0.01484747, 0.01719985,\n",
       "          0.01329398, 0.01716456, 0.01702161, 0.01452041, 0.01784749,\n",
       "          0.01601486, 0.01589084, 0.01384234, 0.01455293, 0.01059418]),\n",
       "   'std_score_time': array([0.00078539, 0.00235795, 0.00114575, 0.00223777, 0.0005157 ,\n",
       "          0.00071765, 0.00015403, 0.00071963, 0.00160912, 0.0015631 ,\n",
       "          0.00027427, 0.00322935, 0.00590622, 0.0028879 , 0.00077751,\n",
       "          0.00199278, 0.00058113, 0.00059104, 0.00115912, 0.00070556,\n",
       "          0.0003628 , 0.00070608, 0.00014535, 0.00294154, 0.00044501,\n",
       "          0.00132812, 0.00025123, 0.0008462 , 0.00022571, 0.00177243,\n",
       "          0.00585277, 0.00036916, 0.00241685, 0.00482694, 0.00078423,\n",
       "          0.00116877, 0.00069385, 0.00435597, 0.00175931, 0.00151851,\n",
       "          0.00149912, 0.00050483, 0.00105251, 0.00069374, 0.00162613,\n",
       "          0.00461314, 0.00417431, 0.00243941, 0.00090615, 0.00223791,\n",
       "          0.0027644 , 0.00217689, 0.00072232, 0.00550884, 0.00140387,\n",
       "          0.00775369, 0.00343643, 0.00322415, 0.0025358 , 0.00419714,\n",
       "          0.00215126, 0.00714059, 0.00258243, 0.00247172, 0.00166901,\n",
       "          0.00325261, 0.00121071, 0.00071939, 0.00133063, 0.00805352,\n",
       "          0.00259687, 0.00076432, 0.00269805, 0.00202149, 0.00134246,\n",
       "          0.00469341, 0.00227155, 0.00253814, 0.00049542, 0.00028263,\n",
       "          0.00175679, 0.00136062, 0.00031017, 0.00181521, 0.00071351,\n",
       "          0.00080766, 0.00059576, 0.00111923, 0.00088476, 0.00108941,\n",
       "          0.00118969, 0.0007578 , 0.00100582, 0.00025954, 0.00034814,\n",
       "          0.00072017, 0.00037216, 0.00226462, 0.00307794, 0.00054225]),\n",
       "   'param_max_features': masked_array(data=[0.4700803590170096, 0.5523389837828703,\n",
       "                      0.36773768682224367, 0.31741114704340484,\n",
       "                      0.9057912604674399, 0.9425369433494757,\n",
       "                      0.5552149037732697, 0.8808162353997429,\n",
       "                      0.6659011751963306, 0.9775175250977091,\n",
       "                      0.88368331547873, 0.5475914366565494,\n",
       "                      0.39762849522565985, 0.32804755286692777,\n",
       "                      0.8440939891261154, 0.6749892158621422,\n",
       "                      0.530634708123896, 0.9198335402131153,\n",
       "                      0.3418497542434352, 0.88368331547873,\n",
       "                      0.4991983989101015, 0.5552149037732697,\n",
       "                      0.715473932600777, 0.9177460443179577,\n",
       "                      0.39762849522565985, 0.5165593441921577,\n",
       "                      0.5165593441921577, 0.5165846534102196,\n",
       "                      0.32178356115428947, 0.8262072787566046,\n",
       "                      0.9057912604674399, 0.9222124809107015,\n",
       "                      0.9177460443179577, 0.3161336347151153,\n",
       "                      0.9057912604674399, 0.5165846534102196,\n",
       "                      0.552856000866597, 0.7456090067885269,\n",
       "                      0.36773768682224367, 0.7604034536338999,\n",
       "                      0.34112274086135097, 0.9619193211418162,\n",
       "                      0.32804755286692777, 0.4315401217354158,\n",
       "                      0.3054767452787487, 0.8083510069811992,\n",
       "                      0.3418497542434352, 0.8170412594948107,\n",
       "                      0.7568056968474108, 0.3161336347151153,\n",
       "                      0.4700803590170096, 0.36900679698505917,\n",
       "                      0.8808162353997429, 0.5107679456792726,\n",
       "                      0.88368331547873, 0.6175285952176067,\n",
       "                      0.3418497542434352, 0.5041218732216987,\n",
       "                      0.5677832676290036, 0.6175285952176067,\n",
       "                      0.8262072787566046, 0.9619193211418162,\n",
       "                      0.5041218732216987, 0.36900679698505917,\n",
       "                      0.8350039983320219, 0.8965064109067322,\n",
       "                      0.4389093970540954, 0.520572781710474,\n",
       "                      0.5165846534102196, 0.6628812959823183,\n",
       "                      0.5475914366565494, 0.897400507413769,\n",
       "                      0.9619193211418162, 0.5888658288589199,\n",
       "                      0.6628812959823183, 0.520572781710474,\n",
       "                      0.6659011751963306, 0.8479915273689058,\n",
       "                      0.9737445078279918, 0.9621347480469189,\n",
       "                      0.5913439383147501, 0.5395432503925497,\n",
       "                      0.9198335402131153, 0.5397547288828992,\n",
       "                      0.3342605567281668, 0.6774560069144753,\n",
       "                      0.9815804987502048, 0.4428799597191061,\n",
       "                      0.8479915273689058, 0.5888658288589199,\n",
       "                      0.8959530713187789, 0.4389093970540954,\n",
       "                      0.9737445078279918, 0.9177460443179577,\n",
       "                      0.9468735857446047, 0.7055697166920595,\n",
       "                      0.31741114704340484, 0.9619193211418162,\n",
       "                      0.8350039983320219, 0.9198335402131153],\n",
       "                mask=[False, False, False, False, False, False, False, False,\n",
       "                      False, False, False, False, False, False, False, False,\n",
       "                      False, False, False, False, False, False, False, False,\n",
       "                      False, False, False, False, False, False, False, False,\n",
       "                      False, False, False, False, False, False, False, False,\n",
       "                      False, False, False, False, False, False, False, False,\n",
       "                      False, False, False, False, False, False, False, False,\n",
       "                      False, False, False, False, False, False, False, False,\n",
       "                      False, False, False, False, False, False, False, False,\n",
       "                      False, False, False, False, False, False, False, False,\n",
       "                      False, False, False, False, False, False, False, False,\n",
       "                      False, False, False, False, False, False, False, False,\n",
       "                      False, False, False, False],\n",
       "          fill_value='?',\n",
       "               dtype=object),\n",
       "   'param_max_depth': masked_array(data=[8, 16, 8, 9, 19, 17, 19, 18, 3, 13, 7, 19, 16, 7, 8, 4,\n",
       "                      9, 15, 5, 12, 4, 17, 3, 6, 12, 6, 8, 13, 3, 7, 8, 9,\n",
       "                      13, 14, 17, 3, 14, 8, 13, 5, 8, 13, 16, 8, 14, 18, 14,\n",
       "                      17, 11, 18, 13, 19, 5, 4, 14, 8, 8, 9, 7, 13, 12, 13,\n",
       "                      6, 16, 7, 4, 7, 7, 18, 7, 12, 9, 12, 6, 12, 8, 16, 3,\n",
       "                      12, 12, 4, 8, 17, 8, 8, 6, 7, 16, 6, 11, 6, 14, 13, 8,\n",
       "                      16, 10, 10, 12, 8, 14],\n",
       "                mask=[False, False, False, False, False, False, False, False,\n",
       "                      False, False, False, False, False, False, False, False,\n",
       "                      False, False, False, False, False, False, False, False,\n",
       "                      False, False, False, False, False, False, False, False,\n",
       "                      False, False, False, False, False, False, False, False,\n",
       "                      False, False, False, False, False, False, False, False,\n",
       "                      False, False, False, False, False, False, False, False,\n",
       "                      False, False, False, False, False, False, False, False,\n",
       "                      False, False, False, False, False, False, False, False,\n",
       "                      False, False, False, False, False, False, False, False,\n",
       "                      False, False, False, False, False, False, False, False,\n",
       "                      False, False, False, False, False, False, False, False,\n",
       "                      False, False, False, False],\n",
       "          fill_value='?',\n",
       "               dtype=object),\n",
       "   'params': [{'max_features': 0.4700803590170096, 'max_depth': 8},\n",
       "    {'max_features': 0.5523389837828703, 'max_depth': 16},\n",
       "    {'max_features': 0.36773768682224367, 'max_depth': 8},\n",
       "    {'max_features': 0.31741114704340484, 'max_depth': 9},\n",
       "    {'max_features': 0.9057912604674399, 'max_depth': 19},\n",
       "    {'max_features': 0.9425369433494757, 'max_depth': 17},\n",
       "    {'max_features': 0.5552149037732697, 'max_depth': 19},\n",
       "    {'max_features': 0.8808162353997429, 'max_depth': 18},\n",
       "    {'max_features': 0.6659011751963306, 'max_depth': 3},\n",
       "    {'max_features': 0.9775175250977091, 'max_depth': 13},\n",
       "    {'max_features': 0.88368331547873, 'max_depth': 7},\n",
       "    {'max_features': 0.5475914366565494, 'max_depth': 19},\n",
       "    {'max_features': 0.39762849522565985, 'max_depth': 16},\n",
       "    {'max_features': 0.32804755286692777, 'max_depth': 7},\n",
       "    {'max_features': 0.8440939891261154, 'max_depth': 8},\n",
       "    {'max_features': 0.6749892158621422, 'max_depth': 4},\n",
       "    {'max_features': 0.530634708123896, 'max_depth': 9},\n",
       "    {'max_features': 0.9198335402131153, 'max_depth': 15},\n",
       "    {'max_features': 0.3418497542434352, 'max_depth': 5},\n",
       "    {'max_features': 0.88368331547873, 'max_depth': 12},\n",
       "    {'max_features': 0.4991983989101015, 'max_depth': 4},\n",
       "    {'max_features': 0.5552149037732697, 'max_depth': 17},\n",
       "    {'max_features': 0.715473932600777, 'max_depth': 3},\n",
       "    {'max_features': 0.9177460443179577, 'max_depth': 6},\n",
       "    {'max_features': 0.39762849522565985, 'max_depth': 12},\n",
       "    {'max_features': 0.5165593441921577, 'max_depth': 6},\n",
       "    {'max_features': 0.5165593441921577, 'max_depth': 8},\n",
       "    {'max_features': 0.5165846534102196, 'max_depth': 13},\n",
       "    {'max_features': 0.32178356115428947, 'max_depth': 3},\n",
       "    {'max_features': 0.8262072787566046, 'max_depth': 7},\n",
       "    {'max_features': 0.9057912604674399, 'max_depth': 8},\n",
       "    {'max_features': 0.9222124809107015, 'max_depth': 9},\n",
       "    {'max_features': 0.9177460443179577, 'max_depth': 13},\n",
       "    {'max_features': 0.3161336347151153, 'max_depth': 14},\n",
       "    {'max_features': 0.9057912604674399, 'max_depth': 17},\n",
       "    {'max_features': 0.5165846534102196, 'max_depth': 3},\n",
       "    {'max_features': 0.552856000866597, 'max_depth': 14},\n",
       "    {'max_features': 0.7456090067885269, 'max_depth': 8},\n",
       "    {'max_features': 0.36773768682224367, 'max_depth': 13},\n",
       "    {'max_features': 0.7604034536338999, 'max_depth': 5},\n",
       "    {'max_features': 0.34112274086135097, 'max_depth': 8},\n",
       "    {'max_features': 0.9619193211418162, 'max_depth': 13},\n",
       "    {'max_features': 0.32804755286692777, 'max_depth': 16},\n",
       "    {'max_features': 0.4315401217354158, 'max_depth': 8},\n",
       "    {'max_features': 0.3054767452787487, 'max_depth': 14},\n",
       "    {'max_features': 0.8083510069811992, 'max_depth': 18},\n",
       "    {'max_features': 0.3418497542434352, 'max_depth': 14},\n",
       "    {'max_features': 0.8170412594948107, 'max_depth': 17},\n",
       "    {'max_features': 0.7568056968474108, 'max_depth': 11},\n",
       "    {'max_features': 0.3161336347151153, 'max_depth': 18},\n",
       "    {'max_features': 0.4700803590170096, 'max_depth': 13},\n",
       "    {'max_features': 0.36900679698505917, 'max_depth': 19},\n",
       "    {'max_features': 0.8808162353997429, 'max_depth': 5},\n",
       "    {'max_features': 0.5107679456792726, 'max_depth': 4},\n",
       "    {'max_features': 0.88368331547873, 'max_depth': 14},\n",
       "    {'max_features': 0.6175285952176067, 'max_depth': 8},\n",
       "    {'max_features': 0.3418497542434352, 'max_depth': 8},\n",
       "    {'max_features': 0.5041218732216987, 'max_depth': 9},\n",
       "    {'max_features': 0.5677832676290036, 'max_depth': 7},\n",
       "    {'max_features': 0.6175285952176067, 'max_depth': 13},\n",
       "    {'max_features': 0.8262072787566046, 'max_depth': 12},\n",
       "    {'max_features': 0.9619193211418162, 'max_depth': 13},\n",
       "    {'max_features': 0.5041218732216987, 'max_depth': 6},\n",
       "    {'max_features': 0.36900679698505917, 'max_depth': 16},\n",
       "    {'max_features': 0.8350039983320219, 'max_depth': 7},\n",
       "    {'max_features': 0.8965064109067322, 'max_depth': 4},\n",
       "    {'max_features': 0.4389093970540954, 'max_depth': 7},\n",
       "    {'max_features': 0.520572781710474, 'max_depth': 7},\n",
       "    {'max_features': 0.5165846534102196, 'max_depth': 18},\n",
       "    {'max_features': 0.6628812959823183, 'max_depth': 7},\n",
       "    {'max_features': 0.5475914366565494, 'max_depth': 12},\n",
       "    {'max_features': 0.897400507413769, 'max_depth': 9},\n",
       "    {'max_features': 0.9619193211418162, 'max_depth': 12},\n",
       "    {'max_features': 0.5888658288589199, 'max_depth': 6},\n",
       "    {'max_features': 0.6628812959823183, 'max_depth': 12},\n",
       "    {'max_features': 0.520572781710474, 'max_depth': 8},\n",
       "    {'max_features': 0.6659011751963306, 'max_depth': 16},\n",
       "    {'max_features': 0.8479915273689058, 'max_depth': 3},\n",
       "    {'max_features': 0.9737445078279918, 'max_depth': 12},\n",
       "    {'max_features': 0.9621347480469189, 'max_depth': 12},\n",
       "    {'max_features': 0.5913439383147501, 'max_depth': 4},\n",
       "    {'max_features': 0.5395432503925497, 'max_depth': 8},\n",
       "    {'max_features': 0.9198335402131153, 'max_depth': 17},\n",
       "    {'max_features': 0.5397547288828992, 'max_depth': 8},\n",
       "    {'max_features': 0.3342605567281668, 'max_depth': 8},\n",
       "    {'max_features': 0.6774560069144753, 'max_depth': 6},\n",
       "    {'max_features': 0.9815804987502048, 'max_depth': 7},\n",
       "    {'max_features': 0.4428799597191061, 'max_depth': 16},\n",
       "    {'max_features': 0.8479915273689058, 'max_depth': 6},\n",
       "    {'max_features': 0.5888658288589199, 'max_depth': 11},\n",
       "    {'max_features': 0.8959530713187789, 'max_depth': 6},\n",
       "    {'max_features': 0.4389093970540954, 'max_depth': 14},\n",
       "    {'max_features': 0.9737445078279918, 'max_depth': 13},\n",
       "    {'max_features': 0.9177460443179577, 'max_depth': 8},\n",
       "    {'max_features': 0.9468735857446047, 'max_depth': 16},\n",
       "    {'max_features': 0.7055697166920595, 'max_depth': 10},\n",
       "    {'max_features': 0.31741114704340484, 'max_depth': 10},\n",
       "    {'max_features': 0.9619193211418162, 'max_depth': 12},\n",
       "    {'max_features': 0.8350039983320219, 'max_depth': 8},\n",
       "    {'max_features': 0.9198335402131153, 'max_depth': 14}],\n",
       "   'split0_test_score': array([0.88677596, 0.89872931, 0.89507646, 0.89745817, 0.88080832,\n",
       "          0.88114631, 0.89299864, 0.883177  , 0.78642083, 0.874704  ,\n",
       "          0.87550753, 0.89215817, 0.89798251, 0.88605279, 0.88011027,\n",
       "          0.83487026, 0.89440634, 0.88238443, 0.87157624, 0.88166622,\n",
       "          0.84470099, 0.88958986, 0.79145741, 0.85855973, 0.90440108,\n",
       "          0.87647178, 0.89037423, 0.89712542, 0.8049983 , 0.87307292,\n",
       "          0.87607661, 0.87485258, 0.87870897, 0.89727521, 0.88123333,\n",
       "          0.80621706, 0.89225101, 0.88052943, 0.89945981, 0.85604681,\n",
       "          0.89441051, 0.87624724, 0.89896391, 0.89431835, 0.89700892,\n",
       "          0.88075163, 0.90098435, 0.88910064, 0.88741837, 0.89668233,\n",
       "          0.89416192, 0.89754505, 0.85137254, 0.84490137, 0.87991634,\n",
       "          0.88608862, 0.89441051, 0.8906951 , 0.88682482, 0.89447587,\n",
       "          0.88814872, 0.87624724, 0.87891346, 0.90223664, 0.87519815,\n",
       "          0.82699994, 0.89277914, 0.8906698 , 0.89434447, 0.87713359,\n",
       "          0.89371923, 0.87302916, 0.87652961, 0.87887597, 0.8894986 ,\n",
       "          0.88808199, 0.89295648, 0.77463599, 0.8736014 , 0.87652961,\n",
       "          0.83915661, 0.89091081, 0.87771277, 0.89091081, 0.89177199,\n",
       "          0.8758278 , 0.86638655, 0.89572575, 0.86610582, 0.89543854,\n",
       "          0.86670059, 0.88909705, 0.87407688, 0.87594431, 0.87565958,\n",
       "          0.88908173, 0.89766241, 0.87652961, 0.88158369, 0.87645078]),\n",
       "   'split1_test_score': array([0.91357746, 0.91500706, 0.90931713, 0.91030462, 0.91847979,\n",
       "          0.91695446, 0.91511731, 0.91603153, 0.82237899, 0.91865437,\n",
       "          0.90964177, 0.91182773, 0.90946706, 0.90107734, 0.91338766,\n",
       "          0.87072564, 0.91056855, 0.91792194, 0.88587694, 0.91789115,\n",
       "          0.86094295, 0.91961176, 0.82016783, 0.90431305, 0.91367077,\n",
       "          0.90223353, 0.91319256, 0.91403571, 0.81807044, 0.91217789,\n",
       "          0.91388073, 0.91634403, 0.91633537, 0.91688958, 0.9181847 ,\n",
       "          0.81825728, 0.91515064, 0.91252972, 0.91217556, 0.89137274,\n",
       "          0.9063359 , 0.91781681, 0.91133411, 0.91067549, 0.9109825 ,\n",
       "          0.91665825, 0.90985692, 0.9195213 , 0.9212321 , 0.91280734,\n",
       "          0.92234052, 0.91066478, 0.89358057, 0.86914648, 0.920033  ,\n",
       "          0.91422308, 0.9063359 , 0.90994714, 0.91136194, 0.91851827,\n",
       "          0.91747562, 0.91781681, 0.90109129, 0.91690871, 0.9114976 ,\n",
       "          0.86657222, 0.90520238, 0.90989085, 0.91800212, 0.91428183,\n",
       "          0.91966665, 0.91652916, 0.91757858, 0.90418413, 0.91778975,\n",
       "          0.9145496 , 0.91985588, 0.82195296, 0.91796277, 0.91757858,\n",
       "          0.87117418, 0.91737712, 0.91851788, 0.91737712, 0.90418227,\n",
       "          0.90385111, 0.912363  , 0.91772711, 0.90217364, 0.91453912,\n",
       "          0.90415403, 0.91479773, 0.91768627, 0.91445441, 0.91865585,\n",
       "          0.91417987, 0.90982972, 0.91757858, 0.91297616, 0.91585077]),\n",
       "   'split2_test_score': array([0.87285833, 0.88074599, 0.87635382, 0.87631718, 0.8800475 ,\n",
       "          0.87972218, 0.88301741, 0.88262926, 0.77505247, 0.87636422,\n",
       "          0.87234371, 0.87525765, 0.88328903, 0.8704387 , 0.87523367,\n",
       "          0.82536536, 0.8818312 , 0.87603075, 0.85367487, 0.88150498,\n",
       "          0.82428668, 0.88511306, 0.77365994, 0.86598556, 0.87808942,\n",
       "          0.86206923, 0.87538837, 0.88554453, 0.76437766, 0.87030536,\n",
       "          0.8767228 , 0.87388323, 0.87657053, 0.87538655, 0.8827218 ,\n",
       "          0.7676465 , 0.8818652 , 0.87485888, 0.87888273, 0.85205024,\n",
       "          0.875561  , 0.87882869, 0.87609107, 0.87553114, 0.8806558 ,\n",
       "          0.87862006, 0.87982196, 0.88026194, 0.87835699, 0.87795072,\n",
       "          0.88504828, 0.87526886, 0.8502062 , 0.82259655, 0.88059806,\n",
       "          0.8770365 , 0.875561  , 0.87776343, 0.86773989, 0.87821617,\n",
       "          0.87922363, 0.87882869, 0.85954087, 0.88074782, 0.87004191,\n",
       "          0.82122723, 0.86708529, 0.87453737, 0.88150782, 0.87466708,\n",
       "          0.88083816, 0.88161895, 0.87817791, 0.86427791, 0.87533693,\n",
       "          0.87268195, 0.88244376, 0.7737992 , 0.88135767, 0.87817791,\n",
       "          0.82075123, 0.87613561, 0.87997934, 0.87613561, 0.8763105 ,\n",
       "          0.86626533, 0.86981658, 0.88066321, 0.86790389, 0.87417066,\n",
       "          0.86273469, 0.87969746, 0.88082645, 0.87622383, 0.87711418,\n",
       "          0.87526354, 0.87406823, 0.87817791, 0.87836819, 0.87955138]),\n",
       "   'split3_test_score': array([0.89122696, 0.89728239, 0.88895273, 0.89145123, 0.88827793,\n",
       "          0.88968742, 0.8973504 , 0.89120058, 0.77358776, 0.88485575,\n",
       "          0.87266174, 0.89391513, 0.89858463, 0.88712738, 0.88640399,\n",
       "          0.82421763, 0.8963131 , 0.88735756, 0.85390164, 0.88922136,\n",
       "          0.83208749, 0.89405036, 0.77713604, 0.86469232, 0.89992888,\n",
       "          0.87590711, 0.88634685, 0.89100208, 0.77940151, 0.8785352 ,\n",
       "          0.88295433, 0.88686198, 0.89025677, 0.89716061, 0.88724441,\n",
       "          0.78074134, 0.89243154, 0.8865537 , 0.89286704, 0.84821414,\n",
       "          0.89453484, 0.89019163, 0.89739794, 0.88866701, 0.9015544 ,\n",
       "          0.88755078, 0.89203599, 0.89330813, 0.89323   , 0.89480954,\n",
       "          0.89875056, 0.89779894, 0.84465457, 0.83099682, 0.89051363,\n",
       "          0.88557976, 0.89453484, 0.88944264, 0.88637225, 0.89308372,\n",
       "          0.89016584, 0.89019163, 0.87308043, 0.89534643, 0.87787662,\n",
       "          0.81326181, 0.88420928, 0.88579805, 0.89270114, 0.87877723,\n",
       "          0.90328524, 0.88358284, 0.88506884, 0.87270712, 0.89634689,\n",
       "          0.89110978, 0.88700025, 0.76203308, 0.88496723, 0.88506884,\n",
       "          0.82819688, 0.88884637, 0.88901512, 0.88884637, 0.88665667,\n",
       "          0.87319803, 0.87216957, 0.90059801, 0.86566633, 0.89356554,\n",
       "          0.86773132, 0.89712807, 0.88371338, 0.88075091, 0.88953446,\n",
       "          0.88561   , 0.88938378, 0.88506884, 0.87887594, 0.88661307]),\n",
       "   'split4_test_score': array([0.88630417, 0.88884645, 0.88987754, 0.89048099, 0.88176754,\n",
       "          0.88299119, 0.88821264, 0.87912788, 0.79060488, 0.87849624,\n",
       "          0.87536405, 0.89371649, 0.88516052, 0.88506603, 0.87681653,\n",
       "          0.83640121, 0.88490985, 0.8838452 , 0.86816818, 0.87799896,\n",
       "          0.8413706 , 0.88373481, 0.78767266, 0.87344669, 0.89716208,\n",
       "          0.87949761, 0.88569487, 0.89014697, 0.79420382, 0.87644761,\n",
       "          0.87208974, 0.87234584, 0.8811305 , 0.88376109, 0.8782114 ,\n",
       "          0.79726166, 0.88965848, 0.88367072, 0.89317916, 0.86297828,\n",
       "          0.88376756, 0.87367347, 0.88982196, 0.88698339, 0.88477412,\n",
       "          0.88610329, 0.89556829, 0.88508395, 0.88523937, 0.88788866,\n",
       "          0.89519556, 0.895439  , 0.85444682, 0.83655061, 0.88129986,\n",
       "          0.88455446, 0.88376756, 0.8943237 , 0.88740921, 0.88163808,\n",
       "          0.88180776, 0.87367347, 0.87873107, 0.88895517, 0.87682598,\n",
       "          0.82839978, 0.88619512, 0.88478546, 0.89534701, 0.88573517,\n",
       "          0.88684852, 0.87742313, 0.87940101, 0.88151352, 0.88574277,\n",
       "          0.89089717, 0.88924225, 0.78442738, 0.87590491, 0.87940101,\n",
       "          0.83814902, 0.89453741, 0.87919271, 0.89453741, 0.88641571,\n",
       "          0.87805107, 0.87176095, 0.88513454, 0.86990063, 0.89405028,\n",
       "          0.86471413, 0.89044589, 0.87928919, 0.87648022, 0.87868525,\n",
       "          0.88756292, 0.88265729, 0.87940101, 0.87797208, 0.87907492]),\n",
       "   'mean_test_score': array([0.89014858, 0.89612224, 0.89191554, 0.89320244, 0.88987622,\n",
       "          0.89010031, 0.89533928, 0.89043325, 0.78960898, 0.88661491,\n",
       "          0.88110376, 0.89337503, 0.89489675, 0.88595245, 0.88639042,\n",
       "          0.83831602, 0.89360581, 0.88950798, 0.86663957, 0.88965653,\n",
       "          0.84067774, 0.89441997, 0.79001878, 0.87339947, 0.89865045,\n",
       "          0.87923585, 0.89019938, 0.89557094, 0.79221034, 0.8821078 ,\n",
       "          0.88434484, 0.88485753, 0.88860043, 0.89409461, 0.88951913,\n",
       "          0.79402477, 0.89427138, 0.88762849, 0.89531286, 0.86213244,\n",
       "          0.89092196, 0.88735157, 0.8947218 , 0.89123508, 0.89499515,\n",
       "          0.8899368 , 0.8956535 , 0.89345519, 0.89309537, 0.89402772,\n",
       "          0.89909937, 0.89534332, 0.85885214, 0.84083837, 0.89047218,\n",
       "          0.88949649, 0.89092196, 0.8924344 , 0.88794162, 0.89318642,\n",
       "          0.89136431, 0.88735157, 0.87827143, 0.89683896, 0.88228805,\n",
       "          0.8312922 , 0.88709424, 0.8891363 , 0.89638051, 0.88611898,\n",
       "          0.89687156, 0.88643665, 0.88735119, 0.88031173, 0.89294299,\n",
       "          0.8914641 , 0.89429972, 0.78336972, 0.8867588 , 0.88735119,\n",
       "          0.83948558, 0.89356146, 0.88888356, 0.89356146, 0.88906743,\n",
       "          0.87943867, 0.87849933, 0.89596972, 0.87435006, 0.89435283,\n",
       "          0.87320695, 0.89423324, 0.88711843, 0.88477073, 0.88792987,\n",
       "          0.89033961, 0.89072028, 0.88735119, 0.88595521, 0.88750818]),\n",
       "   'std_test_score': array([0.01323013, 0.01143805, 0.01065744, 0.01101073, 0.01459657,\n",
       "          0.01385449, 0.01098464, 0.01339573, 0.01762726, 0.01638585,\n",
       "          0.01432959, 0.01158129, 0.00964313, 0.009712  , 0.01403156,\n",
       "          0.01692576, 0.01009917, 0.0146726 , 0.01205921, 0.01458475,\n",
       "          0.0124081 , 0.01310637, 0.01643238, 0.01616571, 0.01170714,\n",
       "          0.01297979, 0.01251571, 0.0099417 , 0.01884131, 0.01529666,\n",
       "          0.015172  , 0.01656801, 0.01463099, 0.01411312, 0.01462609,\n",
       "          0.01799226, 0.01112297, 0.01304109, 0.01078918, 0.01541503,\n",
       "          0.01048768, 0.01624336, 0.01159516, 0.01147799, 0.01107033,\n",
       "          0.01376126, 0.00993868, 0.01373001, 0.01485166, 0.01145854,\n",
       "          0.01246855, 0.01138962, 0.01765071, 0.01591139, 0.01527677,\n",
       "          0.01279088, 0.01048768, 0.01036801, 0.01386084, 0.01414813,\n",
       "          0.01365504, 0.01624336, 0.01341007, 0.01229013, 0.01485077,\n",
       "          0.01842752, 0.01240736, 0.01163018, 0.01189489, 0.01455389,\n",
       "          0.01362512, 0.01547849, 0.01538418, 0.013329  , 0.01416071,\n",
       "          0.01339847, 0.01322381, 0.0205568 , 0.01610586, 0.01538418,\n",
       "          0.01723063, 0.01342428, 0.0153375 , 0.01342428, 0.00907034,\n",
       "          0.01283288, 0.01705479, 0.01301195, 0.01399198, 0.01278043,\n",
       "          0.01556813, 0.0116901 , 0.01560099, 0.01494635, 0.01612243,\n",
       "          0.01286318, 0.01230815, 0.01538418, 0.01356946, 0.01456571]),\n",
       "   'rank_test_score': array([ 44,   6,  33,  28,  47,  45,  11,  41,  99,  68,  79,  27,  14,\n",
       "           73,  70,  94,  23,  50,  88,  48,  92,  16,  98,  86,   2,  82,\n",
       "           43,   9,  97,  78,  76,  74,  55,  21,  49,  96,  19,  58,  12,\n",
       "           89,  37,  60,  15,  36,  13,  46,   8,  26,  30,  22,   1,  10,\n",
       "           90,  91,  40,  51,  37,  32,  56,  29,  35,  60,  84,   4,  77,\n",
       "           95,  66,  52,   5,  71,   3,  69,  62,  80,  31,  34,  18, 100,\n",
       "           67,  62,  93,  24,  54,  24,  53,  81,  83,   7,  85,  17,  87,\n",
       "           20,  65,  75,  57,  42,  39,  62,  72,  59], dtype=int32)}],\n",
       " ['GradientBoostingRegressor',\n",
       "  {'max_features': 0.5107679456792726, 'max_depth': 4},\n",
       "  GradientBoostingRegressor(alpha=0.9, ccp_alpha=0.0, criterion='friedman_mse',\n",
       "                            init=None, learning_rate=0.1, loss='ls', max_depth=4,\n",
       "                            max_features=0.5107679456792726, max_leaf_nodes=None,\n",
       "                            min_impurity_decrease=0.0, min_impurity_split=None,\n",
       "                            min_samples_leaf=1, min_samples_split=2,\n",
       "                            min_weight_fraction_leaf=0.0, n_estimators=100,\n",
       "                            n_iter_no_change=None, presort='deprecated',\n",
       "                            random_state=42, subsample=1.0, tol=0.0001,\n",
       "                            validation_fraction=0.1, verbose=0, warm_start=False),\n",
       "  0.9194054912386763,\n",
       "  {'mean_fit_time': array([1.19796834, 2.49066701, 0.95878539, 0.934726  , 4.04834399,\n",
       "          4.16762342, 2.73943429, 4.2814424 , 0.69530082, 4.10561724,\n",
       "          1.96038766, 2.71547337, 1.98741879, 0.79152155, 2.16049142,\n",
       "          0.90836072, 1.54906206, 3.98384075, 0.57575932, 3.39819221,\n",
       "          0.65673718, 2.6933609 , 0.72311516, 1.75185752, 1.67519841,\n",
       "          1.02185612, 1.36343298, 2.24576244, 0.35479717, 1.8342927 ,\n",
       "          2.23977556, 2.55469804, 3.68236527, 1.49724407, 4.08606138,\n",
       "          0.52213821, 2.46863837, 1.89933534, 1.66550088, 1.21146703,\n",
       "          0.94359651, 3.85159135, 1.6509666 , 1.13405094, 1.45641966,\n",
       "          3.64869609, 1.55936584, 3.64235878, 2.63126912, 1.6369966 ,\n",
       "          2.04736795, 1.90139012, 1.39801531, 0.66374402, 4.19665461,\n",
       "          1.86737518, 1.15385804, 1.62817154, 1.24950962, 2.42671061,\n",
       "          3.01264644, 3.9562902 , 1.02544608, 1.94523931, 1.83378081,\n",
       "          1.11661997, 0.98731661, 1.17245946, 2.45910482, 1.43782258,\n",
       "          2.14717765, 2.4766448 , 3.59909415, 1.12726793, 2.55620027,\n",
       "          1.32860579, 3.03195944, 0.79919853, 3.63622971, 3.59733496,\n",
       "          0.73708711, 1.40338774, 4.57274923, 1.72863626, 1.09344616,\n",
       "          1.34942102, 2.05682292, 2.09387817, 1.64608521, 2.4083961 ,\n",
       "          1.90621548, 2.33059454, 4.1197052 , 2.35436592, 4.07935152,\n",
       "          2.1784739 , 1.10321078, 3.5470809 , 2.12716784, 2.93205428]),\n",
       "   'std_fit_time': array([0.01380264, 0.0161486 , 0.03836852, 0.00695899, 0.06428926,\n",
       "          0.03733739, 0.15594853, 0.05696766, 0.01336574, 0.03121854,\n",
       "          0.03335002, 0.01984596, 0.00792065, 0.00988109, 0.02648083,\n",
       "          0.02380949, 0.01405586, 0.01495094, 0.00730699, 0.05844162,\n",
       "          0.01213294, 0.01855694, 0.00822837, 0.00920371, 0.01841053,\n",
       "          0.00793075, 0.00800377, 0.01723178, 0.00376107, 0.02235769,\n",
       "          0.0161663 , 0.03228123, 0.06942861, 0.01699985, 0.02814906,\n",
       "          0.00940846, 0.01807994, 0.04744274, 0.00749088, 0.00761114,\n",
       "          0.03705029, 0.04188509, 0.01520848, 0.0083626 , 0.01827102,\n",
       "          0.04433758, 0.01184262, 0.04874498, 0.02901623, 0.00983595,\n",
       "          0.02536422, 0.01937176, 0.03071114, 0.0108682 , 0.03239852,\n",
       "          0.0569285 , 0.03297292, 0.07555198, 0.04247949, 0.03433631,\n",
       "          0.03509317, 0.06906918, 0.05796024, 0.06024389, 0.02216069,\n",
       "          0.00849542, 0.01608938, 0.01683489, 0.01827357, 0.01785019,\n",
       "          0.04195518, 0.00963478, 0.02504054, 0.0088361 , 0.0294693 ,\n",
       "          0.01128118, 0.02573562, 0.0109948 , 0.03308458, 0.06458625,\n",
       "          0.00525742, 0.03085823, 0.04380526, 0.04939079, 0.12039182,\n",
       "          0.04850197, 0.01675341, 0.0244057 , 0.09130556, 0.02943579,\n",
       "          0.07802502, 0.03955472, 0.03409193, 0.10906315, 0.05533333,\n",
       "          0.01546261, 0.03980973, 0.02816133, 0.03531882, 0.23811789]),\n",
       "   'mean_score_time': array([0.00406599, 0.0079298 , 0.00426402, 0.00462718, 0.00894332,\n",
       "          0.0092339 , 0.00845551, 0.00843782, 0.00327663, 0.00772038,\n",
       "          0.00410743, 0.0087513 , 0.01026864, 0.00415506, 0.0043191 ,\n",
       "          0.00336332, 0.004702  , 0.00801134, 0.00362849, 0.00799375,\n",
       "          0.00330167, 0.00806165, 0.00311251, 0.00378022, 0.00703363,\n",
       "          0.00417924, 0.0044126 , 0.00696049, 0.00318079, 0.00399294,\n",
       "          0.00437336, 0.00505037, 0.00717044, 0.00769558, 0.00850358,\n",
       "          0.00304232, 0.00745368, 0.00483389, 0.0076859 , 0.00352793,\n",
       "          0.00449529, 0.00767593, 0.00781975, 0.00437994, 0.00771461,\n",
       "          0.00772591, 0.0074327 , 0.00798659, 0.00658078, 0.00843501,\n",
       "          0.007305  , 0.00813584, 0.00360622, 0.00318232, 0.00724907,\n",
       "          0.00751281, 0.00534649, 0.00499668, 0.00486937, 0.00706387,\n",
       "          0.00705466, 0.00731287, 0.00396314, 0.00860271, 0.00397773,\n",
       "          0.00366101, 0.0041152 , 0.0039392 , 0.00845652, 0.0040236 ,\n",
       "          0.006739  , 0.00518975, 0.006743  , 0.00401368, 0.00661483,\n",
       "          0.00437093, 0.00774117, 0.00302725, 0.00685425, 0.00760102,\n",
       "          0.00362091, 0.0050458 , 0.00847659, 0.00449924, 0.00443087,\n",
       "          0.00374689, 0.00406971, 0.00935965, 0.00378718, 0.00709004,\n",
       "          0.00421162, 0.0076632 , 0.00704918, 0.00434151, 0.00923758,\n",
       "          0.0055594 , 0.00597186, 0.00576439, 0.0042037 , 0.00575809]),\n",
       "   'std_score_time': array([2.93857568e-04, 2.18216908e-04, 7.31811604e-05, 5.29811790e-05,\n",
       "          8.06461873e-04, 9.11389058e-04, 2.54421514e-04, 2.54914014e-04,\n",
       "          1.58592297e-04, 6.61964067e-04, 3.36163311e-04, 1.22644918e-03,\n",
       "          2.22886417e-03, 1.22340098e-05, 1.00413528e-04, 2.13753467e-04,\n",
       "          2.03167919e-04, 5.03006182e-04, 3.48949452e-04, 1.67991666e-03,\n",
       "          3.96547941e-05, 1.74371140e-04, 5.26414833e-05, 6.98123798e-05,\n",
       "          3.92798018e-04, 7.74278466e-04, 3.05306824e-04, 9.07076135e-05,\n",
       "          1.67013357e-04, 6.69384268e-05, 7.50485337e-05, 5.64151247e-04,\n",
       "          7.05532101e-05, 5.64965644e-04, 6.47086166e-04, 8.33339750e-05,\n",
       "          3.73695824e-04, 5.02691299e-04, 6.04141445e-04, 1.20660946e-04,\n",
       "          1.43414640e-04, 5.51306523e-04, 3.46364350e-05, 1.59398282e-04,\n",
       "          6.30717605e-04, 3.97418195e-04, 2.80429226e-04, 1.92021406e-04,\n",
       "          9.04440978e-04, 3.31851222e-04, 8.86223604e-04, 5.10239721e-04,\n",
       "          8.04007696e-04, 8.21052941e-05, 4.16482780e-04, 1.70875024e-03,\n",
       "          5.49007563e-04, 6.90610330e-04, 2.19377491e-03, 7.90937601e-05,\n",
       "          3.89057910e-04, 6.66151238e-05, 4.73349443e-04, 1.01783866e-03,\n",
       "          7.34092934e-05, 4.51236992e-04, 2.21994641e-04, 6.61425564e-05,\n",
       "          6.58512796e-04, 2.31003731e-04, 3.18982839e-04, 8.30757948e-04,\n",
       "          8.59177201e-05, 6.43137316e-04, 6.25261713e-05, 4.61976219e-05,\n",
       "          6.23972715e-05, 1.18975735e-04, 6.89167243e-04, 1.43661794e-03,\n",
       "          7.56767948e-04, 1.10743261e-03, 4.51643775e-04, 3.02383057e-04,\n",
       "          2.10535059e-04, 3.45813919e-04, 4.59707539e-04, 7.46303310e-04,\n",
       "          2.41875083e-04, 1.20564398e-03, 5.37608180e-04, 3.56785749e-04,\n",
       "          9.92201310e-05, 1.63717898e-04, 2.90986108e-03, 2.03772297e-04,\n",
       "          1.04404043e-03, 5.60648609e-04, 2.59965942e-04, 5.67368724e-04]),\n",
       "   'param_max_features': masked_array(data=[0.4700803590170096, 0.5523389837828703,\n",
       "                      0.36773768682224367, 0.31741114704340484,\n",
       "                      0.9057912604674399, 0.9425369433494757,\n",
       "                      0.5552149037732697, 0.8808162353997429,\n",
       "                      0.6659011751963306, 0.9775175250977091,\n",
       "                      0.88368331547873, 0.5475914366565494,\n",
       "                      0.39762849522565985, 0.32804755286692777,\n",
       "                      0.8440939891261154, 0.6749892158621422,\n",
       "                      0.530634708123896, 0.9198335402131153,\n",
       "                      0.3418497542434352, 0.88368331547873,\n",
       "                      0.4991983989101015, 0.5552149037732697,\n",
       "                      0.715473932600777, 0.9177460443179577,\n",
       "                      0.39762849522565985, 0.5165593441921577,\n",
       "                      0.5165593441921577, 0.5165846534102196,\n",
       "                      0.32178356115428947, 0.8262072787566046,\n",
       "                      0.9057912604674399, 0.9222124809107015,\n",
       "                      0.9177460443179577, 0.3161336347151153,\n",
       "                      0.9057912604674399, 0.5165846534102196,\n",
       "                      0.552856000866597, 0.7456090067885269,\n",
       "                      0.36773768682224367, 0.7604034536338999,\n",
       "                      0.34112274086135097, 0.9619193211418162,\n",
       "                      0.32804755286692777, 0.4315401217354158,\n",
       "                      0.3054767452787487, 0.8083510069811992,\n",
       "                      0.3418497542434352, 0.8170412594948107,\n",
       "                      0.7568056968474108, 0.3161336347151153,\n",
       "                      0.4700803590170096, 0.36900679698505917,\n",
       "                      0.8808162353997429, 0.5107679456792726,\n",
       "                      0.88368331547873, 0.6175285952176067,\n",
       "                      0.3418497542434352, 0.5041218732216987,\n",
       "                      0.5677832676290036, 0.6175285952176067,\n",
       "                      0.8262072787566046, 0.9619193211418162,\n",
       "                      0.5041218732216987, 0.36900679698505917,\n",
       "                      0.8350039983320219, 0.8965064109067322,\n",
       "                      0.4389093970540954, 0.520572781710474,\n",
       "                      0.5165846534102196, 0.6628812959823183,\n",
       "                      0.5475914366565494, 0.897400507413769,\n",
       "                      0.9619193211418162, 0.5888658288589199,\n",
       "                      0.6628812959823183, 0.520572781710474,\n",
       "                      0.6659011751963306, 0.8479915273689058,\n",
       "                      0.9737445078279918, 0.9621347480469189,\n",
       "                      0.5913439383147501, 0.5395432503925497,\n",
       "                      0.9198335402131153, 0.5397547288828992,\n",
       "                      0.3342605567281668, 0.6774560069144753,\n",
       "                      0.9815804987502048, 0.4428799597191061,\n",
       "                      0.8479915273689058, 0.5888658288589199,\n",
       "                      0.8959530713187789, 0.4389093970540954,\n",
       "                      0.9737445078279918, 0.9177460443179577,\n",
       "                      0.9468735857446047, 0.7055697166920595,\n",
       "                      0.31741114704340484, 0.9619193211418162,\n",
       "                      0.8350039983320219, 0.9198335402131153],\n",
       "                mask=[False, False, False, False, False, False, False, False,\n",
       "                      False, False, False, False, False, False, False, False,\n",
       "                      False, False, False, False, False, False, False, False,\n",
       "                      False, False, False, False, False, False, False, False,\n",
       "                      False, False, False, False, False, False, False, False,\n",
       "                      False, False, False, False, False, False, False, False,\n",
       "                      False, False, False, False, False, False, False, False,\n",
       "                      False, False, False, False, False, False, False, False,\n",
       "                      False, False, False, False, False, False, False, False,\n",
       "                      False, False, False, False, False, False, False, False,\n",
       "                      False, False, False, False, False, False, False, False,\n",
       "                      False, False, False, False, False, False, False, False,\n",
       "                      False, False, False, False],\n",
       "          fill_value='?',\n",
       "               dtype=object),\n",
       "   'param_max_depth': masked_array(data=[8, 16, 8, 9, 19, 17, 19, 18, 3, 13, 7, 19, 16, 7, 8, 4,\n",
       "                      9, 15, 5, 12, 4, 17, 3, 6, 12, 6, 8, 13, 3, 7, 8, 9,\n",
       "                      13, 14, 17, 3, 14, 8, 13, 5, 8, 13, 16, 8, 14, 18, 14,\n",
       "                      17, 11, 18, 13, 19, 5, 4, 14, 8, 8, 9, 7, 13, 12, 13,\n",
       "                      6, 16, 7, 4, 7, 7, 18, 7, 12, 9, 12, 6, 12, 8, 16, 3,\n",
       "                      12, 12, 4, 8, 17, 8, 8, 6, 7, 16, 6, 11, 6, 14, 13, 8,\n",
       "                      16, 10, 10, 12, 8, 14],\n",
       "                mask=[False, False, False, False, False, False, False, False,\n",
       "                      False, False, False, False, False, False, False, False,\n",
       "                      False, False, False, False, False, False, False, False,\n",
       "                      False, False, False, False, False, False, False, False,\n",
       "                      False, False, False, False, False, False, False, False,\n",
       "                      False, False, False, False, False, False, False, False,\n",
       "                      False, False, False, False, False, False, False, False,\n",
       "                      False, False, False, False, False, False, False, False,\n",
       "                      False, False, False, False, False, False, False, False,\n",
       "                      False, False, False, False, False, False, False, False,\n",
       "                      False, False, False, False, False, False, False, False,\n",
       "                      False, False, False, False, False, False, False, False,\n",
       "                      False, False, False, False],\n",
       "          fill_value='?',\n",
       "               dtype=object),\n",
       "   'params': [{'max_features': 0.4700803590170096, 'max_depth': 8},\n",
       "    {'max_features': 0.5523389837828703, 'max_depth': 16},\n",
       "    {'max_features': 0.36773768682224367, 'max_depth': 8},\n",
       "    {'max_features': 0.31741114704340484, 'max_depth': 9},\n",
       "    {'max_features': 0.9057912604674399, 'max_depth': 19},\n",
       "    {'max_features': 0.9425369433494757, 'max_depth': 17},\n",
       "    {'max_features': 0.5552149037732697, 'max_depth': 19},\n",
       "    {'max_features': 0.8808162353997429, 'max_depth': 18},\n",
       "    {'max_features': 0.6659011751963306, 'max_depth': 3},\n",
       "    {'max_features': 0.9775175250977091, 'max_depth': 13},\n",
       "    {'max_features': 0.88368331547873, 'max_depth': 7},\n",
       "    {'max_features': 0.5475914366565494, 'max_depth': 19},\n",
       "    {'max_features': 0.39762849522565985, 'max_depth': 16},\n",
       "    {'max_features': 0.32804755286692777, 'max_depth': 7},\n",
       "    {'max_features': 0.8440939891261154, 'max_depth': 8},\n",
       "    {'max_features': 0.6749892158621422, 'max_depth': 4},\n",
       "    {'max_features': 0.530634708123896, 'max_depth': 9},\n",
       "    {'max_features': 0.9198335402131153, 'max_depth': 15},\n",
       "    {'max_features': 0.3418497542434352, 'max_depth': 5},\n",
       "    {'max_features': 0.88368331547873, 'max_depth': 12},\n",
       "    {'max_features': 0.4991983989101015, 'max_depth': 4},\n",
       "    {'max_features': 0.5552149037732697, 'max_depth': 17},\n",
       "    {'max_features': 0.715473932600777, 'max_depth': 3},\n",
       "    {'max_features': 0.9177460443179577, 'max_depth': 6},\n",
       "    {'max_features': 0.39762849522565985, 'max_depth': 12},\n",
       "    {'max_features': 0.5165593441921577, 'max_depth': 6},\n",
       "    {'max_features': 0.5165593441921577, 'max_depth': 8},\n",
       "    {'max_features': 0.5165846534102196, 'max_depth': 13},\n",
       "    {'max_features': 0.32178356115428947, 'max_depth': 3},\n",
       "    {'max_features': 0.8262072787566046, 'max_depth': 7},\n",
       "    {'max_features': 0.9057912604674399, 'max_depth': 8},\n",
       "    {'max_features': 0.9222124809107015, 'max_depth': 9},\n",
       "    {'max_features': 0.9177460443179577, 'max_depth': 13},\n",
       "    {'max_features': 0.3161336347151153, 'max_depth': 14},\n",
       "    {'max_features': 0.9057912604674399, 'max_depth': 17},\n",
       "    {'max_features': 0.5165846534102196, 'max_depth': 3},\n",
       "    {'max_features': 0.552856000866597, 'max_depth': 14},\n",
       "    {'max_features': 0.7456090067885269, 'max_depth': 8},\n",
       "    {'max_features': 0.36773768682224367, 'max_depth': 13},\n",
       "    {'max_features': 0.7604034536338999, 'max_depth': 5},\n",
       "    {'max_features': 0.34112274086135097, 'max_depth': 8},\n",
       "    {'max_features': 0.9619193211418162, 'max_depth': 13},\n",
       "    {'max_features': 0.32804755286692777, 'max_depth': 16},\n",
       "    {'max_features': 0.4315401217354158, 'max_depth': 8},\n",
       "    {'max_features': 0.3054767452787487, 'max_depth': 14},\n",
       "    {'max_features': 0.8083510069811992, 'max_depth': 18},\n",
       "    {'max_features': 0.3418497542434352, 'max_depth': 14},\n",
       "    {'max_features': 0.8170412594948107, 'max_depth': 17},\n",
       "    {'max_features': 0.7568056968474108, 'max_depth': 11},\n",
       "    {'max_features': 0.3161336347151153, 'max_depth': 18},\n",
       "    {'max_features': 0.4700803590170096, 'max_depth': 13},\n",
       "    {'max_features': 0.36900679698505917, 'max_depth': 19},\n",
       "    {'max_features': 0.8808162353997429, 'max_depth': 5},\n",
       "    {'max_features': 0.5107679456792726, 'max_depth': 4},\n",
       "    {'max_features': 0.88368331547873, 'max_depth': 14},\n",
       "    {'max_features': 0.6175285952176067, 'max_depth': 8},\n",
       "    {'max_features': 0.3418497542434352, 'max_depth': 8},\n",
       "    {'max_features': 0.5041218732216987, 'max_depth': 9},\n",
       "    {'max_features': 0.5677832676290036, 'max_depth': 7},\n",
       "    {'max_features': 0.6175285952176067, 'max_depth': 13},\n",
       "    {'max_features': 0.8262072787566046, 'max_depth': 12},\n",
       "    {'max_features': 0.9619193211418162, 'max_depth': 13},\n",
       "    {'max_features': 0.5041218732216987, 'max_depth': 6},\n",
       "    {'max_features': 0.36900679698505917, 'max_depth': 16},\n",
       "    {'max_features': 0.8350039983320219, 'max_depth': 7},\n",
       "    {'max_features': 0.8965064109067322, 'max_depth': 4},\n",
       "    {'max_features': 0.4389093970540954, 'max_depth': 7},\n",
       "    {'max_features': 0.520572781710474, 'max_depth': 7},\n",
       "    {'max_features': 0.5165846534102196, 'max_depth': 18},\n",
       "    {'max_features': 0.6628812959823183, 'max_depth': 7},\n",
       "    {'max_features': 0.5475914366565494, 'max_depth': 12},\n",
       "    {'max_features': 0.897400507413769, 'max_depth': 9},\n",
       "    {'max_features': 0.9619193211418162, 'max_depth': 12},\n",
       "    {'max_features': 0.5888658288589199, 'max_depth': 6},\n",
       "    {'max_features': 0.6628812959823183, 'max_depth': 12},\n",
       "    {'max_features': 0.520572781710474, 'max_depth': 8},\n",
       "    {'max_features': 0.6659011751963306, 'max_depth': 16},\n",
       "    {'max_features': 0.8479915273689058, 'max_depth': 3},\n",
       "    {'max_features': 0.9737445078279918, 'max_depth': 12},\n",
       "    {'max_features': 0.9621347480469189, 'max_depth': 12},\n",
       "    {'max_features': 0.5913439383147501, 'max_depth': 4},\n",
       "    {'max_features': 0.5395432503925497, 'max_depth': 8},\n",
       "    {'max_features': 0.9198335402131153, 'max_depth': 17},\n",
       "    {'max_features': 0.5397547288828992, 'max_depth': 8},\n",
       "    {'max_features': 0.3342605567281668, 'max_depth': 8},\n",
       "    {'max_features': 0.6774560069144753, 'max_depth': 6},\n",
       "    {'max_features': 0.9815804987502048, 'max_depth': 7},\n",
       "    {'max_features': 0.4428799597191061, 'max_depth': 16},\n",
       "    {'max_features': 0.8479915273689058, 'max_depth': 6},\n",
       "    {'max_features': 0.5888658288589199, 'max_depth': 11},\n",
       "    {'max_features': 0.8959530713187789, 'max_depth': 6},\n",
       "    {'max_features': 0.4389093970540954, 'max_depth': 14},\n",
       "    {'max_features': 0.9737445078279918, 'max_depth': 13},\n",
       "    {'max_features': 0.9177460443179577, 'max_depth': 8},\n",
       "    {'max_features': 0.9468735857446047, 'max_depth': 16},\n",
       "    {'max_features': 0.7055697166920595, 'max_depth': 10},\n",
       "    {'max_features': 0.31741114704340484, 'max_depth': 10},\n",
       "    {'max_features': 0.9619193211418162, 'max_depth': 12},\n",
       "    {'max_features': 0.8350039983320219, 'max_depth': 8},\n",
       "    {'max_features': 0.9198335402131153, 'max_depth': 14}],\n",
       "   'split0_test_score': array([0.89740003, 0.8842952 , 0.90930043, 0.89885732, 0.80189945,\n",
       "          0.79707692, 0.88574864, 0.82605376, 0.9092871 , 0.78776824,\n",
       "          0.88940427, 0.88619653, 0.90012481, 0.90387879, 0.87446959,\n",
       "          0.90845248, 0.87681353, 0.81846117, 0.90648918, 0.8267664 ,\n",
       "          0.91272365, 0.89032577, 0.90787903, 0.88447573, 0.88199233,\n",
       "          0.90784014, 0.8968629 , 0.8844411 , 0.91661101, 0.89177243,\n",
       "          0.88333838, 0.84569666, 0.82458401, 0.88070241, 0.81514967,\n",
       "          0.90785746, 0.87962963, 0.89725863, 0.90002472, 0.9030038 ,\n",
       "          0.90033917, 0.8027974 , 0.88536229, 0.89456038, 0.88727102,\n",
       "          0.85230769, 0.89720535, 0.86178192, 0.86832187, 0.89289744,\n",
       "          0.87931755, 0.89477796, 0.91384665, 0.91776207, 0.81956477,\n",
       "          0.90102421, 0.90033917, 0.88470466, 0.900885  , 0.88266023,\n",
       "          0.8461137 , 0.8027974 , 0.91235708, 0.87886483, 0.89029236,\n",
       "          0.9113968 , 0.9065658 , 0.90172598, 0.88863673, 0.89721575,\n",
       "          0.88692079, 0.86455628, 0.81897421, 0.90091702, 0.8728738 ,\n",
       "          0.9000124 , 0.86900385, 0.9073004 , 0.7922943 , 0.81897421,\n",
       "          0.91597872, 0.90139441, 0.82512767, 0.90139441, 0.89359743,\n",
       "          0.90808585, 0.87787326, 0.87541961, 0.89857312, 0.88004422,\n",
       "          0.89694242, 0.89381734, 0.78131016, 0.86438534, 0.80702593,\n",
       "          0.86989937, 0.89692884, 0.81897421, 0.88139783, 0.80191933]),\n",
       "   'split1_test_score': array([0.90684759, 0.90024877, 0.91313814, 0.91024131, 0.86531109,\n",
       "          0.84051983, 0.89327614, 0.86695373, 0.92610815, 0.81170123,\n",
       "          0.90983825, 0.91087595, 0.90044197, 0.9111757 , 0.88861605,\n",
       "          0.9247429 , 0.89967421, 0.85991733, 0.91732063, 0.87586894,\n",
       "          0.9235115 , 0.90380065, 0.92889731, 0.91597635, 0.8983543 ,\n",
       "          0.92557389, 0.90964786, 0.90244348, 0.92307434, 0.91110276,\n",
       "          0.88717372, 0.88284318, 0.85461211, 0.90798435, 0.86479493,\n",
       "          0.92611471, 0.90042588, 0.89671796, 0.89745676, 0.92529363,\n",
       "          0.90883458, 0.82720818, 0.91117767, 0.91210863, 0.89524416,\n",
       "          0.8950462 , 0.90732156, 0.88429468, 0.89819723, 0.90168836,\n",
       "          0.91003296, 0.89805014, 0.92293679, 0.92627013, 0.8812864 ,\n",
       "          0.90313597, 0.90883458, 0.91458703, 0.91216167, 0.89434564,\n",
       "          0.88908995, 0.82720818, 0.92530505, 0.90463301, 0.909021  ,\n",
       "          0.92701886, 0.9182331 , 0.90780834, 0.91386302, 0.91914428,\n",
       "          0.90243104, 0.88958351, 0.84343012, 0.91803167, 0.90011405,\n",
       "          0.90812316, 0.89538855, 0.92546487, 0.83360647, 0.84343012,\n",
       "          0.91949907, 0.91239312, 0.86138501, 0.91239312, 0.91930369,\n",
       "          0.91637567, 0.90333293, 0.90350305, 0.9106226 , 0.90005487,\n",
       "          0.91644119, 0.91399567, 0.83062141, 0.89161373, 0.8330784 ,\n",
       "          0.89909893, 0.91589817, 0.84343012, 0.89909859, 0.85754174]),\n",
       "   'split2_test_score': array([0.90003951, 0.8867898 , 0.89033485, 0.88788935, 0.84966722,\n",
       "          0.85346265, 0.89009325, 0.85987897, 0.90586052, 0.81702964,\n",
       "          0.89308745, 0.88123038, 0.8877343 , 0.90274128, 0.8854575 ,\n",
       "          0.91005024, 0.88486216, 0.85322588, 0.89424605, 0.87311883,\n",
       "          0.90922045, 0.88767422, 0.90436096, 0.89970567, 0.88996576,\n",
       "          0.90186093, 0.88300149, 0.89191034, 0.9127581 , 0.89597944,\n",
       "          0.89224191, 0.88100352, 0.84755201, 0.89155645, 0.86225869,\n",
       "          0.90917605, 0.88142331, 0.88535063, 0.88006728, 0.90353962,\n",
       "          0.89591508, 0.82720261, 0.89079867, 0.88784133, 0.89630716,\n",
       "          0.89169321, 0.89111424, 0.87281125, 0.8828833 , 0.88806236,\n",
       "          0.88884061, 0.88362899, 0.90491945, 0.91101002, 0.86570824,\n",
       "          0.88977598, 0.89591508, 0.89777136, 0.8918014 , 0.87980954,\n",
       "          0.86694996, 0.82720261, 0.89191245, 0.89201578, 0.89229494,\n",
       "          0.9033576 , 0.88931018, 0.9056815 , 0.88999267, 0.8964756 ,\n",
       "          0.89355919, 0.88139807, 0.83814465, 0.90436295, 0.88518834,\n",
       "          0.90173776, 0.88628258, 0.90442672, 0.83456433, 0.83814465,\n",
       "          0.90334149, 0.89721604, 0.85433081, 0.89721604, 0.89406969,\n",
       "          0.89640802, 0.88567443, 0.89391325, 0.90136851, 0.88349369,\n",
       "          0.89792868, 0.88729565, 0.81662147, 0.87406904, 0.85538538,\n",
       "          0.88070502, 0.8769352 , 0.83814465, 0.89024493, 0.84910925]),\n",
       "   'split3_test_score': array([0.89115546, 0.88409318, 0.90729369, 0.91913235, 0.81490168,\n",
       "          0.8140118 , 0.88370771, 0.82316987, 0.9213198 , 0.78928921,\n",
       "          0.89377797, 0.88248728, 0.88819885, 0.91051706, 0.87083336,\n",
       "          0.9219466 , 0.88454825, 0.83618972, 0.91589222, 0.83586139,\n",
       "          0.92145413, 0.87728309, 0.91462361, 0.91080417, 0.90049592,\n",
       "          0.91605488, 0.89780203, 0.89184282, 0.92037855, 0.89656705,\n",
       "          0.86720996, 0.84712114, 0.83236796, 0.8911912 , 0.82801319,\n",
       "          0.92178944, 0.87844226, 0.89852932, 0.89647247, 0.90877818,\n",
       "          0.8877726 , 0.80624568, 0.90866091, 0.89892637, 0.89989036,\n",
       "          0.85459445, 0.89686917, 0.85342091, 0.88172066, 0.89825352,\n",
       "          0.88977002, 0.90419193, 0.91482856, 0.92298527, 0.834446  ,\n",
       "          0.89069231, 0.8877726 , 0.89507676, 0.90217273, 0.88749945,\n",
       "          0.85378357, 0.80624568, 0.91412476, 0.89157248, 0.89685128,\n",
       "          0.9218924 , 0.91578268, 0.90719089, 0.88462248, 0.90713425,\n",
       "          0.8913239 , 0.84409665, 0.80374384, 0.9209553 , 0.87875642,\n",
       "          0.89402709, 0.88842014, 0.92075639, 0.80995   , 0.80374384,\n",
       "          0.9153864 , 0.89652468, 0.82680088, 0.89652468, 0.90435203,\n",
       "          0.90917579, 0.88659472, 0.903994  , 0.91163637, 0.8923772 ,\n",
       "          0.91272322, 0.89560177, 0.80075103, 0.87530963, 0.81636601,\n",
       "          0.87417996, 0.90449306, 0.80374384, 0.87602114, 0.833231  ]),\n",
       "   'split4_test_score': array([0.88466065, 0.88656187, 0.89343857, 0.87694969, 0.86024411,\n",
       "          0.84779449, 0.87910377, 0.8726989 , 0.91446848, 0.84036478,\n",
       "          0.8955376 , 0.87542621, 0.90478483, 0.90164248, 0.89184079,\n",
       "          0.90949806, 0.8869491 , 0.85989231, 0.91627139, 0.86486437,\n",
       "          0.92127327, 0.88035415, 0.91192413, 0.90278416, 0.90085944,\n",
       "          0.90334702, 0.89752929, 0.89195322, 0.919466  , 0.89266576,\n",
       "          0.89258763, 0.86397377, 0.86626017, 0.88001435, 0.865917  ,\n",
       "          0.91541381, 0.88750423, 0.87945943, 0.90900564, 0.89807462,\n",
       "          0.88834564, 0.84288677, 0.89628832, 0.90503101, 0.88749528,\n",
       "          0.86792836, 0.89798004, 0.8718922 , 0.88455299, 0.90639497,\n",
       "          0.88278409, 0.88444667, 0.91428843, 0.91899997, 0.88076455,\n",
       "          0.89918667, 0.88834564, 0.89317762, 0.90728619, 0.87360239,\n",
       "          0.87115711, 0.84288677, 0.90425277, 0.89873274, 0.88859598,\n",
       "          0.91136754, 0.89980269, 0.9020959 , 0.89813166, 0.88984137,\n",
       "          0.88744294, 0.87610102, 0.84788768, 0.90412284, 0.88649728,\n",
       "          0.8895119 , 0.8824176 , 0.9148037 , 0.84762533, 0.84788768,\n",
       "          0.9176152 , 0.8894164 , 0.85207935, 0.8894164 , 0.89930343,\n",
       "          0.89944054, 0.88418491, 0.87337543, 0.90404214, 0.89626543,\n",
       "          0.90270624, 0.87999708, 0.84685436, 0.8768903 , 0.85076316,\n",
       "          0.8939871 , 0.88670415, 0.84788768, 0.8947504 , 0.85472432]),\n",
       "   'mean_test_score': array([0.89602065, 0.88839776, 0.90270114, 0.89861401, 0.83840471,\n",
       "          0.83057314, 0.8863859 , 0.84975104, 0.91540881, 0.80923062,\n",
       "          0.89632911, 0.88724327, 0.89625695, 0.90599106, 0.88224346,\n",
       "          0.91493806, 0.88656945, 0.84553728, 0.9100439 , 0.85529599,\n",
       "          0.9176366 , 0.88788758, 0.91353701, 0.90274922, 0.89433355,\n",
       "          0.91093537, 0.89696871, 0.89251819, 0.9184576 , 0.89761749,\n",
       "          0.88451032, 0.86412766, 0.84507525, 0.89028975, 0.8472267 ,\n",
       "          0.91607029, 0.88548506, 0.89146319, 0.89660537, 0.90773797,\n",
       "          0.89624142, 0.82126813, 0.89845757, 0.89969354, 0.8932416 ,\n",
       "          0.87231398, 0.89809807, 0.86884019, 0.88313521, 0.89745933,\n",
       "          0.89014904, 0.89301914, 0.91416398, 0.91940549, 0.85635399,\n",
       "          0.89676303, 0.89624142, 0.89706349, 0.9028614 , 0.88358345,\n",
       "          0.86541886, 0.82126813, 0.90959042, 0.89316377, 0.89541111,\n",
       "          0.91500664, 0.90593889, 0.90490052, 0.89504931, 0.90196225,\n",
       "          0.89233557, 0.87114711, 0.8304361 , 0.90967796, 0.88468598,\n",
       "          0.89868247, 0.88430254, 0.91455041, 0.82360809, 0.8304361 ,\n",
       "          0.91436417, 0.89938893, 0.84394475, 0.89938893, 0.90212525,\n",
       "          0.90589717, 0.88753205, 0.89004107, 0.90524855, 0.89044708,\n",
       "          0.90534835, 0.8941415 , 0.81523169, 0.87645361, 0.83252378,\n",
       "          0.88357408, 0.89619188, 0.8304361 , 0.88830258, 0.83930513]),\n",
       "   'std_test_score': array([0.00758941, 0.00602931, 0.00908068, 0.01510375, 0.0253487 ,\n",
       "          0.02152076, 0.00493615, 0.02094389, 0.0074692 , 0.01946565,\n",
       "          0.00704405, 0.01231273, 0.00696804, 0.00403232, 0.00816911,\n",
       "          0.00693976, 0.00740347, 0.01607769, 0.00881072, 0.02012011,\n",
       "          0.0056086 , 0.00925661, 0.00843722, 0.01079837, 0.00732273,\n",
       "          0.00883181, 0.00844824, 0.00574274, 0.00351896, 0.00699033,\n",
       "          0.00930365, 0.01589977, 0.01501501, 0.01012934, 0.02136364,\n",
       "          0.00705707, 0.00809555, 0.00764962, 0.00937774, 0.00940959,\n",
       "          0.00786829, 0.01486411, 0.01000759, 0.00836703, 0.00502557,\n",
       "          0.01803206, 0.00521858, 0.01050237, 0.00949077, 0.00644166,\n",
       "          0.01066574, 0.00793597, 0.00570932, 0.00516309, 0.02505358,\n",
       "          0.00548304, 0.00786829, 0.00979146, 0.00682316, 0.0070125 ,\n",
       "          0.01485706, 0.01486411, 0.01110104, 0.0086124 , 0.00734386,\n",
       "          0.00841048, 0.01060762, 0.00253987, 0.01038139, 0.01021294,\n",
       "          0.00561599, 0.01577777, 0.01659323, 0.00815874, 0.0091241 ,\n",
       "          0.00641876, 0.00873358, 0.00790893, 0.01981884, 0.01659323,\n",
       "          0.00569364, 0.00755656, 0.01500799, 0.00755656, 0.00944072,\n",
       "          0.00717037, 0.0084675 , 0.01328483, 0.00511383, 0.00756911,\n",
       "          0.00787568, 0.01134333, 0.02279968, 0.00874823, 0.01879813,\n",
       "          0.01125105, 0.01355454, 0.01659323, 0.00849012, 0.02049897]),\n",
       "   'rank_test_score': array([ 46,  61,  25,  32,  90,  92,  67,  84,   5, 100,  41,  65,  42,\n",
       "           17,  75,   7,  66,  86,  13,  83,   3,  63,  11,  24,  49,  12,\n",
       "           38,  54,   2,  35,  70,  81,  87,  58,  85,   4,  68,  56,  40,\n",
       "           16,  43,  97,  33,  28,  51,  77,  34,  79,  74,  36,  59,  53,\n",
       "           10,   1,  82,  39,  43,  37,  23,  72,  80,  97,  15,  52,  47,\n",
       "            6,  18,  22,  48,  27,  55,  78,  93,  14,  69,  31,  71,   8,\n",
       "           96,  93,   9,  29,  88,  29,  26,  19,  64,  60,  21,  57,  20,\n",
       "           50,  99,  76,  91,  73,  45,  93,  62,  89], dtype=int32)}]]"
      ]
     },
     "execution_count": 785,
     "metadata": {},
     "output_type": "execute_result"
    }
   ],
   "source": [
    "results"
   ]
  },
  {
   "cell_type": "code",
   "execution_count": 788,
   "metadata": {},
   "outputs": [],
   "source": [
    "df_cv = pd.DataFrame(results, columns=['model', 'params', 'estimator', 'score', 'cv_result'])"
   ]
  },
  {
   "cell_type": "code",
   "execution_count": 789,
   "metadata": {},
   "outputs": [
    {
     "data": {
      "text/html": [
       "<div>\n",
       "<style scoped>\n",
       "    .dataframe tbody tr th:only-of-type {\n",
       "        vertical-align: middle;\n",
       "    }\n",
       "\n",
       "    .dataframe tbody tr th {\n",
       "        vertical-align: top;\n",
       "    }\n",
       "\n",
       "    .dataframe thead th {\n",
       "        text-align: right;\n",
       "    }\n",
       "</style>\n",
       "<table border=\"1\" class=\"dataframe\">\n",
       "  <thead>\n",
       "    <tr style=\"text-align: right;\">\n",
       "      <th></th>\n",
       "      <th>model</th>\n",
       "      <th>params</th>\n",
       "      <th>estimator</th>\n",
       "      <th>score</th>\n",
       "      <th>cv_result</th>\n",
       "    </tr>\n",
       "  </thead>\n",
       "  <tbody>\n",
       "    <tr>\n",
       "      <th>0</th>\n",
       "      <td>DecisionTreeRegressor</td>\n",
       "      <td>{'max_features': 0.8808162353997429, 'max_dept...</td>\n",
       "      <td>DecisionTreeRegressor(ccp_alpha=0.0, criterion...</td>\n",
       "      <td>0.790005</td>\n",
       "      <td>{'mean_fit_time': [0.013273000717163086, 0.026...</td>\n",
       "    </tr>\n",
       "    <tr>\n",
       "      <th>1</th>\n",
       "      <td>RandomForestRegressor</td>\n",
       "      <td>{'max_features': 0.4700803590170096, 'max_dept...</td>\n",
       "      <td>(DecisionTreeRegressor(ccp_alpha=0.0, criterio...</td>\n",
       "      <td>0.899099</td>\n",
       "      <td>{'mean_fit_time': [0.9090474128723145, 1.56410...</td>\n",
       "    </tr>\n",
       "    <tr>\n",
       "      <th>2</th>\n",
       "      <td>GradientBoostingRegressor</td>\n",
       "      <td>{'max_features': 0.5107679456792726, 'max_dept...</td>\n",
       "      <td>([DecisionTreeRegressor(ccp_alpha=0.0, criteri...</td>\n",
       "      <td>0.919405</td>\n",
       "      <td>{'mean_fit_time': [1.197968339920044, 2.490667...</td>\n",
       "    </tr>\n",
       "  </tbody>\n",
       "</table>\n",
       "</div>"
      ],
      "text/plain": [
       "                       model  \\\n",
       "0      DecisionTreeRegressor   \n",
       "1      RandomForestRegressor   \n",
       "2  GradientBoostingRegressor   \n",
       "\n",
       "                                              params  \\\n",
       "0  {'max_features': 0.8808162353997429, 'max_dept...   \n",
       "1  {'max_features': 0.4700803590170096, 'max_dept...   \n",
       "2  {'max_features': 0.5107679456792726, 'max_dept...   \n",
       "\n",
       "                                           estimator     score  \\\n",
       "0  DecisionTreeRegressor(ccp_alpha=0.0, criterion...  0.790005   \n",
       "1  (DecisionTreeRegressor(ccp_alpha=0.0, criterio...  0.899099   \n",
       "2  ([DecisionTreeRegressor(ccp_alpha=0.0, criteri...  0.919405   \n",
       "\n",
       "                                           cv_result  \n",
       "0  {'mean_fit_time': [0.013273000717163086, 0.026...  \n",
       "1  {'mean_fit_time': [0.9090474128723145, 1.56410...  \n",
       "2  {'mean_fit_time': [1.197968339920044, 2.490667...  "
      ]
     },
     "execution_count": 789,
     "metadata": {},
     "output_type": "execute_result"
    }
   ],
   "source": [
    "df_cv"
   ]
  },
  {
   "cell_type": "code",
   "execution_count": 790,
   "metadata": {},
   "outputs": [],
   "source": [
    "best_estimator = df_cv.loc[2, 'estimator']"
   ]
  },
  {
   "cell_type": "code",
   "execution_count": 795,
   "metadata": {},
   "outputs": [
    {
     "data": {
      "text/html": [
       "<div>\n",
       "<style scoped>\n",
       "    .dataframe tbody tr th:only-of-type {\n",
       "        vertical-align: middle;\n",
       "    }\n",
       "\n",
       "    .dataframe tbody tr th {\n",
       "        vertical-align: top;\n",
       "    }\n",
       "\n",
       "    .dataframe thead th {\n",
       "        text-align: right;\n",
       "    }\n",
       "</style>\n",
       "<table border=\"1\" class=\"dataframe\">\n",
       "  <thead>\n",
       "    <tr style=\"text-align: right;\">\n",
       "      <th></th>\n",
       "      <th>mean_fit_time</th>\n",
       "      <th>std_fit_time</th>\n",
       "      <th>mean_score_time</th>\n",
       "      <th>std_score_time</th>\n",
       "      <th>param_max_features</th>\n",
       "      <th>param_max_depth</th>\n",
       "      <th>params</th>\n",
       "      <th>split0_test_score</th>\n",
       "      <th>split1_test_score</th>\n",
       "      <th>split2_test_score</th>\n",
       "      <th>split3_test_score</th>\n",
       "      <th>split4_test_score</th>\n",
       "      <th>mean_test_score</th>\n",
       "      <th>std_test_score</th>\n",
       "      <th>rank_test_score</th>\n",
       "    </tr>\n",
       "  </thead>\n",
       "  <tbody>\n",
       "    <tr>\n",
       "      <th>53</th>\n",
       "      <td>0.663744</td>\n",
       "      <td>0.010868</td>\n",
       "      <td>0.003182</td>\n",
       "      <td>0.000082</td>\n",
       "      <td>0.510768</td>\n",
       "      <td>4</td>\n",
       "      <td>{'max_features': 0.5107679456792726, 'max_dept...</td>\n",
       "      <td>0.917762</td>\n",
       "      <td>0.926270</td>\n",
       "      <td>0.911010</td>\n",
       "      <td>0.922985</td>\n",
       "      <td>0.919000</td>\n",
       "      <td>0.919405</td>\n",
       "      <td>0.005163</td>\n",
       "      <td>1</td>\n",
       "    </tr>\n",
       "    <tr>\n",
       "      <th>28</th>\n",
       "      <td>0.354797</td>\n",
       "      <td>0.003761</td>\n",
       "      <td>0.003181</td>\n",
       "      <td>0.000167</td>\n",
       "      <td>0.321784</td>\n",
       "      <td>3</td>\n",
       "      <td>{'max_features': 0.32178356115428947, 'max_dep...</td>\n",
       "      <td>0.916611</td>\n",
       "      <td>0.923074</td>\n",
       "      <td>0.912758</td>\n",
       "      <td>0.920379</td>\n",
       "      <td>0.919466</td>\n",
       "      <td>0.918458</td>\n",
       "      <td>0.003519</td>\n",
       "      <td>2</td>\n",
       "    </tr>\n",
       "    <tr>\n",
       "      <th>20</th>\n",
       "      <td>0.656737</td>\n",
       "      <td>0.012133</td>\n",
       "      <td>0.003302</td>\n",
       "      <td>0.000040</td>\n",
       "      <td>0.499198</td>\n",
       "      <td>4</td>\n",
       "      <td>{'max_features': 0.4991983989101015, 'max_dept...</td>\n",
       "      <td>0.912724</td>\n",
       "      <td>0.923511</td>\n",
       "      <td>0.909220</td>\n",
       "      <td>0.921454</td>\n",
       "      <td>0.921273</td>\n",
       "      <td>0.917637</td>\n",
       "      <td>0.005609</td>\n",
       "      <td>3</td>\n",
       "    </tr>\n",
       "    <tr>\n",
       "      <th>35</th>\n",
       "      <td>0.522138</td>\n",
       "      <td>0.009408</td>\n",
       "      <td>0.003042</td>\n",
       "      <td>0.000083</td>\n",
       "      <td>0.516585</td>\n",
       "      <td>3</td>\n",
       "      <td>{'max_features': 0.5165846534102196, 'max_dept...</td>\n",
       "      <td>0.907857</td>\n",
       "      <td>0.926115</td>\n",
       "      <td>0.909176</td>\n",
       "      <td>0.921789</td>\n",
       "      <td>0.915414</td>\n",
       "      <td>0.916070</td>\n",
       "      <td>0.007057</td>\n",
       "      <td>4</td>\n",
       "    </tr>\n",
       "    <tr>\n",
       "      <th>8</th>\n",
       "      <td>0.695301</td>\n",
       "      <td>0.013366</td>\n",
       "      <td>0.003277</td>\n",
       "      <td>0.000159</td>\n",
       "      <td>0.665901</td>\n",
       "      <td>3</td>\n",
       "      <td>{'max_features': 0.6659011751963306, 'max_dept...</td>\n",
       "      <td>0.909287</td>\n",
       "      <td>0.926108</td>\n",
       "      <td>0.905861</td>\n",
       "      <td>0.921320</td>\n",
       "      <td>0.914468</td>\n",
       "      <td>0.915409</td>\n",
       "      <td>0.007469</td>\n",
       "      <td>5</td>\n",
       "    </tr>\n",
       "  </tbody>\n",
       "</table>\n",
       "</div>"
      ],
      "text/plain": [
       "    mean_fit_time  std_fit_time  mean_score_time  std_score_time  \\\n",
       "53       0.663744      0.010868         0.003182        0.000082   \n",
       "28       0.354797      0.003761         0.003181        0.000167   \n",
       "20       0.656737      0.012133         0.003302        0.000040   \n",
       "35       0.522138      0.009408         0.003042        0.000083   \n",
       "8        0.695301      0.013366         0.003277        0.000159   \n",
       "\n",
       "   param_max_features param_max_depth  \\\n",
       "53           0.510768               4   \n",
       "28           0.321784               3   \n",
       "20           0.499198               4   \n",
       "35           0.516585               3   \n",
       "8            0.665901               3   \n",
       "\n",
       "                                               params  split0_test_score  \\\n",
       "53  {'max_features': 0.5107679456792726, 'max_dept...           0.917762   \n",
       "28  {'max_features': 0.32178356115428947, 'max_dep...           0.916611   \n",
       "20  {'max_features': 0.4991983989101015, 'max_dept...           0.912724   \n",
       "35  {'max_features': 0.5165846534102196, 'max_dept...           0.907857   \n",
       "8   {'max_features': 0.6659011751963306, 'max_dept...           0.909287   \n",
       "\n",
       "    split1_test_score  split2_test_score  split3_test_score  \\\n",
       "53           0.926270           0.911010           0.922985   \n",
       "28           0.923074           0.912758           0.920379   \n",
       "20           0.923511           0.909220           0.921454   \n",
       "35           0.926115           0.909176           0.921789   \n",
       "8            0.926108           0.905861           0.921320   \n",
       "\n",
       "    split4_test_score  mean_test_score  std_test_score  rank_test_score  \n",
       "53           0.919000         0.919405        0.005163                1  \n",
       "28           0.919466         0.918458        0.003519                2  \n",
       "20           0.921273         0.917637        0.005609                3  \n",
       "35           0.915414         0.916070        0.007057                4  \n",
       "8            0.914468         0.915409        0.007469                5  "
      ]
     },
     "execution_count": 795,
     "metadata": {},
     "output_type": "execute_result"
    }
   ],
   "source": [
    "pd.DataFrame(df_cv.loc[2, 'cv_result']).sort_values(by='rank_test_score').head()"
   ]
  },
  {
   "cell_type": "code",
   "execution_count": 796,
   "metadata": {},
   "outputs": [
    {
     "data": {
      "text/plain": [
       "GradientBoostingRegressor(alpha=0.9, ccp_alpha=0.0, criterion='friedman_mse',\n",
       "                          init=None, learning_rate=0.1, loss='ls', max_depth=4,\n",
       "                          max_features=0.5107679456792726, max_leaf_nodes=None,\n",
       "                          min_impurity_decrease=0.0, min_impurity_split=None,\n",
       "                          min_samples_leaf=1, min_samples_split=2,\n",
       "                          min_weight_fraction_leaf=0.0, n_estimators=100,\n",
       "                          n_iter_no_change=None, presort='deprecated',\n",
       "                          random_state=42, subsample=1.0, tol=0.0001,\n",
       "                          validation_fraction=0.1, verbose=0, warm_start=False)"
      ]
     },
     "execution_count": 796,
     "metadata": {},
     "output_type": "execute_result"
    }
   ],
   "source": [
    "best_estimator"
   ]
  },
  {
   "cell_type": "code",
   "execution_count": null,
   "metadata": {},
   "outputs": [],
   "source": []
  },
  {
   "cell_type": "code",
   "execution_count": null,
   "metadata": {},
   "outputs": [],
   "source": []
  },
  {
   "cell_type": "markdown",
   "metadata": {},
   "source": [
    "## best_estimator로 y_predict만들기"
   ]
  },
  {
   "cell_type": "code",
   "execution_count": 799,
   "metadata": {},
   "outputs": [],
   "source": [
    "from sklearn.ensemble import GradientBoostingRegressor\n",
    "\n",
    "model = GradientBoostingRegressor(alpha=0.9, ccp_alpha=0.0, criterion='friedman_mse',\n",
    "                          init=None, learning_rate=0.1, loss='ls', max_depth=4,\n",
    "                          max_features=0.5107679456792726, max_leaf_nodes=None,\n",
    "                          min_impurity_decrease=0.0, min_impurity_split=None,\n",
    "                          min_samples_leaf=1, min_samples_split=2,\n",
    "                          min_weight_fraction_leaf=0.0, n_estimators=100,\n",
    "                          n_iter_no_change=None, presort='deprecated',\n",
    "                          random_state=42, subsample=1.0, tol=0.0001,\n",
    "                          validation_fraction=0.1, verbose=0, warm_start=False)"
   ]
  },
  {
   "cell_type": "code",
   "execution_count": 800,
   "metadata": {},
   "outputs": [
    {
     "data": {
      "text/plain": [
       "GradientBoostingRegressor(alpha=0.9, ccp_alpha=0.0, criterion='friedman_mse',\n",
       "                          init=None, learning_rate=0.1, loss='ls', max_depth=4,\n",
       "                          max_features=0.5107679456792726, max_leaf_nodes=None,\n",
       "                          min_impurity_decrease=0.0, min_impurity_split=None,\n",
       "                          min_samples_leaf=1, min_samples_split=2,\n",
       "                          min_weight_fraction_leaf=0.0, n_estimators=100,\n",
       "                          n_iter_no_change=None, presort='deprecated',\n",
       "                          random_state=42, subsample=1.0, tol=0.0001,\n",
       "                          validation_fraction=0.1, verbose=0, warm_start=False)"
      ]
     },
     "execution_count": 800,
     "metadata": {},
     "output_type": "execute_result"
    }
   ],
   "source": [
    "model.fit(X_train, y_train)"
   ]
  },
  {
   "cell_type": "code",
   "execution_count": 802,
   "metadata": {},
   "outputs": [],
   "source": [
    "y_predict = model.predict(X_test)"
   ]
  },
  {
   "cell_type": "code",
   "execution_count": 803,
   "metadata": {},
   "outputs": [
    {
     "data": {
      "text/plain": [
       "1459"
      ]
     },
     "execution_count": 803,
     "metadata": {},
     "output_type": "execute_result"
    }
   ],
   "source": [
    "len(y_predict)"
   ]
  },
  {
   "cell_type": "code",
   "execution_count": null,
   "metadata": {},
   "outputs": [],
   "source": []
  },
  {
   "cell_type": "code",
   "execution_count": null,
   "metadata": {},
   "outputs": [],
   "source": []
  },
  {
   "cell_type": "code",
   "execution_count": null,
   "metadata": {},
   "outputs": [],
   "source": []
  },
  {
   "cell_type": "code",
   "execution_count": null,
   "metadata": {},
   "outputs": [],
   "source": []
  },
  {
   "cell_type": "code",
   "execution_count": null,
   "metadata": {},
   "outputs": [],
   "source": []
  },
  {
   "cell_type": "code",
   "execution_count": null,
   "metadata": {},
   "outputs": [],
   "source": []
  },
  {
   "cell_type": "code",
   "execution_count": null,
   "metadata": {},
   "outputs": [],
   "source": []
  },
  {
   "cell_type": "code",
   "execution_count": null,
   "metadata": {},
   "outputs": [],
   "source": []
  },
  {
   "cell_type": "code",
   "execution_count": null,
   "metadata": {},
   "outputs": [],
   "source": []
  },
  {
   "cell_type": "code",
   "execution_count": null,
   "metadata": {},
   "outputs": [],
   "source": []
  },
  {
   "cell_type": "code",
   "execution_count": null,
   "metadata": {},
   "outputs": [],
   "source": []
  },
  {
   "cell_type": "markdown",
   "metadata": {},
   "source": [
    "# Submission"
   ]
  },
  {
   "cell_type": "code",
   "execution_count": 804,
   "metadata": {},
   "outputs": [],
   "source": [
    "submission = pd.read_csv('data/sample_submission.csv')"
   ]
  },
  {
   "cell_type": "code",
   "execution_count": 805,
   "metadata": {},
   "outputs": [
    {
     "data": {
      "text/html": [
       "<div>\n",
       "<style scoped>\n",
       "    .dataframe tbody tr th:only-of-type {\n",
       "        vertical-align: middle;\n",
       "    }\n",
       "\n",
       "    .dataframe tbody tr th {\n",
       "        vertical-align: top;\n",
       "    }\n",
       "\n",
       "    .dataframe thead th {\n",
       "        text-align: right;\n",
       "    }\n",
       "</style>\n",
       "<table border=\"1\" class=\"dataframe\">\n",
       "  <thead>\n",
       "    <tr style=\"text-align: right;\">\n",
       "      <th></th>\n",
       "      <th>Id</th>\n",
       "      <th>SalePrice</th>\n",
       "    </tr>\n",
       "  </thead>\n",
       "  <tbody>\n",
       "    <tr>\n",
       "      <th>0</th>\n",
       "      <td>1461</td>\n",
       "      <td>169277.052498</td>\n",
       "    </tr>\n",
       "    <tr>\n",
       "      <th>1</th>\n",
       "      <td>1462</td>\n",
       "      <td>187758.393989</td>\n",
       "    </tr>\n",
       "    <tr>\n",
       "      <th>2</th>\n",
       "      <td>1463</td>\n",
       "      <td>183583.683570</td>\n",
       "    </tr>\n",
       "    <tr>\n",
       "      <th>3</th>\n",
       "      <td>1464</td>\n",
       "      <td>179317.477511</td>\n",
       "    </tr>\n",
       "    <tr>\n",
       "      <th>4</th>\n",
       "      <td>1465</td>\n",
       "      <td>150730.079977</td>\n",
       "    </tr>\n",
       "    <tr>\n",
       "      <th>...</th>\n",
       "      <td>...</td>\n",
       "      <td>...</td>\n",
       "    </tr>\n",
       "    <tr>\n",
       "      <th>1454</th>\n",
       "      <td>2915</td>\n",
       "      <td>167081.220949</td>\n",
       "    </tr>\n",
       "    <tr>\n",
       "      <th>1455</th>\n",
       "      <td>2916</td>\n",
       "      <td>164788.778231</td>\n",
       "    </tr>\n",
       "    <tr>\n",
       "      <th>1456</th>\n",
       "      <td>2917</td>\n",
       "      <td>219222.423400</td>\n",
       "    </tr>\n",
       "    <tr>\n",
       "      <th>1457</th>\n",
       "      <td>2918</td>\n",
       "      <td>184924.279659</td>\n",
       "    </tr>\n",
       "    <tr>\n",
       "      <th>1458</th>\n",
       "      <td>2919</td>\n",
       "      <td>187741.866657</td>\n",
       "    </tr>\n",
       "  </tbody>\n",
       "</table>\n",
       "<p>1459 rows × 2 columns</p>\n",
       "</div>"
      ],
      "text/plain": [
       "        Id      SalePrice\n",
       "0     1461  169277.052498\n",
       "1     1462  187758.393989\n",
       "2     1463  183583.683570\n",
       "3     1464  179317.477511\n",
       "4     1465  150730.079977\n",
       "...    ...            ...\n",
       "1454  2915  167081.220949\n",
       "1455  2916  164788.778231\n",
       "1456  2917  219222.423400\n",
       "1457  2918  184924.279659\n",
       "1458  2919  187741.866657\n",
       "\n",
       "[1459 rows x 2 columns]"
      ]
     },
     "execution_count": 805,
     "metadata": {},
     "output_type": "execute_result"
    }
   ],
   "source": [
    "submission"
   ]
  },
  {
   "cell_type": "code",
   "execution_count": 806,
   "metadata": {},
   "outputs": [],
   "source": [
    "submission['SalePrice'] = y_predict"
   ]
  },
  {
   "cell_type": "code",
   "execution_count": 807,
   "metadata": {},
   "outputs": [],
   "source": [
    "submission.to_csv('data/submission6.csv', index=False)"
   ]
  },
  {
   "cell_type": "code",
   "execution_count": null,
   "metadata": {},
   "outputs": [],
   "source": [
    "# sub5/RandomForest = 0.14943 \n",
    "# sub6/Best_estimator = 0.13832"
   ]
  },
  {
   "cell_type": "code",
   "execution_count": null,
   "metadata": {},
   "outputs": [],
   "source": []
  },
  {
   "cell_type": "code",
   "execution_count": null,
   "metadata": {},
   "outputs": [],
   "source": []
  },
  {
   "cell_type": "code",
   "execution_count": null,
   "metadata": {},
   "outputs": [],
   "source": []
  },
  {
   "cell_type": "code",
   "execution_count": null,
   "metadata": {},
   "outputs": [],
   "source": []
  },
  {
   "cell_type": "code",
   "execution_count": null,
   "metadata": {},
   "outputs": [],
   "source": []
  },
  {
   "cell_type": "code",
   "execution_count": null,
   "metadata": {},
   "outputs": [],
   "source": []
  },
  {
   "cell_type": "code",
   "execution_count": null,
   "metadata": {},
   "outputs": [],
   "source": []
  },
  {
   "cell_type": "code",
   "execution_count": null,
   "metadata": {},
   "outputs": [],
   "source": []
  },
  {
   "cell_type": "code",
   "execution_count": null,
   "metadata": {},
   "outputs": [],
   "source": []
  },
  {
   "cell_type": "code",
   "execution_count": null,
   "metadata": {},
   "outputs": [],
   "source": []
  },
  {
   "cell_type": "code",
   "execution_count": null,
   "metadata": {},
   "outputs": [],
   "source": []
  },
  {
   "cell_type": "code",
   "execution_count": null,
   "metadata": {},
   "outputs": [],
   "source": []
  },
  {
   "cell_type": "code",
   "execution_count": null,
   "metadata": {},
   "outputs": [],
   "source": []
  },
  {
   "cell_type": "code",
   "execution_count": null,
   "metadata": {},
   "outputs": [],
   "source": []
  },
  {
   "cell_type": "code",
   "execution_count": null,
   "metadata": {},
   "outputs": [],
   "source": []
  },
  {
   "cell_type": "code",
   "execution_count": null,
   "metadata": {},
   "outputs": [],
   "source": []
  },
  {
   "cell_type": "code",
   "execution_count": null,
   "metadata": {},
   "outputs": [],
   "source": []
  },
  {
   "cell_type": "code",
   "execution_count": null,
   "metadata": {},
   "outputs": [],
   "source": []
  },
  {
   "cell_type": "code",
   "execution_count": null,
   "metadata": {},
   "outputs": [],
   "source": []
  },
  {
   "cell_type": "code",
   "execution_count": null,
   "metadata": {},
   "outputs": [],
   "source": []
  },
  {
   "cell_type": "code",
   "execution_count": null,
   "metadata": {},
   "outputs": [],
   "source": []
  },
  {
   "cell_type": "code",
   "execution_count": null,
   "metadata": {},
   "outputs": [],
   "source": []
  },
  {
   "cell_type": "code",
   "execution_count": null,
   "metadata": {},
   "outputs": [],
   "source": []
  },
  {
   "cell_type": "code",
   "execution_count": null,
   "metadata": {},
   "outputs": [],
   "source": []
  },
  {
   "cell_type": "code",
   "execution_count": null,
   "metadata": {},
   "outputs": [],
   "source": []
  },
  {
   "cell_type": "code",
   "execution_count": null,
   "metadata": {},
   "outputs": [],
   "source": []
  },
  {
   "cell_type": "code",
   "execution_count": null,
   "metadata": {},
   "outputs": [],
   "source": []
  },
  {
   "cell_type": "code",
   "execution_count": null,
   "metadata": {},
   "outputs": [],
   "source": []
  }
 ],
 "metadata": {
  "kernelspec": {
   "display_name": "Python 3",
   "language": "python",
   "name": "python3"
  },
  "language_info": {
   "codemirror_mode": {
    "name": "ipython",
    "version": 3
   },
   "file_extension": ".py",
   "mimetype": "text/x-python",
   "name": "python",
   "nbconvert_exporter": "python",
   "pygments_lexer": "ipython3",
   "version": "3.7.6"
  },
  "toc": {
   "base_numbering": 1,
   "nav_menu": {},
   "number_sections": true,
   "sideBar": true,
   "skip_h1_title": false,
   "title_cell": "Table of Contents",
   "title_sidebar": "Contents",
   "toc_cell": false,
   "toc_position": {
    "height": "calc(100% - 180px)",
    "left": "10px",
    "top": "150px",
    "width": "358.391px"
   },
   "toc_section_display": true,
   "toc_window_display": false
  }
 },
 "nbformat": 4,
 "nbformat_minor": 4
}
